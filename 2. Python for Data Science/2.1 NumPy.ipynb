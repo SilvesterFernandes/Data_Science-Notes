{
 "cells": [
  {
   "cell_type": "markdown",
   "id": "4bf300ba-0e14-4b1f-8f1c-16bce5f21b4d",
   "metadata": {},
   "source": [
    "#### ______________________________________________________________________________________________________________________\n",
    "<h1 style=\"color:#219759;  font-weight: bold;\">2.1 : NumPy</h1>\n",
    "    `\n",
    "\n",
    "( **Num** erical  **Py** thon)\n",
    "\n",
    "\n",
    "________________________________________________________________________________________________________________________"
   ]
  },
  {
   "cell_type": "markdown",
   "id": "436a0585-327c-4cca-8432-9f7a75596947",
   "metadata": {},
   "source": [
    "<h3 style=\"color:#49abe3 ; font-weight: bold;\">Introduction :</h3>\n",
    "\n",
    "> NumPy is a powerful library for **numerical computing** in Python.\n",
    "\n",
    "> It provides **support for arrays, matrices, and many mathematical functions**."
   ]
  },
  {
   "cell_type": "code",
   "execution_count": 2,
   "id": "921113ef-6ad8-4bd5-a04d-97f94621481a",
   "metadata": {},
   "outputs": [],
   "source": [
    "import numpy as np"
   ]
  },
  {
   "cell_type": "markdown",
   "id": "43bbc8e1-017d-4309-8277-bac13ad11c0b",
   "metadata": {},
   "source": [
    "<h4 style=\"color:#e86f13 ; font-weight: bold;\">NumPy Arrays :</h4>"
   ]
  },
  {
   "cell_type": "markdown",
   "id": "800a3204-6b5f-4a39-bd10-46a3f74bfd51",
   "metadata": {},
   "source": [
    "<h4 style=\"color:#29bd6f; font-weight: bold;\">1)   0-D Array :</h4>\n",
    "\n",
    "- 0-D array is the simplest form of a NumPy array and is essentially a scalar. \n",
    "- It contains a single element."
   ]
  },
  {
   "cell_type": "markdown",
   "id": "ce358dbc-9e17-4e26-a968-71d7b003fa7d",
   "metadata": {},
   "source": [
    "<h4 style=\"color:#f84352; font-weight: bold;\">Creating Arrays :</h4>"
   ]
  },
  {
   "cell_type": "markdown",
   "id": "5700e80a-121e-4249-bbd2-86ca09588f35",
   "metadata": {},
   "source": [
    "**1. From a Python list:**"
   ]
  },
  {
   "cell_type": "code",
   "execution_count": 3,
   "id": "13ae1eef-b0b7-4946-9d85-a8c985431f4e",
   "metadata": {},
   "outputs": [
    {
     "name": "stdout",
     "output_type": "stream",
     "text": [
      "[1 2 3 4 5]\n"
     ]
    }
   ],
   "source": [
    "arr_0D = np.array([1, 2, 3, 4, 5])\n",
    "print(arr_0D)"
   ]
  },
  {
   "cell_type": "markdown",
   "id": "b34184eb-9831-4df0-b055-c7009789bee9",
   "metadata": {},
   "source": [
    "<h4 style=\"color:#f84352; font-weight: bold;\"> Arrays Attributes :</h4>\n",
    "\n",
    "NumPy arrays have several attributes:\n",
    "\n",
    "> **shape** : Shape of the arra\n",
    "\n",
    "> **ndim**  : Number of dimensions\n",
    "\n",
    "> **size** : Total number of elements\n",
    "\n",
    "> **dtype** : Data type of elements"
   ]
  },
  {
   "cell_type": "markdown",
   "id": "2f9081f8-c923-4c77-9d68-c7428ac37ef7",
   "metadata": {},
   "source": [
    "***"
   ]
  },
  {
   "cell_type": "code",
   "execution_count": 4,
   "id": "b78cdf0d-b6eb-445c-92a5-860343e50b23",
   "metadata": {},
   "outputs": [
    {
     "name": "stdout",
     "output_type": "stream",
     "text": [
      "10\n",
      "<class 'numpy.ndarray'>\n"
     ]
    }
   ],
   "source": [
    "a = 10\n",
    "arr_0d = np.array(a)\n",
    "print(arr_0d)\n",
    "print(type(arr_0d))"
   ]
  },
  {
   "cell_type": "code",
   "execution_count": 5,
   "id": "954c6827-7de5-4bcd-a0cb-97252078a6b5",
   "metadata": {},
   "outputs": [
    {
     "data": {
      "text/plain": [
       "()"
      ]
     },
     "execution_count": 5,
     "metadata": {},
     "output_type": "execute_result"
    }
   ],
   "source": [
    "arr_0d.shape  # Shape of the array"
   ]
  },
  {
   "cell_type": "code",
   "execution_count": 6,
   "id": "145337ab-9f68-467f-a3a1-ff8e92b130c2",
   "metadata": {},
   "outputs": [
    {
     "data": {
      "text/plain": [
       "0"
      ]
     },
     "execution_count": 6,
     "metadata": {},
     "output_type": "execute_result"
    }
   ],
   "source": [
    "arr_0d.ndim   # Number of dimensions"
   ]
  },
  {
   "cell_type": "code",
   "execution_count": 7,
   "id": "3ff9eb1a-39ed-4335-b360-3cbaee67a666",
   "metadata": {},
   "outputs": [
    {
     "data": {
      "text/plain": [
       "1"
      ]
     },
     "execution_count": 7,
     "metadata": {},
     "output_type": "execute_result"
    }
   ],
   "source": [
    "arr_0d.size   # Total number of elements"
   ]
  },
  {
   "cell_type": "code",
   "execution_count": 8,
   "id": "5f6e88ab-1f68-40d9-950f-c82c01c416f9",
   "metadata": {},
   "outputs": [
    {
     "data": {
      "text/plain": [
       "dtype('int64')"
      ]
     },
     "execution_count": 8,
     "metadata": {},
     "output_type": "execute_result"
    }
   ],
   "source": [
    "arr_0d.dtype  # Data type of elements"
   ]
  },
  {
   "cell_type": "code",
   "execution_count": null,
   "id": "6a3bbe09-8710-4d33-a194-de61a1458f7c",
   "metadata": {},
   "outputs": [],
   "source": []
  },
  {
   "cell_type": "markdown",
   "id": "99c6a58b-2812-4c64-861d-a0a3fd1a5053",
   "metadata": {},
   "source": [
    "<h4 style=\"color:#29bd6f; font-weight: bold;\">2) 1-D Array :</h4>\n",
    "\n",
    "- **1-D arrays**, also **known as vectors**, are a **fundamental data structure in NumPy**.\n"
   ]
  },
  {
   "cell_type": "markdown",
   "id": "e4288813-42b2-4978-93a9-3aabf5ef3fec",
   "metadata": {},
   "source": [
    "<h4 style=\"color:#f84352; font-weight: bold;\">Creating Arrays :</h4>"
   ]
  },
  {
   "cell_type": "markdown",
   "id": "61944986-c209-40d6-81a0-a82b8a79f83b",
   "metadata": {},
   "source": [
    "**1. From a Python list:**"
   ]
  },
  {
   "cell_type": "code",
   "execution_count": 9,
   "id": "06ec9f41-1fe4-4287-b83b-f36288fe92ef",
   "metadata": {},
   "outputs": [
    {
     "name": "stdout",
     "output_type": "stream",
     "text": [
      "[1 2 3 4 5]\n"
     ]
    }
   ],
   "source": [
    "array_1D = np.array([1, 2, 3, 4, 5])\n",
    "print(array_1D)"
   ]
  },
  {
   "cell_type": "markdown",
   "id": "53552908-2837-44f1-8471-a6f69ee64d79",
   "metadata": {},
   "source": [
    "**2. Using built-in functions like `np.zeros`, `np.ones`, `np.arange`, and `np.linspace`:**"
   ]
  },
  {
   "cell_type": "markdown",
   "id": "efd82690-7a61-4999-9620-4b4b2ca39b79",
   "metadata": {},
   "source": [
    "**i) Zeros:**\n",
    "- Generate a Arrays of zeros\n",
    "- **Syntax:** -  : np.zeros(shape)"
   ]
  },
  {
   "cell_type": "code",
   "execution_count": 10,
   "id": "0ce4bf86-7d56-4007-bd87-d82671e1cfde",
   "metadata": {},
   "outputs": [
    {
     "name": "stdout",
     "output_type": "stream",
     "text": [
      "[0. 0. 0. 0. 0. 0. 0. 0. 0. 0.]\n"
     ]
    }
   ],
   "source": [
    "array_zeros = np.zeros(10)  # Array of zeros\n",
    "\n",
    "print(array_zeros)"
   ]
  },
  {
   "cell_type": "markdown",
   "id": "9d084285-45fb-45d5-a249-75c94c493135",
   "metadata": {},
   "source": [
    "**ii) ones:**\n",
    "- Generate a Arrays of ones\n",
    "- **Syntax:** -  : np.ones(shape)"
   ]
  },
  {
   "cell_type": "code",
   "execution_count": 11,
   "id": "0ec0fb06-39ec-4deb-958b-92104f442da7",
   "metadata": {},
   "outputs": [
    {
     "name": "stdout",
     "output_type": "stream",
     "text": [
      "[1. 1. 1. 1. 1. 1. 1. 1. 1.]\n"
     ]
    }
   ],
   "source": [
    "array_ones = np.ones(9)    # Array of ones\n",
    "\n",
    "print(array_ones) "
   ]
  },
  {
   "cell_type": "markdown",
   "id": "8afe0ac2-4730-4e2d-931b-26956b8bbb04",
   "metadata": {},
   "source": [
    "**iii) arange :** \n",
    "- arange is an array-valued version of the built-in python range function\n",
    "- **Syntax -:** np.arrange(start,end,step)  "
   ]
  },
  {
   "cell_type": "code",
   "execution_count": 12,
   "id": "b3eefbab-262a-43a4-ac47-5c997c25283a",
   "metadata": {},
   "outputs": [
    {
     "name": "stdout",
     "output_type": "stream",
     "text": [
      "[0 1 2 3 4 5 6 7 8 9]\n"
     ]
    }
   ],
   "source": [
    "array_arange = np.arange(10)  # Array with values from 0 to 4\n",
    "\n",
    "print(array_arange)"
   ]
  },
  {
   "cell_type": "markdown",
   "id": "ef9bb75a-ffd5-478f-afbe-8f17074930ac",
   "metadata": {},
   "source": [
    "**iv) linespace :** \n",
    "- Return evenly spaced Numbers over a specified interval.\n",
    "- **Syntax -:** np.linespace(start,end,num_of_samples)  "
   ]
  },
  {
   "cell_type": "code",
   "execution_count": 13,
   "id": "180beb9f-f04f-45b3-aa38-2f40677480cb",
   "metadata": {},
   "outputs": [
    {
     "name": "stdout",
     "output_type": "stream",
     "text": [
      "[1. 2. 3. 4. 5.]\n"
     ]
    }
   ],
   "source": [
    "array_linspace = np.linspace(1, 5, 5)  # 5 values between 0 and 1\n",
    "\n",
    "print(array_linspace)"
   ]
  },
  {
   "cell_type": "markdown",
   "id": "4bc7807d-5244-4e8e-91f2-c90896e38c4f",
   "metadata": {},
   "source": [
    "***"
   ]
  },
  {
   "cell_type": "code",
   "execution_count": 14,
   "id": "59215541-c152-439d-8840-377bb1e60635",
   "metadata": {},
   "outputs": [
    {
     "name": "stdout",
     "output_type": "stream",
     "text": [
      "[1 2 3]\n"
     ]
    }
   ],
   "source": [
    "# Creating 1D Array\n",
    "a=[1,2,3]\n",
    "array_1D = np.array(a)\n",
    "print(array_1D)"
   ]
  },
  {
   "cell_type": "code",
   "execution_count": 15,
   "id": "bed8beaa-3561-431a-9d41-6f7965f334d7",
   "metadata": {},
   "outputs": [
    {
     "data": {
      "text/plain": [
       "(3,)"
      ]
     },
     "execution_count": 15,
     "metadata": {},
     "output_type": "execute_result"
    }
   ],
   "source": [
    "array_1D.shape"
   ]
  },
  {
   "cell_type": "code",
   "execution_count": 16,
   "id": "8843ab7a-5108-45cf-a0f6-65ad577bff92",
   "metadata": {},
   "outputs": [
    {
     "data": {
      "text/plain": [
       "1"
      ]
     },
     "execution_count": 16,
     "metadata": {},
     "output_type": "execute_result"
    }
   ],
   "source": [
    "array_1D.ndim"
   ]
  },
  {
   "cell_type": "code",
   "execution_count": 17,
   "id": "6d25258f-84f8-44c2-aede-1e939371d8a0",
   "metadata": {},
   "outputs": [
    {
     "data": {
      "text/plain": [
       "3"
      ]
     },
     "execution_count": 17,
     "metadata": {},
     "output_type": "execute_result"
    }
   ],
   "source": [
    "array_1D.size"
   ]
  },
  {
   "cell_type": "code",
   "execution_count": 18,
   "id": "78abc7ec-a5db-4141-8382-1a3b1df0331c",
   "metadata": {},
   "outputs": [
    {
     "data": {
      "text/plain": [
       "dtype('int64')"
      ]
     },
     "execution_count": 18,
     "metadata": {},
     "output_type": "execute_result"
    }
   ],
   "source": [
    "array_1D.dtype"
   ]
  },
  {
   "cell_type": "code",
   "execution_count": null,
   "id": "53bcd1a6-303f-474c-80c4-50b77ce35296",
   "metadata": {},
   "outputs": [],
   "source": []
  },
  {
   "cell_type": "markdown",
   "id": "63b875c3-2e43-47a9-9c67-75483fa2edfe",
   "metadata": {},
   "source": [
    "<h4 style=\"color:#29bd6f; font-weight: bold;\">3) 2-D Array :</h4>\n",
    "\n",
    "- **2-D arrays**, **also known as matrices**, are a fundamental data structure in NumPy."
   ]
  },
  {
   "cell_type": "markdown",
   "id": "b31e9db1-9432-4115-a9d1-57e25514d048",
   "metadata": {},
   "source": [
    "<h4 style=\"color:#f84352; font-weight: bold;\">Creating Arrays :</h4>"
   ]
  },
  {
   "cell_type": "markdown",
   "id": "423c9710-7a49-45cf-8e66-bf1deb563f2c",
   "metadata": {},
   "source": [
    "**1. From a Python list:**"
   ]
  },
  {
   "cell_type": "code",
   "execution_count": 19,
   "id": "09054acc-333f-454e-81b5-b16bb8b60d5a",
   "metadata": {},
   "outputs": [
    {
     "name": "stdout",
     "output_type": "stream",
     "text": [
      "[[1 2 3]\n",
      " [4 5 6]\n",
      " [7 8 9]]\n"
     ]
    }
   ],
   "source": [
    "array_2D = np.array([[1, 2, 3], [4, 5, 6], [7, 8, 9]])\n",
    "print(array_2D)"
   ]
  },
  {
   "cell_type": "markdown",
   "id": "e754c80a-1bf0-448e-b8d6-3746e7252fad",
   "metadata": {},
   "source": [
    "**2. Using built-in functions like `np.zeros`, `np.ones`, `np.eye`:**"
   ]
  },
  {
   "cell_type": "code",
   "execution_count": 20,
   "id": "b0600d85-8d58-4bdf-81c2-46b4b8c8298d",
   "metadata": {},
   "outputs": [
    {
     "name": "stdout",
     "output_type": "stream",
     "text": [
      "[[0. 0. 0.]\n",
      " [0. 0. 0.]\n",
      " [0. 0. 0.]] [[1. 1. 1. 1.]\n",
      " [1. 1. 1. 1.]] [[1. 0. 0.]\n",
      " [0. 1. 0.]\n",
      " [0. 0. 1.]]\n"
     ]
    }
   ],
   "source": [
    "array_zeros = np.zeros((3, 3))  # 3x3 array of zeros\n",
    "\n",
    "array_ones = np.ones((2, 4))    # 2x4 array of ones\n",
    "\n",
    "array_identity = np.eye(3)      # 3x3 identity matrix\n",
    "\n",
    "print(array_zeros, array_ones, array_identity)"
   ]
  },
  {
   "cell_type": "markdown",
   "id": "1d4a6532-aa38-46f3-9985-02530e0b2637",
   "metadata": {},
   "source": [
    "***"
   ]
  },
  {
   "cell_type": "code",
   "execution_count": 21,
   "id": "a15981c9-81bd-4794-8a17-cb0fe24230e5",
   "metadata": {},
   "outputs": [
    {
     "name": "stdout",
     "output_type": "stream",
     "text": [
      "[1 2 3]\n"
     ]
    }
   ],
   "source": [
    "# Creating 1D Array\n",
    "a=[1,2,3]\n",
    "array_1D = np.array(a)\n",
    "print(array_1D)"
   ]
  },
  {
   "cell_type": "code",
   "execution_count": 22,
   "id": "56255d1a-bc1f-43b8-b9fa-1b15ab9cdb28",
   "metadata": {},
   "outputs": [
    {
     "data": {
      "text/plain": [
       "(3,)"
      ]
     },
     "execution_count": 22,
     "metadata": {},
     "output_type": "execute_result"
    }
   ],
   "source": [
    "array_1D.shape"
   ]
  },
  {
   "cell_type": "code",
   "execution_count": 23,
   "id": "39a8bf91-5ec4-4718-8d6e-1c5d0cf33d16",
   "metadata": {},
   "outputs": [
    {
     "data": {
      "text/plain": [
       "1"
      ]
     },
     "execution_count": 23,
     "metadata": {},
     "output_type": "execute_result"
    }
   ],
   "source": [
    "array_1D.ndim"
   ]
  },
  {
   "cell_type": "code",
   "execution_count": 24,
   "id": "20851bf5-9dc2-4f45-916e-d6d61c463a28",
   "metadata": {},
   "outputs": [
    {
     "data": {
      "text/plain": [
       "3"
      ]
     },
     "execution_count": 24,
     "metadata": {},
     "output_type": "execute_result"
    }
   ],
   "source": [
    "array_1D.size"
   ]
  },
  {
   "cell_type": "code",
   "execution_count": 25,
   "id": "716178ff-d12f-40d8-ac7d-cbfee70dd35c",
   "metadata": {},
   "outputs": [
    {
     "data": {
      "text/plain": [
       "dtype('int64')"
      ]
     },
     "execution_count": 25,
     "metadata": {},
     "output_type": "execute_result"
    }
   ],
   "source": [
    "array_1D.dtype"
   ]
  },
  {
   "cell_type": "code",
   "execution_count": null,
   "id": "e6893893-6e09-4685-ad6f-887b8e1b0b80",
   "metadata": {},
   "outputs": [],
   "source": []
  },
  {
   "cell_type": "code",
   "execution_count": null,
   "id": "a2c4c5e4",
   "metadata": {},
   "outputs": [],
   "source": []
  },
  {
   "cell_type": "code",
   "execution_count": null,
   "id": "68d207be",
   "metadata": {},
   "outputs": [],
   "source": []
  }
 ],
 "metadata": {
  "kernelspec": {
   "display_name": "Python 3 (ipykernel)",
   "language": "python",
   "name": "python3"
  },
  "language_info": {
   "codemirror_mode": {
    "name": "ipython",
    "version": 3
   },
   "file_extension": ".py",
   "mimetype": "text/x-python",
   "name": "python",
   "nbconvert_exporter": "python",
   "pygments_lexer": "ipython3",
   "version": "3.12.2"
  }
 },
 "nbformat": 4,
 "nbformat_minor": 5
}
