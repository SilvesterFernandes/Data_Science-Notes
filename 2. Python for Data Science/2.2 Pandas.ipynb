{
 "cells": [
  {
   "cell_type": "markdown",
   "id": "ad1eb596-0bc8-4263-8fec-8da458f21ecb",
   "metadata": {},
   "source": [
    "# **Pandas**"
   ]
  },
  {
   "cell_type": "markdown",
   "id": "1a56afc0-8a7d-494e-8543-59e0290ca814",
   "metadata": {},
   "source": [
    "# **Introduction:**\n",
    "- pandas is a powerful Python library for data manipulation and analysis, providing easy-to-use structures like DataFrames and Series.\n",
    "\n",
    "- It is a **one-dimensond (1-D) array** holding data of any type.\n",
    "- A Pandas Series is like a column in a table"
   ]
  },
  {
   "cell_type": "markdown",
   "id": "0a1be6fc-876f-44f9-b377-318dbf18856c",
   "metadata": {},
   "source": [
    "## **Installation :**\n",
    "\n",
    "**Step 1: Install pandas (if not installed)**\n",
    "- If you haven't installed pandas yet, you can install it using the following command:\n",
    "\n",
    "`pip install pandas`"
   ]
  },
  {
   "cell_type": "markdown",
   "id": "76d7d84d-c48a-4419-a633-9eb520f4a997",
   "metadata": {},
   "source": [
    "**Step 2: Importing pandas**\n",
    "        \n",
    "`import pandas as pd`"
   ]
  },
  {
   "cell_type": "code",
   "execution_count": 12,
   "id": "479d0624-133a-459a-bd25-750d97580010",
   "metadata": {},
   "outputs": [],
   "source": [
    "import pandas as pd\n",
    "import numpy as np"
   ]
  },
  {
   "cell_type": "markdown",
   "id": "29f97b5b-bb49-45bf-b9cb-1321efc8ce81",
   "metadata": {},
   "source": [
    "**1) Creating a Pandas Series from a List :**"
   ]
  },
  {
   "cell_type": "code",
   "execution_count": 14,
   "id": "18f49492-e33f-4da1-b5e5-5cbc30ca3ecd",
   "metadata": {},
   "outputs": [
    {
     "name": "stdout",
     "output_type": "stream",
     "text": [
      "0    10\n",
      "1    20\n",
      "2    30\n",
      "3    40\n",
      "4    50\n",
      "dtype: int64\n"
     ]
    }
   ],
   "source": [
    "# Create a Series from a list\n",
    "data = [10, 20, 30, 40, 50]\n",
    "series = pd.Series(data)\n",
    "\n",
    "# Print the Series\n",
    "print(series)"
   ]
  },
  {
   "cell_type": "markdown",
   "id": "5e7a91d1-946e-4784-b14c-c9551030bbca",
   "metadata": {},
   "source": [
    "**Type of Series**"
   ]
  },
  {
   "cell_type": "code",
   "execution_count": 16,
   "id": "5aceb238-5c03-4754-9803-f16818fc0ef4",
   "metadata": {},
   "outputs": [
    {
     "name": "stdout",
     "output_type": "stream",
     "text": [
      "\n",
      "Type of series: <class 'pandas.core.series.Series'>\n"
     ]
    }
   ],
   "source": [
    "# Check the type of the Series\n",
    "print(\"\\nType of series:\", type(series))"
   ]
  },
  {
   "cell_type": "markdown",
   "id": "14361cc9-ea5a-4229-b680-244dfc88d5c0",
   "metadata": {},
   "source": [
    "**Data type in Series:**"
   ]
  },
  {
   "cell_type": "code",
   "execution_count": 18,
   "id": "1e56bb05-35ae-46fb-9a60-f5976d7028c3",
   "metadata": {},
   "outputs": [
    {
     "name": "stdout",
     "output_type": "stream",
     "text": [
      "Data type of series elements: int64\n"
     ]
    }
   ],
   "source": [
    "# Check the data type of the elements in the Series\n",
    "print(\"Data type of series elements:\", series.dtype)"
   ]
  },
  {
   "cell_type": "markdown",
   "id": "5c00e707-7ac3-441c-8d32-a502c38553fd",
   "metadata": {},
   "source": [
    "**Shape**"
   ]
  },
  {
   "cell_type": "code",
   "execution_count": 20,
   "id": "97fd18a4-7298-4c1f-b764-6e7467b40e61",
   "metadata": {},
   "outputs": [
    {
     "name": "stdout",
     "output_type": "stream",
     "text": [
      "Shape of series elements: (5,)\n"
     ]
    }
   ],
   "source": [
    "# Check the shape of the elements in the Series\n",
    "print(\"Shape of series elements:\", series.shape)"
   ]
  },
  {
   "cell_type": "markdown",
   "id": "184f46d1-45f0-4562-8e87-d1f43d601f5a",
   "metadata": {},
   "source": [
    "**Custom Indexing**"
   ]
  },
  {
   "cell_type": "code",
   "execution_count": 22,
   "id": "c4a624a7-6de7-4815-b40c-b49383403844",
   "metadata": {},
   "outputs": [
    {
     "name": "stdout",
     "output_type": "stream",
     "text": [
      "a    10\n",
      "b    20\n",
      "c    30\n",
      "d    40\n",
      "e    50\n",
      "dtype: int64\n"
     ]
    }
   ],
   "source": [
    "import pandas as pd\n",
    "\n",
    "# Create a list\n",
    "data = [10, 20, 30, 40, 50]\n",
    "\n",
    "# Create a Series with a custom index\n",
    "series = pd.Series(data, index=[\"a\", \"b\", \"c\", \"d\", \"e\"])\n",
    "\n",
    "# Print the Series\n",
    "print(series)"
   ]
  },
  {
   "cell_type": "markdown",
   "id": "3dc55560-f249-42fa-9057-18746bb1ec2d",
   "metadata": {},
   "source": [
    "__________"
   ]
  },
  {
   "cell_type": "markdown",
   "id": "480e7c98-8a3f-4edc-b679-35c7f3dac104",
   "metadata": {},
   "source": [
    "**2. Creating pandas Series using 1-D Array :**"
   ]
  },
  {
   "cell_type": "code",
   "execution_count": 25,
   "id": "5737975f-0379-46c5-b312-93c42d9a601b",
   "metadata": {},
   "outputs": [
    {
     "name": "stdout",
     "output_type": "stream",
     "text": [
      "0    10\n",
      "1    20\n",
      "2    30\n",
      "3    40\n",
      "4    50\n",
      "dtype: int32\n"
     ]
    }
   ],
   "source": [
    "\n",
    "data= np.array([10,20,30,40,50])\n",
    "series=pd.Series(data)\n",
    "print(series)"
   ]
  },
  {
   "cell_type": "markdown",
   "id": "e1e84768-2d52-49e8-95a3-0e102df1c8f1",
   "metadata": {},
   "source": [
    "**Type of Series**"
   ]
  },
  {
   "cell_type": "code",
   "execution_count": 27,
   "id": "6d7afe8c-64db-4543-b4ba-b4a13c7a825d",
   "metadata": {},
   "outputs": [
    {
     "name": "stdout",
     "output_type": "stream",
     "text": [
      "\n",
      "Type of series: <class 'pandas.core.series.Series'>\n"
     ]
    }
   ],
   "source": [
    "# Check the type of the Series\n",
    "print(\"\\nType of series:\", type(series))"
   ]
  },
  {
   "cell_type": "markdown",
   "id": "7cc7b10c-3ce5-44b6-9022-24a46b0c986b",
   "metadata": {},
   "source": [
    "**Data type in Series:**"
   ]
  },
  {
   "cell_type": "code",
   "execution_count": 29,
   "id": "02a023ad-027e-41b0-9bbe-b4d14e41e84b",
   "metadata": {},
   "outputs": [
    {
     "name": "stdout",
     "output_type": "stream",
     "text": [
      "Data type of series elements: int32\n"
     ]
    }
   ],
   "source": [
    "# Check the data type of the elements in the Series\n",
    "print(\"Data type of series elements:\", series.dtype)"
   ]
  },
  {
   "cell_type": "markdown",
   "id": "f1e50dba-e91a-4939-9b6f-4bc0df90f42c",
   "metadata": {},
   "source": [
    "**Shape**"
   ]
  },
  {
   "cell_type": "code",
   "execution_count": 31,
   "id": "6591c43d-ed28-4737-a4b5-e38d4973a7e5",
   "metadata": {},
   "outputs": [
    {
     "name": "stdout",
     "output_type": "stream",
     "text": [
      "Shape of series elements: (5,)\n"
     ]
    }
   ],
   "source": [
    "# Check the shape of the elements in the Series\n",
    "print(\"Shape of series elements:\", series.shape)"
   ]
  },
  {
   "cell_type": "markdown",
   "id": "77e3c64f-f88c-4051-9606-99364afafc48",
   "metadata": {},
   "source": [
    "**Custom Indexing**"
   ]
  },
  {
   "cell_type": "code",
   "execution_count": 33,
   "id": "48ecdafa-14e6-41ce-a274-b68e97e68932",
   "metadata": {},
   "outputs": [
    {
     "name": "stdout",
     "output_type": "stream",
     "text": [
      "a    10\n",
      "b    20\n",
      "c    30\n",
      "d    40\n",
      "e    50\n",
      "f    60\n",
      "dtype: int64\n"
     ]
    }
   ],
   "source": [
    "data = [10,20,30,40,50,60]\n",
    "series=pd.Series(data,index=[\"a\",\"b\",\"c\",\"d\",\"e\",\"f\"])\n",
    "print(series)"
   ]
  },
  {
   "cell_type": "markdown",
   "id": "8e4d1cae-d2e9-4bd9-a154-1c7a070d80e2",
   "metadata": {},
   "source": [
    "**OR**"
   ]
  },
  {
   "cell_type": "code",
   "execution_count": 35,
   "id": "cf6535ad-df68-4337-930f-0235f3690c19",
   "metadata": {},
   "outputs": [
    {
     "name": "stdout",
     "output_type": "stream",
     "text": [
      "a    10\n",
      "b    20\n",
      "c    30\n",
      "d    40\n",
      "e    50\n",
      "f    60\n",
      "dtype: int64\n"
     ]
    }
   ],
   "source": [
    "# Create a Series with a custom index\n",
    "data = [10, 20, 30, 40, 50,60]\n",
    "index = ['a', 'b', 'c', 'd', 'e','f']\n",
    "series = pd.Series(data, index=index)\n",
    "print(series)"
   ]
  },
  {
   "cell_type": "markdown",
   "id": "3676145a-dfdc-4733-bd09-c8d1831df9d6",
   "metadata": {},
   "source": [
    "____________"
   ]
  },
  {
   "cell_type": "markdown",
   "id": "897ee90d-3b35-432c-8483-674f0c2c1267",
   "metadata": {},
   "source": [
    "**3) Creating Series using Dictionary :**"
   ]
  },
  {
   "cell_type": "code",
   "execution_count": 38,
   "id": "2116e818-66ca-4172-8d11-fac1971211bf",
   "metadata": {},
   "outputs": [
    {
     "name": "stdout",
     "output_type": "stream",
     "text": [
      "a    1\n",
      "b    2\n",
      "c    3\n",
      "d    4\n",
      "e    5\n",
      "f    6\n",
      "dtype: int64\n"
     ]
    }
   ],
   "source": [
    "data = {'a':1,'b':2,'c':3,'d':4,'e':5,'f':6}\n",
    "series= pd.Series(data)\n",
    "print(series)"
   ]
  },
  {
   "cell_type": "markdown",
   "id": "318c398e-a0f3-4e00-a8ea-a3c68903a24e",
   "metadata": {},
   "source": [
    "**Type of Series**"
   ]
  },
  {
   "cell_type": "code",
   "execution_count": 40,
   "id": "8e9b277d-0f9c-45af-800b-d550a03c6db4",
   "metadata": {},
   "outputs": [
    {
     "name": "stdout",
     "output_type": "stream",
     "text": [
      "\n",
      "Type of series: <class 'pandas.core.series.Series'>\n"
     ]
    }
   ],
   "source": [
    "# Check the type of the Series\n",
    "print(\"\\nType of series:\", type(series))"
   ]
  },
  {
   "cell_type": "markdown",
   "id": "8b21d522-7780-44a9-a5d5-4e54f34fd65a",
   "metadata": {},
   "source": [
    "**Data type in Series:**"
   ]
  },
  {
   "cell_type": "code",
   "execution_count": 42,
   "id": "ca862c18-1f12-456f-a1b9-2953c864e968",
   "metadata": {},
   "outputs": [
    {
     "name": "stdout",
     "output_type": "stream",
     "text": [
      "Data type of series elements: int64\n"
     ]
    }
   ],
   "source": [
    "# Check the data type of the elements in the Series\n",
    "print(\"Data type of series elements:\", series.dtype)"
   ]
  },
  {
   "cell_type": "markdown",
   "id": "ef887723-e9b1-42a5-bbd2-aee0325a1085",
   "metadata": {},
   "source": [
    "**Shape**"
   ]
  },
  {
   "cell_type": "code",
   "execution_count": 44,
   "id": "d2348285-49a2-4e08-b7ca-d94c2a2adb66",
   "metadata": {},
   "outputs": [
    {
     "name": "stdout",
     "output_type": "stream",
     "text": [
      "Shape of series elements: (6,)\n"
     ]
    }
   ],
   "source": [
    "# Check the shape of the elements in the Series\n",
    "print(\"Shape of series elements:\", series.shape)"
   ]
  },
  {
   "cell_type": "markdown",
   "id": "e97cae4b-a31e-4403-b9c9-072d5404242b",
   "metadata": {},
   "source": [
    "________"
   ]
  },
  {
   "cell_type": "markdown",
   "id": "efc6e48d-f84a-4863-b2b5-e4cc0fd05f5a",
   "metadata": {},
   "source": [
    "**4. Specifying Data Types in a Series (int , float, double )**"
   ]
  },
  {
   "cell_type": "code",
   "execution_count": 47,
   "id": "c5bc2e4f-e006-4c3e-9b5a-3fc7b91a7c8d",
   "metadata": {},
   "outputs": [
    {
     "name": "stdout",
     "output_type": "stream",
     "text": [
      "Printing for int\n",
      "0    10\n",
      "1    20\n",
      "2    30\n",
      "3    40\n",
      "4    50\n",
      "dtype: int32\n"
     ]
    }
   ],
   "source": [
    "# Create a Series and specify the data type\n",
    "print(\"Printing for int\")\n",
    "data = [10, 20, 30, 40, 50]\n",
    "series = pd.Series(data, dtype='int32')\n",
    "print(series)"
   ]
  },
  {
   "cell_type": "code",
   "execution_count": 48,
   "id": "f0a9d467-c768-4717-8140-62894619289b",
   "metadata": {},
   "outputs": [
    {
     "name": "stdout",
     "output_type": "stream",
     "text": [
      "Printing for Float\n",
      "0    10.0\n",
      "1    20.0\n",
      "2    30.0\n",
      "3    40.0\n",
      "4    50.0\n",
      "dtype: float64\n"
     ]
    }
   ],
   "source": [
    "# Create a Series and specify the data type\n",
    "print(\"Printing for Float\")\n",
    "data = [10, 20, 30, 40, 50]\n",
    "series = pd.Series(data, dtype='float64')\n",
    "print(series)"
   ]
  },
  {
   "cell_type": "code",
   "execution_count": 49,
   "id": "21771c2f-1484-4393-900e-6f5d83af9bf4",
   "metadata": {},
   "outputs": [
    {
     "name": "stdout",
     "output_type": "stream",
     "text": [
      "Printing for double\n",
      "0    10.0\n",
      "1    20.0\n",
      "2    30.0\n",
      "3    40.0\n",
      "4    50.0\n",
      "dtype: float64\n"
     ]
    }
   ],
   "source": [
    "# Create a Series and specify the data type\n",
    "print(\"Printing for double\")\n",
    "data = [10, 20, 30, 40, 50]\n",
    "series = pd.Series(data, dtype='double')\n",
    "print(series)"
   ]
  },
  {
   "cell_type": "code",
   "execution_count": null,
   "id": "a3ad9702-bdfc-4372-87d9-d672bb4f03b1",
   "metadata": {},
   "outputs": [],
   "source": []
  },
  {
   "cell_type": "markdown",
   "id": "088c5c73-fee4-47ca-8363-427151174cad",
   "metadata": {},
   "source": [
    "**5.Reading Data from a CSV File**"
   ]
  },
  {
   "cell_type": "markdown",
   "id": "4222aa24-7652-4c44-b8a8-aee9ccbeb37e",
   "metadata": {},
   "source": [
    "import pandas as pd\n",
    "\n",
    "##### Reading data from a CSV file\n",
    "df = pd.read_csv('path_to_your_file.csv')\n",
    "\n",
    "##### Displaying the first 5 rows of the DataFrame\n",
    "print(df.head())\n"
   ]
  },
  {
   "cell_type": "markdown",
   "id": "0054826a-96bb-42ab-81fe-d95e400296bf",
   "metadata": {},
   "source": [
    "**Explanation:**\n",
    "- `pd.read_csv()`: This function reads the CSV file from the given path and returns a pandas DataFrame.\n",
    "Replace 'path_to_your_file.csv' with the actual path to your CSV file.\n",
    "- `df.head()`: This will display the first 5 rows of the DataFrame, helping you quickly inspect the content."
   ]
  },
  {
   "cell_type": "code",
   "execution_count": null,
   "id": "3a1f2281-46b5-491c-a705-e6118fb17b97",
   "metadata": {},
   "outputs": [],
   "source": []
  },
  {
   "cell_type": "code",
   "execution_count": 430,
   "id": "285f048c-1269-4af8-8849-93013992c01b",
   "metadata": {},
   "outputs": [
    {
     "name": "stdout",
     "output_type": "stream",
     "text": [
      "        City  Population  Area (sq km)  Avg Temp (°C)\n",
      "0     Mumbai    20411000           603           26.0\n",
      "1      Delhi    16787941          1484           25.5\n",
      "2  Bangalore     8443675           709           24.0\n",
      "3    Kolkata    14900000           185           26.5\n",
      "4    Chennai     7090000           426           27.0\n"
     ]
    }
   ],
   "source": [
    "import pandas as pd\n",
    "\n",
    "# Specify the path to your CSV file\n",
    "csv_file_path = r'I:\\Full-Stack-Data-Science & Generative AI\\Jupyter-Notebook Notes\\2. Python for Data Science\\indian_cities.csv'\n",
    "\n",
    "# Reading the CSV file into a DataFrame\n",
    "df_cities = pd.read_csv(csv_file_path)\n",
    "\n",
    "# Displaying the first few rows of the DataFrame\n",
    "print(df_cities.head())\n"
   ]
  },
  {
   "cell_type": "markdown",
   "id": "0360e812-93c6-4820-b5d6-e6be081a5944",
   "metadata": {},
   "source": [
    "_______________"
   ]
  },
  {
   "cell_type": "markdown",
   "id": "c00104c2-9b0f-4ce0-878f-30f924259118",
   "metadata": {},
   "source": [
    "**Accessing Series Elements :**"
   ]
  },
  {
   "cell_type": "markdown",
   "id": "99b03518-edee-4aa0-94e1-58f0211a05a1",
   "metadata": {},
   "source": [
    "**Access single element by index label:**"
   ]
  },
  {
   "cell_type": "code",
   "execution_count": 52,
   "id": "f701220d-0f32-4fbc-aa28-70f720bcd173",
   "metadata": {},
   "outputs": [
    {
     "name": "stdout",
     "output_type": "stream",
     "text": [
      "20\n"
     ]
    }
   ],
   "source": [
    "import pandas as pd\n",
    "\n",
    "# Create a Series with custom index\n",
    "data = [10, 20, 30, 40, 50]\n",
    "s = pd.Series(data, index=[\"a\", \"b\", \"c\", \"d\", \"e\"])\n",
    "\n",
    "# Access single element by index label\n",
    "print(s[\"b\"]) "
   ]
  },
  {
   "cell_type": "markdown",
   "id": "988f8ba5-b385-40a1-bab1-d6579d97c561",
   "metadata": {},
   "source": [
    "**Access multiple elements by index label**"
   ]
  },
  {
   "cell_type": "code",
   "execution_count": 53,
   "id": "70c683d7-e869-47cd-b12a-426f909a2835",
   "metadata": {},
   "outputs": [
    {
     "name": "stdout",
     "output_type": "stream",
     "text": [
      "a    10\n",
      "c    30\n",
      "e    50\n",
      "dtype: int64\n"
     ]
    }
   ],
   "source": [
    "# Access multiple elements by index labels\n",
    "data = [10, 20, 30, 40, 50]\n",
    "s = pd.Series(data, index=[\"a\", \"b\", \"c\", \"d\", \"e\"])\n",
    "print(s[[\"a\", \"c\", \"e\"]])  "
   ]
  },
  {
   "cell_type": "markdown",
   "id": "289c3e94-d931-4c59-b862-2b8541c1d933",
   "metadata": {},
   "source": [
    "**Accessing Elements by Position:**"
   ]
  },
  {
   "cell_type": "markdown",
   "id": "ffb21326-9e11-4124-af3b-5df5f5c8a9e1",
   "metadata": {},
   "source": [
    "**Access single element by position:**"
   ]
  },
  {
   "cell_type": "code",
   "execution_count": 302,
   "id": "f7b5a378-3a6e-4e0b-a3af-178595e0e558",
   "metadata": {},
   "outputs": [
    {
     "name": "stdout",
     "output_type": "stream",
     "text": [
      "20\n"
     ]
    },
    {
     "name": "stderr",
     "output_type": "stream",
     "text": [
      "C:\\Users\\silve\\AppData\\Local\\Temp\\ipykernel_14756\\2956202867.py:6: FutureWarning: Series.__getitem__ treating keys as positions is deprecated. In a future version, integer keys will always be treated as labels (consistent with DataFrame behavior). To access a value by position, use `ser.iloc[pos]`\n",
      "  print(s[1])  # Output: 20\n"
     ]
    }
   ],
   "source": [
    "# Access single element by position\n",
    "data = [10, 20, 30, 40, 50]\n",
    "\n",
    "s = pd.Series(data, index=[\"a\", \"b\", \"c\", \"d\", \"e\"])\n",
    "\n",
    "print(s[1])  # Output: 20"
   ]
  },
  {
   "cell_type": "markdown",
   "id": "a7c61004-d6a9-4e86-80dc-9751681b4056",
   "metadata": {},
   "source": [
    "**Access multiple elements by position:**"
   ]
  },
  {
   "cell_type": "code",
   "execution_count": 316,
   "id": "b4346017-1749-4629-9553-c102fbb11af5",
   "metadata": {},
   "outputs": [
    {
     "name": "stdout",
     "output_type": "stream",
     "text": [
      "a    10\n",
      "c    30\n",
      "e    50\n",
      "dtype: int64\n"
     ]
    },
    {
     "name": "stderr",
     "output_type": "stream",
     "text": [
      "C:\\Users\\silve\\AppData\\Local\\Temp\\ipykernel_14756\\1816013259.py:6: FutureWarning: Series.__getitem__ treating keys as positions is deprecated. In a future version, integer keys will always be treated as labels (consistent with DataFrame behavior). To access a value by position, use `ser.iloc[pos]`\n",
      "  print(s[[0, 2, 4]])  # Output: 10, 30, 50\n"
     ]
    }
   ],
   "source": [
    "# Access multiple elements by position\n",
    "data = [10, 20, 30, 40, 50]\n",
    "\n",
    "s = pd.Series(data, index=[\"a\", \"b\", \"c\", \"d\", \"e\"])\n",
    "\n",
    "print(s[[0, 2, 4]])  # Output: 10, 30, 50"
   ]
  },
  {
   "cell_type": "code",
   "execution_count": null,
   "id": "d7b61ddf-ee12-40e2-bb52-7e8bfcc761e9",
   "metadata": {},
   "outputs": [],
   "source": []
  },
  {
   "cell_type": "markdown",
   "id": "9d8202ca-3f13-4577-a4b1-cab893c35c1e",
   "metadata": {},
   "source": [
    "**Slicing a Series**"
   ]
  },
  {
   "cell_type": "markdown",
   "id": "4260494e-de0d-44bf-a8f0-bc6f4f389c48",
   "metadata": {},
   "source": [
    "**Slice by index position:**"
   ]
  },
  {
   "cell_type": "code",
   "execution_count": 58,
   "id": "8bd82884-c5ec-4ff4-ae4f-f6b0b43ed594",
   "metadata": {},
   "outputs": [
    {
     "name": "stdout",
     "output_type": "stream",
     "text": [
      "b    20\n",
      "c    30\n",
      "d    40\n",
      "dtype: int64\n"
     ]
    }
   ],
   "source": [
    "# Slice by index position\n",
    "data = [10, 20, 30, 40, 50]\n",
    "\n",
    "s = pd.Series(data, index=[\"a\", \"b\", \"c\", \"d\", \"e\"])\n",
    "\n",
    "print(s[1:4])  # Output: elements from index 1 to 3 (positions 1 to 3)"
   ]
  },
  {
   "cell_type": "markdown",
   "id": "fb1e5000-53c0-4d0a-b8eb-8cac2015aff2",
   "metadata": {},
   "source": [
    "**Slice by index label:**"
   ]
  },
  {
   "cell_type": "code",
   "execution_count": 59,
   "id": "e2dec5a3-4e22-41a8-9b1c-4e6d1e7c69c7",
   "metadata": {},
   "outputs": [
    {
     "name": "stdout",
     "output_type": "stream",
     "text": [
      "b    20\n",
      "c    30\n",
      "d    40\n",
      "dtype: int64\n"
     ]
    }
   ],
   "source": [
    "# Slice by index label (inclusive of both start and end)\n",
    "\n",
    "data = [10, 20, 30, 40, 50]\n",
    "\n",
    "s = pd.Series(data, index=[\"a\", \"b\", \"c\", \"d\", \"e\"])\n",
    "\n",
    "print(s[\"b\":\"d\"])  # Output: elements from index \"b\" to \"d\""
   ]
  },
  {
   "cell_type": "code",
   "execution_count": null,
   "id": "0110a379-984e-485d-ba13-892d40b8ed27",
   "metadata": {},
   "outputs": [],
   "source": []
  },
  {
   "cell_type": "markdown",
   "id": "4971aea4-7735-46b2-9581-5aedfdf16626",
   "metadata": {},
   "source": [
    "**Accessing Series using `loc[]` and `iloc[]`**\n",
    "- `loc[]` is used to access elements by index labels.\n",
    "- `iloc[]`is used to access elements by position."
   ]
  },
  {
   "cell_type": "markdown",
   "id": "33aff7a9-d33b-4508-9f9c-fbcdec5cc8f7",
   "metadata": {},
   "source": [
    "**label-based access:**"
   ]
  },
  {
   "cell_type": "code",
   "execution_count": 61,
   "id": "301e08d9-26ae-4f78-98b8-fe109f183ac9",
   "metadata": {},
   "outputs": [
    {
     "name": "stdout",
     "output_type": "stream",
     "text": [
      "30\n"
     ]
    }
   ],
   "source": [
    "# Using loc[] for label-based access\n",
    "data = [10, 20, 30, 40, 50]\n",
    "\n",
    "s = pd.Series(data, index=[\"a\", \"b\", \"c\", \"d\", \"e\"])\n",
    "\n",
    "print(s.loc[\"c\"])  # Output: 30"
   ]
  },
  {
   "cell_type": "markdown",
   "id": "c0ee5392-9206-4cb3-b014-eefec0154e42",
   "metadata": {},
   "source": [
    "**label-based slicing:**"
   ]
  },
  {
   "cell_type": "code",
   "execution_count": 62,
   "id": "63b3e48a-6db1-4cc4-8dce-cd1b8524be34",
   "metadata": {},
   "outputs": [
    {
     "name": "stdout",
     "output_type": "stream",
     "text": [
      "b    20\n",
      "c    30\n",
      "d    40\n",
      "dtype: int64\n"
     ]
    }
   ],
   "source": [
    "# Using loc[] for label-based slicing\n",
    "data = [10, 20, 30, 40, 50]\n",
    "\n",
    "s = pd.Series(data, index=[\"a\", \"b\", \"c\", \"d\", \"e\"])\n",
    "\n",
    "print(s.loc[\"b\":\"d\"]) \n",
    "# Output: elements from index \"b\" to \"d\""
   ]
  },
  {
   "cell_type": "markdown",
   "id": "4d009b47-386c-4ab8-ba30-6b1874bc3c5f",
   "metadata": {},
   "source": [
    "**Position-based-Access:**"
   ]
  },
  {
   "cell_type": "code",
   "execution_count": 63,
   "id": "d522dc13-cdd6-4534-b005-cc17244594dd",
   "metadata": {},
   "outputs": [
    {
     "name": "stdout",
     "output_type": "stream",
     "text": [
      "30\n"
     ]
    }
   ],
   "source": [
    "# Using iloc[] for position-based access\n",
    "data = [10, 20, 30, 40, 50]\n",
    "\n",
    "s = pd.Series(data, index=[\"a\", \"b\", \"c\", \"d\", \"e\"])\n",
    "\n",
    "print(s.iloc[2])  # Output: 30"
   ]
  },
  {
   "cell_type": "markdown",
   "id": "d8f9154f-7e0d-433d-b0c9-eca6c8f8e289",
   "metadata": {},
   "source": [
    "**position-based slicing:**"
   ]
  },
  {
   "cell_type": "code",
   "execution_count": 64,
   "id": "01cffecf-099b-422e-a889-5f37c17594c9",
   "metadata": {},
   "outputs": [
    {
     "name": "stdout",
     "output_type": "stream",
     "text": [
      "b    20\n",
      "c    30\n",
      "d    40\n",
      "dtype: int64\n"
     ]
    }
   ],
   "source": [
    "# Using iloc[] for position-based slicing\n",
    "data = [10, 20, 30, 40, 50]\n",
    "\n",
    "s = pd.Series(data, index=[\"a\", \"b\", \"c\", \"d\", \"e\"])\n",
    "\n",
    "print(s.iloc[1:4])  # Output: elements from position 1 to 3"
   ]
  },
  {
   "cell_type": "code",
   "execution_count": null,
   "id": "94b5d60d-b989-444d-b1b1-531349c621af",
   "metadata": {},
   "outputs": [],
   "source": []
  },
  {
   "cell_type": "markdown",
   "id": "781f2dd6-ad72-4d48-be68-fd675b09c73d",
   "metadata": {},
   "source": [
    "**Boolean Indexing**"
   ]
  },
  {
   "cell_type": "code",
   "execution_count": 66,
   "id": "1104e586-3264-4643-8030-57a9dfeb64a4",
   "metadata": {},
   "outputs": [
    {
     "name": "stdout",
     "output_type": "stream",
     "text": [
      "d    40\n",
      "e    50\n",
      "dtype: int64\n"
     ]
    }
   ],
   "source": [
    "# Example: Select all elements greater than 30\n",
    "data = [10, 20, 30, 40, 50]\n",
    "\n",
    "s = pd.Series(data, index=[\"a\", \"b\", \"c\", \"d\", \"e\"])\n",
    "\n",
    "print(s[s > 30])  # Output: elements with values greater than 30"
   ]
  },
  {
   "cell_type": "markdown",
   "id": "51d3f54d-151e-41e9-8334-9a6476025103",
   "metadata": {},
   "source": [
    "________________"
   ]
  },
  {
   "cell_type": "markdown",
   "id": "2c21e4e1-5e8b-4dda-8b1f-309d8006b0a1",
   "metadata": {},
   "source": [
    "## **Pandas DataFrame :**\n",
    "- A pandas **DataFrame is a two-dimensional, size-mutable, and potentially heterogeneous tabular data structure** with **labeled axes (rows and columns).** \n",
    "- It's one of the most commonly used **objects for data manipulation and analysis in Python.**\n",
    "\n",
    "**Key Features of a DataFrame:**\n",
    "- It can **hold data of different types (integers, floats, strings, etc.)**.\n",
    "- It has **labeled axes** (rows and columns).\n",
    "- It supports operations like **filtering, grouping, reshaping, and joining data.**"
   ]
  },
  {
   "cell_type": "markdown",
   "id": "177e4502-23d0-4071-aa84-4ada7f990eb2",
   "metadata": {},
   "source": [
    "**1. Creating a DataFrame**\n",
    "        \n",
    "There are several ways to create a DataFrame, such as using a dictionary, a list of lists, or reading data from external files (CSV, Excel, etc.)."
   ]
  },
  {
   "cell_type": "markdown",
   "id": "7d15c5dc-b0cc-4ba1-8c53-ea10f15a0c6b",
   "metadata": {},
   "source": [
    "**i) Create a DataFrame from a dictionary**\n",
    "- You can create a DataFrame from a dictionary where **keys are the column names** and **values** are lists representing the **column data**."
   ]
  },
  {
   "cell_type": "code",
   "execution_count": 71,
   "id": "ba41775b-e538-40eb-b910-0a59f11a9e91",
   "metadata": {},
   "outputs": [
    {
     "name": "stdout",
     "output_type": "stream",
     "text": [
      "column_1    [10, 20]\n",
      "column_2    [30, 40]\n",
      "dtype: object\n"
     ]
    }
   ],
   "source": [
    "# Printing series\n",
    "data = {'column_1':[10,20],'column_2':[30,40]}\n",
    "series= pd.Series(data)\n",
    "print(series)"
   ]
  },
  {
   "cell_type": "markdown",
   "id": "b254ee4b-2058-4bb8-acba-bf1b91fe88c4",
   "metadata": {},
   "source": [
    "**Dataframe Creation :**"
   ]
  },
  {
   "cell_type": "code",
   "execution_count": 73,
   "id": "7e83138f-5285-437e-8a3e-cfde916b2b9d",
   "metadata": {},
   "outputs": [
    {
     "name": "stdout",
     "output_type": "stream",
     "text": [
      "   column_1  column_2\n",
      "0        16        36\n",
      "1        25        49\n"
     ]
    }
   ],
   "source": [
    "# Printing DataFrame\n",
    "\n",
    "data = {'column_1':[16,25],'column_2':[36,49]}\n",
    "dataframe= pd.DataFrame(data)\n",
    "print(dataframe)"
   ]
  },
  {
   "cell_type": "markdown",
   "id": "874ced6d-5ca9-40ab-8a26-f2cb021bdbd1",
   "metadata": {},
   "source": [
    "**Type**"
   ]
  },
  {
   "cell_type": "code",
   "execution_count": 75,
   "id": "65f9f276-20d0-459e-8a93-8a2a226c2981",
   "metadata": {},
   "outputs": [
    {
     "data": {
      "text/plain": [
       "pandas.core.frame.DataFrame"
      ]
     },
     "execution_count": 75,
     "metadata": {},
     "output_type": "execute_result"
    }
   ],
   "source": [
    "type(dataframe)"
   ]
  },
  {
   "cell_type": "markdown",
   "id": "d879a8b0-17cd-449e-8bc6-73930723fa3a",
   "metadata": {},
   "source": [
    "**Shape**"
   ]
  },
  {
   "cell_type": "code",
   "execution_count": 77,
   "id": "cdce8916-59e8-4b0a-ad9f-9c97c320c04f",
   "metadata": {},
   "outputs": [
    {
     "data": {
      "text/plain": [
       "(2, 2)"
      ]
     },
     "execution_count": 77,
     "metadata": {},
     "output_type": "execute_result"
    }
   ],
   "source": [
    "dataframe.shape"
   ]
  },
  {
   "cell_type": "code",
   "execution_count": 78,
   "id": "0ca6c2ef-145b-4998-996d-c05020c85433",
   "metadata": {},
   "outputs": [
    {
     "name": "stdout",
     "output_type": "stream",
     "text": [
      "   Name  Age      City\n",
      "0  John   23  New York\n",
      "1  Jane   28     Paris\n",
      "2   Tom   30    London\n",
      "3  Anna   22     Tokyo\n"
     ]
    }
   ],
   "source": [
    "import pandas as pd\n",
    "\n",
    "# Creating a DataFrame from a dictionary\n",
    "data = {\n",
    "    'Name': ['John', 'Jane', 'Tom', 'Anna'],\n",
    "    'Age': [23, 28, 30, 22],\n",
    "    'City': ['New York', 'Paris', 'London', 'Tokyo']\n",
    "}\n",
    "\n",
    "df = pd.DataFrame(data)\n",
    "print(df)\n"
   ]
  },
  {
   "cell_type": "markdown",
   "id": "370d52db-1828-40b2-9a69-9427f8e2aec3",
   "metadata": {},
   "source": [
    "**2.Create a DataFrame from a list of lists**"
   ]
  },
  {
   "cell_type": "code",
   "execution_count": 80,
   "id": "28a989fa-fbb1-488f-a28c-d00c5548448d",
   "metadata": {},
   "outputs": [
    {
     "name": "stdout",
     "output_type": "stream",
     "text": [
      "   Name  Age      City\n",
      "0  John   23  New York\n",
      "1  Jane   28     Paris\n",
      "2   Tom   30    London\n",
      "3  Anna   22     Tokyo\n"
     ]
    }
   ],
   "source": [
    "# Creating a DataFrame from a list of lists\n",
    "data = [['John', 23, 'New York'], ['Jane', 28, 'Paris'], ['Tom', 30, 'London'], ['Anna', 22, 'Tokyo']]\n",
    "df = pd.DataFrame(data, columns=['Name', 'Age', 'City'])\n",
    "print(df)\n"
   ]
  },
  {
   "cell_type": "markdown",
   "id": "e50976f6-7e56-47ca-a49d-306560267ce2",
   "metadata": {},
   "source": [
    "**3. Create a DataFrame using 2-D Array** "
   ]
  },
  {
   "cell_type": "code",
   "execution_count": 82,
   "id": "3174acce-3a23-4de5-be85-9c72672c9c6b",
   "metadata": {},
   "outputs": [
    {
     "name": "stdout",
     "output_type": "stream",
     "text": [
      "    c1  c2  c3\n",
      "r1   1   2   3\n",
      "r2   4   5   6\n"
     ]
    }
   ],
   "source": [
    "import numpy as np\n",
    "import pandas as pd\n",
    "\n",
    "# Creating a 2D NumPy array\n",
    "arr_2d = np.array([[1, 2, 3], [4, 5, 6]])\n",
    "\n",
    "# Creating a DataFrame from the NumPy array\n",
    "dataframe = pd.DataFrame(arr_2d, index=[\"r1\", \"r2\"], columns=[\"c1\", \"c2\", \"c3\"])\n",
    "\n",
    "# Printing the DataFrame\n",
    "print(dataframe)\n"
   ]
  },
  {
   "cell_type": "code",
   "execution_count": 83,
   "id": "f33afc9b-edfd-4571-bcaa-353344de71c6",
   "metadata": {},
   "outputs": [
    {
     "name": "stdout",
     "output_type": "stream",
     "text": [
      "   Age   Name  Gender  Salary\n",
      "0   10   John    Male   25000\n",
      "1   15  Alexa  Female   15000\n",
      "2   20    Bob    Male   12000\n",
      "3   25  Elias    Male    8000\n"
     ]
    }
   ],
   "source": [
    "import pandas as pd\n",
    "\n",
    "# Creating a DataFrame\n",
    "dataframe = pd.DataFrame({\n",
    "    'Age': [10, 15, 20, 25],\n",
    "    'Name': ['John', 'Alexa', 'Bob', 'Elias'],\n",
    "    'Gender': ['Male', 'Female', 'Male', 'Male'],\n",
    "    'Salary': [25000, 15000, 12000, 8000]\n",
    "})\n",
    "\n",
    "# Printing the DataFrame\n",
    "print(dataframe)\n"
   ]
  },
  {
   "cell_type": "markdown",
   "id": "c828c744-2352-468a-85d8-a22515fbe318",
   "metadata": {},
   "source": [
    "**Set Index:**"
   ]
  },
  {
   "cell_type": "code",
   "execution_count": 85,
   "id": "e4698183-8a81-4c28-b994-7d680bcf84db",
   "metadata": {},
   "outputs": [
    {
     "name": "stdout",
     "output_type": "stream",
     "text": [
      "      Name  Gender  Salary\n",
      "Age                       \n",
      "10    John    Male   25000\n",
      "15   Alexa  Female   15000\n",
      "20     Bob    Male   12000\n",
      "25   Elias    Male    8000\n"
     ]
    }
   ],
   "source": [
    "import pandas as pd\n",
    "\n",
    "# Creating a DataFrame\n",
    "dataframe = pd.DataFrame({\n",
    "    'Age': [10, 15, 20, 25],\n",
    "    'Name': ['John', 'Alexa', 'Bob', 'Elias'],\n",
    "    'Gender': ['Male', 'Female', 'Male', 'Male'],\n",
    "    'Salary': [25000, 15000, 12000, 8000]\n",
    "})\n",
    "\n",
    "# Set the 'Age' column as the index (without modifying the original DataFrame)\n",
    "dataframe_1 = dataframe.set_index(\"Age\")\n",
    "# Printing the modified DataFrame with 'Age' as the index\n",
    "print(dataframe_1)"
   ]
  },
  {
   "cell_type": "markdown",
   "id": "6c7ba914-d4fd-4ce4-9bc1-37f334f29feb",
   "metadata": {},
   "source": [
    "**Reset Index :**"
   ]
  },
  {
   "cell_type": "code",
   "execution_count": 87,
   "id": "ddb3bf77-742e-4d00-a1f3-3abe2e7d7c84",
   "metadata": {},
   "outputs": [
    {
     "data": {
      "text/html": [
       "<div>\n",
       "<style scoped>\n",
       "    .dataframe tbody tr th:only-of-type {\n",
       "        vertical-align: middle;\n",
       "    }\n",
       "\n",
       "    .dataframe tbody tr th {\n",
       "        vertical-align: top;\n",
       "    }\n",
       "\n",
       "    .dataframe thead th {\n",
       "        text-align: right;\n",
       "    }\n",
       "</style>\n",
       "<table border=\"1\" class=\"dataframe\">\n",
       "  <thead>\n",
       "    <tr style=\"text-align: right;\">\n",
       "      <th></th>\n",
       "      <th>Age</th>\n",
       "      <th>Name</th>\n",
       "      <th>Gender</th>\n",
       "      <th>Salary</th>\n",
       "    </tr>\n",
       "  </thead>\n",
       "  <tbody>\n",
       "    <tr>\n",
       "      <th>0</th>\n",
       "      <td>10</td>\n",
       "      <td>John</td>\n",
       "      <td>Male</td>\n",
       "      <td>25000</td>\n",
       "    </tr>\n",
       "    <tr>\n",
       "      <th>1</th>\n",
       "      <td>15</td>\n",
       "      <td>Alexa</td>\n",
       "      <td>Female</td>\n",
       "      <td>15000</td>\n",
       "    </tr>\n",
       "    <tr>\n",
       "      <th>2</th>\n",
       "      <td>20</td>\n",
       "      <td>Bob</td>\n",
       "      <td>Male</td>\n",
       "      <td>12000</td>\n",
       "    </tr>\n",
       "    <tr>\n",
       "      <th>3</th>\n",
       "      <td>25</td>\n",
       "      <td>Elias</td>\n",
       "      <td>Male</td>\n",
       "      <td>8000</td>\n",
       "    </tr>\n",
       "  </tbody>\n",
       "</table>\n",
       "</div>"
      ],
      "text/plain": [
       "   Age   Name  Gender  Salary\n",
       "0   10   John    Male   25000\n",
       "1   15  Alexa  Female   15000\n",
       "2   20    Bob    Male   12000\n",
       "3   25  Elias    Male    8000"
      ]
     },
     "execution_count": 87,
     "metadata": {},
     "output_type": "execute_result"
    }
   ],
   "source": [
    "dataframe_1.reset_index()"
   ]
  },
  {
   "cell_type": "markdown",
   "id": "e30f2482-481f-4a35-ab99-79ac4327da01",
   "metadata": {},
   "source": [
    "## **Basic DataFrame Operations**\n",
    "- Once a DataFrame is created, you can perform many operations to explore, manipulate, and transform the data."
   ]
  },
  {
   "cell_type": "code",
   "execution_count": 327,
   "id": "3bd349a1-adf4-4976-935f-9d757b44b79d",
   "metadata": {},
   "outputs": [
    {
     "name": "stdout",
     "output_type": "stream",
     "text": [
      "        City  Population  Area (sq km)  Avg Temp (°C)\n",
      "0     Mumbai    20411000           603           26.0\n",
      "1      Delhi    16787941          1484           25.5\n",
      "2  Bangalore     8443675           709           24.0\n",
      "3    Kolkata    14900000           185           26.5\n",
      "4    Chennai     7090000           426           27.0\n",
      "5  Hyderabad     6809970           650           25.5\n",
      "6  Ahmedabad     5570585           464           28.0\n",
      "7       Pune     3124458           729           24.5\n"
     ]
    }
   ],
   "source": [
    "import pandas as pd\n",
    "\n",
    "# Creating a DataFrame with  city names and parameters\n",
    "data = {\n",
    "    'City': ['Mumbai', 'Delhi', 'Bangalore', 'Kolkata', 'Chennai', 'Hyderabad', 'Ahmedabad', 'Pune'],\n",
    "    'Population': [20411000, 16787941, 8443675, 14900000, 7090000, 6809970, 5570585, 3124458],  # Population as of 2021 estimates\n",
    "    'Area (sq km)': [603, 1484, 709, 185, 426, 650, 464, 729],  # Area in square kilometers\n",
    "    'Avg Temp (°C)': [26.0, 25.5, 24.0, 26.5, 27.0, 25.5, 28.0, 24.5]  # Average temperature\n",
    "}\n",
    "# Creating the DataFrame\n",
    "df_cities = pd.DataFrame(data)\n",
    "\n",
    "# Displaying the DataFrame\n",
    "print(df_cities)\n"
   ]
  },
  {
   "cell_type": "markdown",
   "id": "b3d3d4f3-5338-4e6d-8485-1a853a492042",
   "metadata": {},
   "source": [
    "**a.) Summary Information**"
   ]
  },
  {
   "cell_type": "code",
   "execution_count": 330,
   "id": "a0f65f87-a37e-4bac-aae1-b46f110dee82",
   "metadata": {},
   "outputs": [
    {
     "name": "stdout",
     "output_type": "stream",
     "text": [
      "<class 'pandas.core.frame.DataFrame'>\n",
      "RangeIndex: 8 entries, 0 to 7\n",
      "Data columns (total 4 columns):\n",
      " #   Column         Non-Null Count  Dtype  \n",
      "---  ------         --------------  -----  \n",
      " 0   City           8 non-null      object \n",
      " 1   Population     8 non-null      int64  \n",
      " 2   Area (sq km)   8 non-null      int64  \n",
      " 3   Avg Temp (°C)  8 non-null      float64\n",
      "dtypes: float64(1), int64(2), object(1)\n",
      "memory usage: 388.0+ bytes\n"
     ]
    }
   ],
   "source": [
    "import pandas as pd\n",
    "\n",
    "# Creating a DataFrame with  city names and parameters\n",
    "data = {\n",
    "    'City': ['Mumbai', 'Delhi', 'Bangalore', 'Kolkata', 'Chennai', 'Hyderabad', 'Ahmedabad', 'Pune'],\n",
    "    'Population': [20411000, 16787941, 8443675, 14900000, 7090000, 6809970, 5570585, 3124458],  # Population as of 2021 estimates\n",
    "    'Area (sq km)': [603, 1484, 709, 185, 426, 650, 464, 729],  # Area in square kilometers\n",
    "    'Avg Temp (°C)': [26.0, 25.5, 24.0, 26.5, 27.0, 25.5, 28.0, 24.5]  # Average temperature\n",
    "}\n",
    "# Creating the DataFrame\n",
    "df_cities = pd.DataFrame(data)\n",
    "\n",
    "df_cities.info()\n"
   ]
  },
  {
   "cell_type": "markdown",
   "id": "89037bc2-bdd8-47f0-b98d-adbc175fc25f",
   "metadata": {},
   "source": [
    "**Unique Values :**"
   ]
  },
  {
   "cell_type": "code",
   "execution_count": 333,
   "id": "a6d38c88-ef44-4941-a64d-18210a1f4f4a",
   "metadata": {},
   "outputs": [
    {
     "name": "stdout",
     "output_type": "stream",
     "text": [
      "Unique cities: ['Mumbai' 'Delhi' 'Bangalore' 'Kolkata' 'Chennai' 'Hyderabad' 'Ahmedabad'\n",
      " 'Pune']\n",
      "Unique average temperatures: [26.  25.5 24.  26.5 27.  28.  24.5]\n"
     ]
    }
   ],
   "source": [
    "import pandas as pd\n",
    "\n",
    "# Creating a DataFrame with city names and parameters\n",
    "data = {\n",
    "    'City': ['Mumbai', 'Delhi', 'Bangalore', 'Kolkata', 'Chennai', 'Hyderabad', 'Ahmedabad', 'Pune'],\n",
    "    'Population': [20411000, 16787941, 8443675, 14900000, 7090000, 6809970, 5570585, 3124458],  # Population as of 2021 estimates\n",
    "    'Area (sq km)': [603, 1484, 709, 185, 426, 650, 464, 729],  # Area in square kilometers\n",
    "    'Avg Temp (°C)': [26.0, 25.5, 24.0, 26.5, 27.0, 25.5, 28.0, 24.5]  # Average temperature\n",
    "}\n",
    "\n",
    "# Creating the DataFrame\n",
    "df_cities = pd.DataFrame(data)\n",
    "\n",
    "# Getting unique values for the 'City' column\n",
    "unique_cities = df_cities['City'].unique()\n",
    "\n",
    "# Printing unique city names\n",
    "print(\"Unique cities:\", unique_cities)\n",
    "\n",
    "# Getting unique values for the 'Avg Temp (°C)' column\n",
    "unique_temps = df_cities['Avg Temp (°C)'].unique()\n",
    "\n",
    "# Printing unique temperatures\n",
    "print(\"Unique average temperatures:\", unique_temps)\n"
   ]
  },
  {
   "cell_type": "markdown",
   "id": "d7aadcf0-40e3-4239-a9e6-5396502d1713",
   "metadata": {},
   "source": [
    "**b.) Viewing Data:**\n",
    "- **First few rows:**"
   ]
  },
  {
   "cell_type": "code",
   "execution_count": 336,
   "id": "f427ca1b-b8e3-456c-8398-c620c2c22559",
   "metadata": {},
   "outputs": [
    {
     "data": {
      "text/html": [
       "<div>\n",
       "<style scoped>\n",
       "    .dataframe tbody tr th:only-of-type {\n",
       "        vertical-align: middle;\n",
       "    }\n",
       "\n",
       "    .dataframe tbody tr th {\n",
       "        vertical-align: top;\n",
       "    }\n",
       "\n",
       "    .dataframe thead th {\n",
       "        text-align: right;\n",
       "    }\n",
       "</style>\n",
       "<table border=\"1\" class=\"dataframe\">\n",
       "  <thead>\n",
       "    <tr style=\"text-align: right;\">\n",
       "      <th></th>\n",
       "      <th>City</th>\n",
       "      <th>Population</th>\n",
       "      <th>Area (sq km)</th>\n",
       "      <th>Avg Temp (°C)</th>\n",
       "    </tr>\n",
       "  </thead>\n",
       "  <tbody>\n",
       "    <tr>\n",
       "      <th>0</th>\n",
       "      <td>Mumbai</td>\n",
       "      <td>20411000</td>\n",
       "      <td>603</td>\n",
       "      <td>26.0</td>\n",
       "    </tr>\n",
       "    <tr>\n",
       "      <th>1</th>\n",
       "      <td>Delhi</td>\n",
       "      <td>16787941</td>\n",
       "      <td>1484</td>\n",
       "      <td>25.5</td>\n",
       "    </tr>\n",
       "    <tr>\n",
       "      <th>2</th>\n",
       "      <td>Bangalore</td>\n",
       "      <td>8443675</td>\n",
       "      <td>709</td>\n",
       "      <td>24.0</td>\n",
       "    </tr>\n",
       "    <tr>\n",
       "      <th>3</th>\n",
       "      <td>Kolkata</td>\n",
       "      <td>14900000</td>\n",
       "      <td>185</td>\n",
       "      <td>26.5</td>\n",
       "    </tr>\n",
       "    <tr>\n",
       "      <th>4</th>\n",
       "      <td>Chennai</td>\n",
       "      <td>7090000</td>\n",
       "      <td>426</td>\n",
       "      <td>27.0</td>\n",
       "    </tr>\n",
       "  </tbody>\n",
       "</table>\n",
       "</div>"
      ],
      "text/plain": [
       "        City  Population  Area (sq km)  Avg Temp (°C)\n",
       "0     Mumbai    20411000           603           26.0\n",
       "1      Delhi    16787941          1484           25.5\n",
       "2  Bangalore     8443675           709           24.0\n",
       "3    Kolkata    14900000           185           26.5\n",
       "4    Chennai     7090000           426           27.0"
      ]
     },
     "execution_count": 336,
     "metadata": {},
     "output_type": "execute_result"
    }
   ],
   "source": [
    "df_cities.head()   \n",
    "\n",
    "# # Default shows first 5 rows"
   ]
  },
  {
   "cell_type": "code",
   "execution_count": 338,
   "id": "aa9866c0-d304-439b-9186-f9292de09bc4",
   "metadata": {},
   "outputs": [
    {
     "data": {
      "text/html": [
       "<div>\n",
       "<style scoped>\n",
       "    .dataframe tbody tr th:only-of-type {\n",
       "        vertical-align: middle;\n",
       "    }\n",
       "\n",
       "    .dataframe tbody tr th {\n",
       "        vertical-align: top;\n",
       "    }\n",
       "\n",
       "    .dataframe thead th {\n",
       "        text-align: right;\n",
       "    }\n",
       "</style>\n",
       "<table border=\"1\" class=\"dataframe\">\n",
       "  <thead>\n",
       "    <tr style=\"text-align: right;\">\n",
       "      <th></th>\n",
       "      <th>City</th>\n",
       "      <th>Population</th>\n",
       "      <th>Area (sq km)</th>\n",
       "      <th>Avg Temp (°C)</th>\n",
       "    </tr>\n",
       "  </thead>\n",
       "  <tbody>\n",
       "    <tr>\n",
       "      <th>0</th>\n",
       "      <td>Mumbai</td>\n",
       "      <td>20411000</td>\n",
       "      <td>603</td>\n",
       "      <td>26.0</td>\n",
       "    </tr>\n",
       "    <tr>\n",
       "      <th>1</th>\n",
       "      <td>Delhi</td>\n",
       "      <td>16787941</td>\n",
       "      <td>1484</td>\n",
       "      <td>25.5</td>\n",
       "    </tr>\n",
       "    <tr>\n",
       "      <th>2</th>\n",
       "      <td>Bangalore</td>\n",
       "      <td>8443675</td>\n",
       "      <td>709</td>\n",
       "      <td>24.0</td>\n",
       "    </tr>\n",
       "    <tr>\n",
       "      <th>3</th>\n",
       "      <td>Kolkata</td>\n",
       "      <td>14900000</td>\n",
       "      <td>185</td>\n",
       "      <td>26.5</td>\n",
       "    </tr>\n",
       "    <tr>\n",
       "      <th>4</th>\n",
       "      <td>Chennai</td>\n",
       "      <td>7090000</td>\n",
       "      <td>426</td>\n",
       "      <td>27.0</td>\n",
       "    </tr>\n",
       "    <tr>\n",
       "      <th>5</th>\n",
       "      <td>Hyderabad</td>\n",
       "      <td>6809970</td>\n",
       "      <td>650</td>\n",
       "      <td>25.5</td>\n",
       "    </tr>\n",
       "    <tr>\n",
       "      <th>6</th>\n",
       "      <td>Ahmedabad</td>\n",
       "      <td>5570585</td>\n",
       "      <td>464</td>\n",
       "      <td>28.0</td>\n",
       "    </tr>\n",
       "    <tr>\n",
       "      <th>7</th>\n",
       "      <td>Pune</td>\n",
       "      <td>3124458</td>\n",
       "      <td>729</td>\n",
       "      <td>24.5</td>\n",
       "    </tr>\n",
       "  </tbody>\n",
       "</table>\n",
       "</div>"
      ],
      "text/plain": [
       "        City  Population  Area (sq km)  Avg Temp (°C)\n",
       "0     Mumbai    20411000           603           26.0\n",
       "1      Delhi    16787941          1484           25.5\n",
       "2  Bangalore     8443675           709           24.0\n",
       "3    Kolkata    14900000           185           26.5\n",
       "4    Chennai     7090000           426           27.0\n",
       "5  Hyderabad     6809970           650           25.5\n",
       "6  Ahmedabad     5570585           464           28.0\n",
       "7       Pune     3124458           729           24.5"
      ]
     },
     "execution_count": 338,
     "metadata": {},
     "output_type": "execute_result"
    }
   ],
   "source": [
    "df_cities.head(10)\n",
    "\n",
    "## First 10 rows"
   ]
  },
  {
   "cell_type": "markdown",
   "id": "4b56092d-dd3d-4d27-ba5f-593068fa0f9f",
   "metadata": {},
   "source": [
    "- **Last Few Rows**"
   ]
  },
  {
   "cell_type": "code",
   "execution_count": 341,
   "id": "e4fef5de-57fc-4a39-9a42-75927234f268",
   "metadata": {},
   "outputs": [
    {
     "data": {
      "text/html": [
       "<div>\n",
       "<style scoped>\n",
       "    .dataframe tbody tr th:only-of-type {\n",
       "        vertical-align: middle;\n",
       "    }\n",
       "\n",
       "    .dataframe tbody tr th {\n",
       "        vertical-align: top;\n",
       "    }\n",
       "\n",
       "    .dataframe thead th {\n",
       "        text-align: right;\n",
       "    }\n",
       "</style>\n",
       "<table border=\"1\" class=\"dataframe\">\n",
       "  <thead>\n",
       "    <tr style=\"text-align: right;\">\n",
       "      <th></th>\n",
       "      <th>City</th>\n",
       "      <th>Population</th>\n",
       "      <th>Area (sq km)</th>\n",
       "      <th>Avg Temp (°C)</th>\n",
       "    </tr>\n",
       "  </thead>\n",
       "  <tbody>\n",
       "    <tr>\n",
       "      <th>3</th>\n",
       "      <td>Kolkata</td>\n",
       "      <td>14900000</td>\n",
       "      <td>185</td>\n",
       "      <td>26.5</td>\n",
       "    </tr>\n",
       "    <tr>\n",
       "      <th>4</th>\n",
       "      <td>Chennai</td>\n",
       "      <td>7090000</td>\n",
       "      <td>426</td>\n",
       "      <td>27.0</td>\n",
       "    </tr>\n",
       "    <tr>\n",
       "      <th>5</th>\n",
       "      <td>Hyderabad</td>\n",
       "      <td>6809970</td>\n",
       "      <td>650</td>\n",
       "      <td>25.5</td>\n",
       "    </tr>\n",
       "    <tr>\n",
       "      <th>6</th>\n",
       "      <td>Ahmedabad</td>\n",
       "      <td>5570585</td>\n",
       "      <td>464</td>\n",
       "      <td>28.0</td>\n",
       "    </tr>\n",
       "    <tr>\n",
       "      <th>7</th>\n",
       "      <td>Pune</td>\n",
       "      <td>3124458</td>\n",
       "      <td>729</td>\n",
       "      <td>24.5</td>\n",
       "    </tr>\n",
       "  </tbody>\n",
       "</table>\n",
       "</div>"
      ],
      "text/plain": [
       "        City  Population  Area (sq km)  Avg Temp (°C)\n",
       "3    Kolkata    14900000           185           26.5\n",
       "4    Chennai     7090000           426           27.0\n",
       "5  Hyderabad     6809970           650           25.5\n",
       "6  Ahmedabad     5570585           464           28.0\n",
       "7       Pune     3124458           729           24.5"
      ]
     },
     "execution_count": 341,
     "metadata": {},
     "output_type": "execute_result"
    }
   ],
   "source": [
    "df_cities.tail()\n",
    "\n",
    "# Last 5 rows"
   ]
  },
  {
   "cell_type": "code",
   "execution_count": 343,
   "id": "d0e853bd-c6c3-4a7f-87b3-5d621adf42cd",
   "metadata": {},
   "outputs": [
    {
     "data": {
      "text/html": [
       "<div>\n",
       "<style scoped>\n",
       "    .dataframe tbody tr th:only-of-type {\n",
       "        vertical-align: middle;\n",
       "    }\n",
       "\n",
       "    .dataframe tbody tr th {\n",
       "        vertical-align: top;\n",
       "    }\n",
       "\n",
       "    .dataframe thead th {\n",
       "        text-align: right;\n",
       "    }\n",
       "</style>\n",
       "<table border=\"1\" class=\"dataframe\">\n",
       "  <thead>\n",
       "    <tr style=\"text-align: right;\">\n",
       "      <th></th>\n",
       "      <th>City</th>\n",
       "      <th>Population</th>\n",
       "      <th>Area (sq km)</th>\n",
       "      <th>Avg Temp (°C)</th>\n",
       "    </tr>\n",
       "  </thead>\n",
       "  <tbody>\n",
       "    <tr>\n",
       "      <th>6</th>\n",
       "      <td>Ahmedabad</td>\n",
       "      <td>5570585</td>\n",
       "      <td>464</td>\n",
       "      <td>28.0</td>\n",
       "    </tr>\n",
       "    <tr>\n",
       "      <th>7</th>\n",
       "      <td>Pune</td>\n",
       "      <td>3124458</td>\n",
       "      <td>729</td>\n",
       "      <td>24.5</td>\n",
       "    </tr>\n",
       "  </tbody>\n",
       "</table>\n",
       "</div>"
      ],
      "text/plain": [
       "        City  Population  Area (sq km)  Avg Temp (°C)\n",
       "6  Ahmedabad     5570585           464           28.0\n",
       "7       Pune     3124458           729           24.5"
      ]
     },
     "execution_count": 343,
     "metadata": {},
     "output_type": "execute_result"
    }
   ],
   "source": [
    "df_cities.tail(2)\n",
    "# Last 2 rows"
   ]
  },
  {
   "cell_type": "markdown",
   "id": "7c12cb61-b58a-44d3-bb13-c14419f650f4",
   "metadata": {},
   "source": [
    "____________________"
   ]
  },
  {
   "cell_type": "markdown",
   "id": "3935cf58-31b2-4a87-ae73-b04286a94a30",
   "metadata": {},
   "source": [
    "**c.) Descriptive statistics**"
   ]
  },
  {
   "cell_type": "code",
   "execution_count": 347,
   "id": "b412e9e8-1210-45cd-bd84-c366505a395e",
   "metadata": {},
   "outputs": [
    {
     "data": {
      "text/html": [
       "<div>\n",
       "<style scoped>\n",
       "    .dataframe tbody tr th:only-of-type {\n",
       "        vertical-align: middle;\n",
       "    }\n",
       "\n",
       "    .dataframe tbody tr th {\n",
       "        vertical-align: top;\n",
       "    }\n",
       "\n",
       "    .dataframe thead th {\n",
       "        text-align: right;\n",
       "    }\n",
       "</style>\n",
       "<table border=\"1\" class=\"dataframe\">\n",
       "  <thead>\n",
       "    <tr style=\"text-align: right;\">\n",
       "      <th></th>\n",
       "      <th>Population</th>\n",
       "      <th>Area (sq km)</th>\n",
       "      <th>Avg Temp (°C)</th>\n",
       "    </tr>\n",
       "  </thead>\n",
       "  <tbody>\n",
       "    <tr>\n",
       "      <th>count</th>\n",
       "      <td>8.000000e+00</td>\n",
       "      <td>8.000000</td>\n",
       "      <td>8.00000</td>\n",
       "    </tr>\n",
       "    <tr>\n",
       "      <th>mean</th>\n",
       "      <td>1.039220e+07</td>\n",
       "      <td>656.250000</td>\n",
       "      <td>25.87500</td>\n",
       "    </tr>\n",
       "    <tr>\n",
       "      <th>std</th>\n",
       "      <td>6.155181e+06</td>\n",
       "      <td>379.505599</td>\n",
       "      <td>1.30247</td>\n",
       "    </tr>\n",
       "    <tr>\n",
       "      <th>min</th>\n",
       "      <td>3.124458e+06</td>\n",
       "      <td>185.000000</td>\n",
       "      <td>24.00000</td>\n",
       "    </tr>\n",
       "    <tr>\n",
       "      <th>25%</th>\n",
       "      <td>6.500124e+06</td>\n",
       "      <td>454.500000</td>\n",
       "      <td>25.25000</td>\n",
       "    </tr>\n",
       "    <tr>\n",
       "      <th>50%</th>\n",
       "      <td>7.766838e+06</td>\n",
       "      <td>626.500000</td>\n",
       "      <td>25.75000</td>\n",
       "    </tr>\n",
       "    <tr>\n",
       "      <th>75%</th>\n",
       "      <td>1.537199e+07</td>\n",
       "      <td>714.000000</td>\n",
       "      <td>26.62500</td>\n",
       "    </tr>\n",
       "    <tr>\n",
       "      <th>max</th>\n",
       "      <td>2.041100e+07</td>\n",
       "      <td>1484.000000</td>\n",
       "      <td>28.00000</td>\n",
       "    </tr>\n",
       "  </tbody>\n",
       "</table>\n",
       "</div>"
      ],
      "text/plain": [
       "         Population  Area (sq km)  Avg Temp (°C)\n",
       "count  8.000000e+00      8.000000        8.00000\n",
       "mean   1.039220e+07    656.250000       25.87500\n",
       "std    6.155181e+06    379.505599        1.30247\n",
       "min    3.124458e+06    185.000000       24.00000\n",
       "25%    6.500124e+06    454.500000       25.25000\n",
       "50%    7.766838e+06    626.500000       25.75000\n",
       "75%    1.537199e+07    714.000000       26.62500\n",
       "max    2.041100e+07   1484.000000       28.00000"
      ]
     },
     "execution_count": 347,
     "metadata": {},
     "output_type": "execute_result"
    }
   ],
   "source": [
    "#Summary Of Data.\n",
    "df_cities.describe()"
   ]
  },
  {
   "cell_type": "markdown",
   "id": "5132d7dc-f3c1-4284-9d44-8099d4f6063e",
   "metadata": {},
   "source": [
    "**Group by and aggregate:**"
   ]
  },
  {
   "cell_type": "code",
   "execution_count": 350,
   "id": "a1b6e031-2c41-4677-9665-674d3f01b3c3",
   "metadata": {},
   "outputs": [
    {
     "name": "stdout",
     "output_type": "stream",
     "text": [
      "           Population  Avg Temp (°C)\n",
      "City                                \n",
      "Ahmedabad     5570585           28.0\n",
      "Bangalore     8443675           24.0\n",
      "Chennai       7090000           27.0\n",
      "Delhi        16787941           25.5\n",
      "Hyderabad     6809970           25.5\n",
      "Kolkata      14900000           26.5\n",
      "Mumbai       20411000           26.0\n",
      "Pune          3124458           24.5\n"
     ]
    }
   ],
   "source": [
    "import pandas as pd\n",
    "\n",
    "# Creating a DataFrame with city names and parameters\n",
    "data = {\n",
    "    'City': ['Mumbai', 'Delhi', 'Bangalore', 'Kolkata', 'Chennai', 'Hyderabad', 'Ahmedabad', 'Pune'],\n",
    "    'Population': [20411000, 16787941, 8443675, 14900000, 7090000, 6809970, 5570585, 3124458],  # Population as of 2021 estimates\n",
    "    'Area (sq km)': [603, 1484, 709, 185, 426, 650, 464, 729],  # Area in square kilometers\n",
    "    'Avg Temp (°C)': [26.0, 25.5, 24.0, 26.5, 27.0, 25.5, 28.0, 24.5]  # Average temperature\n",
    "}\n",
    "\n",
    "# Creating the DataFrame\n",
    "df_cities = pd.DataFrame(data)\n",
    "\n",
    "# Grouping by 'City' (although this dataset has unique cities, this is just for demo)\n",
    "# Using aggregation to get the sum of 'Population' and the mean of 'Avg Temp (°C)'\n",
    "\n",
    "grouped = df_cities.groupby('City').agg({\n",
    "    'Population': 'sum',   # Sum of the population for each city\n",
    "    'Avg Temp (°C)': 'mean'  # Mean of the average temperature for each city\n",
    "})\n",
    "\n",
    "# Printing the grouped and aggregated DataFrame\n",
    "print(grouped)\n"
   ]
  },
  {
   "cell_type": "markdown",
   "id": "61c19163-52a5-4348-9005-9a4ca82e2464",
   "metadata": {},
   "source": [
    "_______"
   ]
  },
  {
   "cell_type": "markdown",
   "id": "06cc98bb-0276-4b12-9d08-6b2f212f0da4",
   "metadata": {},
   "source": [
    "**d.) Selecting Columns**"
   ]
  },
  {
   "cell_type": "markdown",
   "id": "3dc80c82-22c2-471f-9738-4dd45788e9ff",
   "metadata": {},
   "source": [
    "**For Single Column:**"
   ]
  },
  {
   "cell_type": "code",
   "execution_count": 355,
   "id": "39f2776f-ee60-45f1-87fa-54af94bce5a1",
   "metadata": {},
   "outputs": [
    {
     "name": "stdout",
     "output_type": "stream",
     "text": [
      "0    20411000\n",
      "1    16787941\n",
      "2     8443675\n",
      "3    14900000\n",
      "4     7090000\n",
      "5     6809970\n",
      "6     5570585\n",
      "7     3124458\n",
      "Name: Population, dtype: int64\n"
     ]
    }
   ],
   "source": [
    "# Select Single columns\n",
    "population = df_cities['Population']\n",
    "print(population)"
   ]
  },
  {
   "cell_type": "markdown",
   "id": "5d1e7a3c-c6e3-4acd-aaa0-a50cb11898b9",
   "metadata": {},
   "source": [
    "**For Multiple Column:**"
   ]
  },
  {
   "cell_type": "code",
   "execution_count": 358,
   "id": "81a2fb98-4840-4b2e-97b7-108d2fd4c05d",
   "metadata": {},
   "outputs": [
    {
     "name": "stdout",
     "output_type": "stream",
     "text": [
      "   Population       City\n",
      "0    20411000     Mumbai\n",
      "1    16787941      Delhi\n",
      "2     8443675  Bangalore\n",
      "3    14900000    Kolkata\n",
      "4     7090000    Chennai\n",
      "5     6809970  Hyderabad\n",
      "6     5570585  Ahmedabad\n",
      "7     3124458       Pune\n"
     ]
    }
   ],
   "source": [
    "# Select multiple columns\n",
    "print(df_cities[['Population', 'City']])"
   ]
  },
  {
   "cell_type": "markdown",
   "id": "50400f66-6dc6-4c69-b253-bd55a92a8438",
   "metadata": {},
   "source": [
    "___________"
   ]
  },
  {
   "cell_type": "markdown",
   "id": "736719dc-91ea-4fbd-9f81-99c9da0d83dd",
   "metadata": {},
   "source": [
    "**e.) Selecting Rows:**"
   ]
  },
  {
   "cell_type": "markdown",
   "id": "fc43670c-5c33-4f24-ad59-229d562578b7",
   "metadata": {},
   "source": [
    "**For Single Row:**"
   ]
  },
  {
   "cell_type": "code",
   "execution_count": 363,
   "id": "48829be0-e16f-4258-aa56-d09109e224d7",
   "metadata": {},
   "outputs": [
    {
     "name": "stdout",
     "output_type": "stream",
     "text": [
      "City               Mumbai\n",
      "Population       20411000\n",
      "Area (sq km)          603\n",
      "Avg Temp (°C)        26.0\n",
      "Name: 0, dtype: object\n"
     ]
    }
   ],
   "source": [
    "# Select a single row by index\n",
    "print(df_cities.iloc[0])  # Select the first row"
   ]
  },
  {
   "cell_type": "markdown",
   "id": "f4f67ee2-65e8-41d2-9ac4-32115cf0e3b7",
   "metadata": {},
   "source": [
    "**Accessing Row By label :**"
   ]
  },
  {
   "cell_type": "code",
   "execution_count": 366,
   "id": "b2a68795-4694-4eb3-9b7b-56f30ae48ca3",
   "metadata": {},
   "outputs": [
    {
     "name": "stdout",
     "output_type": "stream",
     "text": [
      "    City  Population  Area (sq km)  Avg Temp (°C)\n",
      "1  Delhi    16787941          1484           25.5\n"
     ]
    }
   ],
   "source": [
    "delhi_row = df_cities.loc[df_cities['City'] == 'Delhi']\n",
    "print(delhi_row)"
   ]
  },
  {
   "cell_type": "markdown",
   "id": "5f4e72aa-8ab0-4a29-a0bf-996db7456411",
   "metadata": {},
   "source": [
    "_____________"
   ]
  },
  {
   "cell_type": "markdown",
   "id": "c66a4ebc-e675-4aa0-9574-ec29bbdce1d7",
   "metadata": {},
   "source": [
    "**f.)Filtering Data**\n",
    "- Filter rows based on conditions:"
   ]
  },
  {
   "cell_type": "code",
   "execution_count": 370,
   "id": "4e372ab3-888f-412f-ac8a-780ede13d680",
   "metadata": {},
   "outputs": [
    {
     "name": "stdout",
     "output_type": "stream",
     "text": [
      "        City  Population  Area (sq km)  Avg Temp (°C)\n",
      "0     Mumbai    20411000           603           26.0\n",
      "1      Delhi    16787941          1484           25.5\n",
      "2  Bangalore     8443675           709           24.0\n",
      "3    Kolkata    14900000           185           26.5\n"
     ]
    }
   ],
   "source": [
    "high_population = df_cities[df_cities['Population'] > 8000000]\n",
    "print(high_population)"
   ]
  },
  {
   "cell_type": "code",
   "execution_count": null,
   "id": "b1f2271d-6385-486f-9276-3c30a12ebcfb",
   "metadata": {},
   "outputs": [],
   "source": []
  },
  {
   "cell_type": "markdown",
   "id": "f379b58c-44ad-4ce9-b07a-501554cffe10",
   "metadata": {},
   "source": [
    "________"
   ]
  },
  {
   "cell_type": "markdown",
   "id": "8cfadf2e-458f-43af-934f-bab58f7def21",
   "metadata": {},
   "source": [
    "**g.) Sorting:**"
   ]
  },
  {
   "cell_type": "markdown",
   "id": "18c5a507-a486-4dfb-b30f-26ee04be2f5c",
   "metadata": {},
   "source": [
    "**Ascending order:**"
   ]
  },
  {
   "cell_type": "code",
   "execution_count": 376,
   "id": "7d1541da-3d4e-4ffe-b8a1-de546e92a840",
   "metadata": {},
   "outputs": [
    {
     "name": "stdout",
     "output_type": "stream",
     "text": [
      "        City  Population  Area (sq km)  Avg Temp (°C)\n",
      "7       Pune     3124458           729           24.5\n",
      "6  Ahmedabad     5570585           464           28.0\n",
      "5  Hyderabad     6809970           650           25.5\n",
      "4    Chennai     7090000           426           27.0\n",
      "2  Bangalore     8443675           709           24.0\n",
      "3    Kolkata    14900000           185           26.5\n",
      "1      Delhi    16787941          1484           25.5\n",
      "0     Mumbai    20411000           603           26.0\n"
     ]
    }
   ],
   "source": [
    "# Sorting the DataFrame by \"Age\" in ascending order\n",
    "sorted_df_Asc = df_cities.sort_values(by=\"Population\", ascending=True)\n",
    "\n",
    "# Printing the sorted DataFrame\n",
    "print(sorted_df_Asc)"
   ]
  },
  {
   "cell_type": "code",
   "execution_count": null,
   "id": "261fbe41-efe2-4adf-a838-f2fe6529d806",
   "metadata": {},
   "outputs": [],
   "source": []
  },
  {
   "cell_type": "markdown",
   "id": "00aaec37-4a55-4cf7-8709-2a0607b13f36",
   "metadata": {},
   "source": [
    "**Descending Order:**\n",
    "- The `sort_values()` method uses the `ascending` parameter to control the order, with `False meaning descending order`."
   ]
  },
  {
   "cell_type": "code",
   "execution_count": 380,
   "id": "6aecbe94-560e-4ef6-9351-ac68bbb46895",
   "metadata": {},
   "outputs": [
    {
     "name": "stdout",
     "output_type": "stream",
     "text": [
      "        City  Population  Area (sq km)  Avg Temp (°C)\n",
      "0     Mumbai    20411000           603           26.0\n",
      "1      Delhi    16787941          1484           25.5\n",
      "3    Kolkata    14900000           185           26.5\n",
      "2  Bangalore     8443675           709           24.0\n",
      "4    Chennai     7090000           426           27.0\n",
      "5  Hyderabad     6809970           650           25.5\n",
      "6  Ahmedabad     5570585           464           28.0\n",
      "7       Pune     3124458           729           24.5\n"
     ]
    }
   ],
   "source": [
    "# Sorting the DataFrame by \"Population\" in descending order\n",
    "sorted_df_Desc = df_cities.sort_values(by=\"Population\", ascending=False)\n",
    "\n",
    "# Printing the sorted DataFrame\n",
    "print(sorted_df_Desc)"
   ]
  },
  {
   "cell_type": "markdown",
   "id": "c948bd8f-436e-4ee6-b480-b334d7e531df",
   "metadata": {},
   "source": [
    "**h.) Addition :**"
   ]
  },
  {
   "cell_type": "markdown",
   "id": "80242647-f1ff-4343-866c-e6a46e6ab370",
   "metadata": {},
   "source": [
    "**1. Adding a New Row:**\n",
    "- To add a new row, you can use the `loc[]` method or the `append()` method."
   ]
  },
  {
   "cell_type": "markdown",
   "id": "31d804d5-7e57-45a6-a8d4-38223cacdfc6",
   "metadata": {},
   "source": [
    "**Using `loc[]` :**"
   ]
  },
  {
   "cell_type": "code",
   "execution_count": 385,
   "id": "d2d8a5ea-4a58-43e0-a942-113788432147",
   "metadata": {},
   "outputs": [
    {
     "name": "stdout",
     "output_type": "stream",
     "text": [
      "\n",
      "DataFrame after adding a new row:\n",
      "        City  Population\n",
      "0     Mumbai    20411000\n",
      "1      Delhi    16787941\n",
      "2  Bangalore     8443675\n",
      "3    Kolkata    14900000\n",
      "4    Chennai     7090000\n"
     ]
    }
   ],
   "source": [
    "import pandas as pd\n",
    "\n",
    "# Creating a DataFrame\n",
    "data = {\n",
    "    'City': ['Mumbai', 'Delhi', 'Bangalore', 'Kolkata'],\n",
    "    'Population': [20411000, 16787941, 8443675, 14900000]\n",
    "}\n",
    "\n",
    "df = pd.DataFrame(data)\n",
    "\n",
    "# Adding a new row using loc[]\n",
    "df.loc[4] = ['Chennai', 7090000]\n",
    "\n",
    "# Printing the updated DataFrame\n",
    "print(\"\\nDataFrame after adding a new row:\")\n",
    "print(df)\n"
   ]
  },
  {
   "cell_type": "markdown",
   "id": "a6e907c5-8953-4298-a3e5-4f983b66e253",
   "metadata": {},
   "source": [
    "**Using `concat()`:**"
   ]
  },
  {
   "cell_type": "code",
   "execution_count": 388,
   "id": "699a7322-2f04-4496-bf35-e3d6b0ddafbd",
   "metadata": {},
   "outputs": [
    {
     "name": "stdout",
     "output_type": "stream",
     "text": [
      "\n",
      "DataFrame after adding a new row:\n",
      "        City  Population\n",
      "0     Mumbai    20411000\n",
      "1      Delhi    16787941\n",
      "2  Bangalore     8443675\n",
      "3    Kolkata    14900000\n",
      "4    Chennai     7090000\n"
     ]
    }
   ],
   "source": [
    "import pandas as pd\n",
    "\n",
    "# Creating a DataFrame\n",
    "data = {\n",
    "    'City': ['Mumbai', 'Delhi', 'Bangalore', 'Kolkata'],\n",
    "    'Population': [20411000, 16787941, 8443675, 14900000]\n",
    "}\n",
    "\n",
    "df = pd.DataFrame(data)\n",
    "\n",
    "# Adding a new row using pd.concat()\n",
    "new_row = pd.DataFrame({'City': ['Chennai'], 'Population': [7090000]})\n",
    "df = pd.concat([df, new_row], ignore_index=True)\n",
    "\n",
    "# Printing the updated DataFrame\n",
    "print(\"\\nDataFrame after adding a new row:\")\n",
    "print(df)\n"
   ]
  },
  {
   "cell_type": "markdown",
   "id": "f0d726d0-4933-4f26-bc9d-33bc0dd80428",
   "metadata": {},
   "source": [
    "________"
   ]
  },
  {
   "cell_type": "markdown",
   "id": "4b21483f-0563-4d33-85bc-a959d8eef90d",
   "metadata": {},
   "source": [
    "**2.Adding New Column :**"
   ]
  },
  {
   "cell_type": "code",
   "execution_count": 392,
   "id": "81bc550d-dfa7-4fef-8fe3-da5642981a1a",
   "metadata": {},
   "outputs": [
    {
     "name": "stdout",
     "output_type": "stream",
     "text": [
      "DataFrame after adding new columns:\n",
      "        City  Population Country  Population in Millions\n",
      "0     Mumbai    20411000   India               20.411000\n",
      "1      Delhi    16787941   India               16.787941\n",
      "2  Bangalore     8443675   India                8.443675\n",
      "3    Kolkata    14900000   India               14.900000\n"
     ]
    }
   ],
   "source": [
    "import pandas as pd\n",
    "\n",
    "# Creating a DataFrame\n",
    "data = {\n",
    "    'City': ['Mumbai', 'Delhi', 'Bangalore', 'Kolkata'],\n",
    "    'Population': [20411000, 16787941, 8443675, 14900000]\n",
    "}\n",
    "\n",
    "df = pd.DataFrame(data)\n",
    "\n",
    "# Adding a new column 'Country' with a constant value\n",
    "df['Country'] = 'India'\n",
    "\n",
    "# Adding a new column 'Population in Millions' as a calculated column\n",
    "df['Population in Millions'] = df['Population'] / 1_000_000\n",
    "\n",
    "# Printing the updated DataFrame\n",
    "print(\"DataFrame after adding new columns:\")\n",
    "print(df)\n"
   ]
  },
  {
   "cell_type": "markdown",
   "id": "d779f90a-af5f-4a0d-a473-0bec63ef2ea4",
   "metadata": {},
   "source": [
    "__________________"
   ]
  },
  {
   "cell_type": "markdown",
   "id": "961ff68c-f493-4dff-b03d-6ca9d351e647",
   "metadata": {},
   "source": [
    "**h.) Dropping :**"
   ]
  },
  {
   "cell_type": "markdown",
   "id": "550d5d26-f8f7-4667-ab90-b4df687687ad",
   "metadata": {},
   "source": [
    "**Drop Single row :**"
   ]
  },
  {
   "cell_type": "code",
   "execution_count": 397,
   "id": "114ca385-c5ad-4da9-b2db-7c0cc10f4869",
   "metadata": {},
   "outputs": [
    {
     "name": "stdout",
     "output_type": "stream",
     "text": [
      "   Age   Name  Gender  Salary\n",
      "0   10   John    Male   25000\n",
      "1   15  Alexa  Female   15000\n",
      "3   25  Elias    Male    8000\n"
     ]
    }
   ],
   "source": [
    "import pandas as pd\n",
    "\n",
    "# Creating a sample DataFrame\n",
    "dataframe_1 = pd.DataFrame({\n",
    "    'Age': [10, 15, 20, 25],\n",
    "    'Name': ['John', 'Alexa', 'Bob', 'Elias'],\n",
    "    'Gender': ['Male', 'Female', 'Male', 'Male'],\n",
    "    'Salary': [25000, 15000, 12000, 8000]\n",
    "})\n",
    "\n",
    "# Drop the row at index 2\n",
    "dataframe_1 = dataframe_1.drop(index=2)\n",
    "\n",
    "# Printing the modified DataFrame\n",
    "print(dataframe_1)"
   ]
  },
  {
   "cell_type": "markdown",
   "id": "27dbf220-e7ea-44c2-b614-a2129cbeaa4a",
   "metadata": {},
   "source": [
    "**Drop Multiple Rows :**"
   ]
  },
  {
   "cell_type": "code",
   "execution_count": 400,
   "id": "21e7e0a1-c9c0-408d-95a0-ad7a2ceb2679",
   "metadata": {},
   "outputs": [
    {
     "name": "stdout",
     "output_type": "stream",
     "text": [
      "   Age   Name Gender  Salary\n",
      "3   25  Elias   Male    8000\n"
     ]
    }
   ],
   "source": [
    "import pandas as pd\n",
    "\n",
    "# Creating a sample DataFrame\n",
    "dataframe_1 = pd.DataFrame({\n",
    "    'Age': [10, 15, 20, 25],\n",
    "    'Name': ['John', 'Alexa', 'Bob', 'Elias'],\n",
    "    'Gender': ['Male', 'Female', 'Male', 'Male'],\n",
    "    'Salary': [25000, 15000, 12000, 8000]\n",
    "})\n",
    "\n",
    "# Drop multiple rows at indices  0, 1 and 2\n",
    "dataframe_1 = dataframe_1.drop(index=[0,1,2])\n",
    "\n",
    "# Printing the modified DataFrame\n",
    "print(dataframe_1)\n"
   ]
  },
  {
   "cell_type": "markdown",
   "id": "84f1770e-3c30-4018-b3b4-0a68956c24b2",
   "metadata": {},
   "source": [
    "**Dropping Rows with Missing Values**"
   ]
  },
  {
   "cell_type": "code",
   "execution_count": 403,
   "id": "61d66698-00bc-4a0c-bef7-aa4107c09e83",
   "metadata": {},
   "outputs": [
    {
     "name": "stdout",
     "output_type": "stream",
     "text": [
      "DataFrame after dropping rows with missing values:\n",
      "        City  Population  Avg Temp (°C)\n",
      "0     Mumbai  20411000.0           26.0\n",
      "1      Delhi  16787941.0           25.5\n",
      "5  Hyderabad   6809970.0           25.5\n"
     ]
    }
   ],
   "source": [
    "import pandas as pd\n",
    "\n",
    "# Creating a DataFrame with some missing values\n",
    "data = {\n",
    "    'City': ['Mumbai', 'Delhi', 'Bangalore', None, 'Chennai', 'Hyderabad'],\n",
    "    'Population': [20411000, 16787941, None, 14900000, None, 6809970],\n",
    "    'Avg Temp (°C)': [26.0, 25.5, 24.0, None, 27.0, 25.5]\n",
    "}\n",
    "\n",
    "df = pd.DataFrame(data)\n",
    "\n",
    "# Dropping rows with missing values\n",
    "df_cleaned = df.dropna()\n",
    "\n",
    "# Printing the cleaned DataFrame\n",
    "print(\"DataFrame after dropping rows with missing values:\")\n",
    "print(df_cleaned)"
   ]
  },
  {
   "cell_type": "markdown",
   "id": "a29adc15-07de-4535-992f-1997d5d24e0e",
   "metadata": {},
   "source": [
    "**Filling Missing Values with a Specific Value**"
   ]
  },
  {
   "cell_type": "code",
   "execution_count": 406,
   "id": "be365ba3-aa3e-4d91-9401-287fd7c8f18b",
   "metadata": {},
   "outputs": [
    {
     "name": "stdout",
     "output_type": "stream",
     "text": [
      "\n",
      "DataFrame after filling missing values with 0:\n",
      "        City  Population  Avg Temp (°C)\n",
      "0     Mumbai  20411000.0           26.0\n",
      "1      Delhi  16787941.0           25.5\n",
      "2  Bangalore         0.0           24.0\n",
      "3          0  14900000.0            0.0\n",
      "4    Chennai         0.0           27.0\n",
      "5  Hyderabad   6809970.0           25.5\n"
     ]
    }
   ],
   "source": [
    "import pandas as pd\n",
    "\n",
    "# Creating a DataFrame with some missing values\n",
    "data = {\n",
    "    'City': ['Mumbai', 'Delhi', 'Bangalore', None, 'Chennai', 'Hyderabad'],\n",
    "    'Population': [20411000, 16787941, None, 14900000, None, 6809970],\n",
    "    'Avg Temp (°C)': [26.0, 25.5, 24.0, None, 27.0, 25.5]\n",
    "}\n",
    "\n",
    "df = pd.DataFrame(data)\n",
    "\n",
    "# Filling missing values with 0\n",
    "df_filled = df.fillna(0)\n",
    "\n",
    "# Printing the DataFrame with filled missing values\n",
    "print(\"\\nDataFrame after filling missing values with 0:\")\n",
    "print(df_filled)"
   ]
  },
  {
   "cell_type": "markdown",
   "id": "4aea2c6a-d1e5-4cd0-a7a8-03c5ab197654",
   "metadata": {},
   "source": [
    "___________"
   ]
  },
  {
   "cell_type": "markdown",
   "id": "0c46088d-5ebf-40a3-9f09-80cce747a19b",
   "metadata": {},
   "source": [
    "**Drop Single Column :**"
   ]
  },
  {
   "cell_type": "code",
   "execution_count": 410,
   "id": "33b41871-b0b1-4823-acd3-8c1cc0d1434d",
   "metadata": {},
   "outputs": [
    {
     "name": "stdout",
     "output_type": "stream",
     "text": [
      "    Name  Gender  Salary\n",
      "0   John    Male   25000\n",
      "1  Alexa  Female   15000\n",
      "2    Bob    Male   12000\n",
      "3  Elias    Male    8000\n"
     ]
    }
   ],
   "source": [
    "# Creating a sample DataFrame\n",
    "dataframe_1 = pd.DataFrame({\n",
    "    'Age': [10, 15, 20, 25],\n",
    "    'Name': ['John', 'Alexa', 'Bob', 'Elias'],\n",
    "    'Gender': ['Male', 'Female', 'Male', 'Male'],\n",
    "    'Salary': [25000, 15000, 12000, 8000]\n",
    "})\n",
    "\n",
    "dataframe_1=dataframe_1.drop(columns=\"Age\")\n",
    "print(dataframe_1)"
   ]
  },
  {
   "cell_type": "markdown",
   "id": "fd716275-f201-4cbb-89c7-7711ac95e309",
   "metadata": {},
   "source": [
    "**Drop Multiple Columns:**"
   ]
  },
  {
   "cell_type": "code",
   "execution_count": 413,
   "id": "c4d11271-ca23-4e7e-8a33-9d148be36500",
   "metadata": {},
   "outputs": [
    {
     "name": "stdout",
     "output_type": "stream",
     "text": [
      "    Name  Salary\n",
      "0   John   25000\n",
      "1  Alexa   15000\n",
      "2    Bob   12000\n",
      "3  Elias    8000\n"
     ]
    }
   ],
   "source": [
    "import pandas as pd\n",
    "\n",
    "# Creating a sample DataFrame\n",
    "dataframe_1 = pd.DataFrame({\n",
    "    'Age': [10, 15, 20, 25],\n",
    "    'Name': ['John', 'Alexa', 'Bob', 'Elias'],\n",
    "    'Gender': ['Male', 'Female', 'Male', 'Male'],\n",
    "    'Salary': [25000, 15000, 12000, 8000]\n",
    "})\n",
    "\n",
    "# Dropping the 'Age' and 'Gender' columns\n",
    "dataframe_1 = dataframe_1.drop(columns=[\"Age\", \"Gender\"])\n",
    "\n",
    "# Printing the modified DataFrame\n",
    "print(dataframe_1)\n"
   ]
  },
  {
   "cell_type": "markdown",
   "id": "b865f67e-57a0-4f1e-8a08-8c6f3fb6ff30",
   "metadata": {},
   "source": [
    "______________"
   ]
  },
  {
   "cell_type": "markdown",
   "id": "d75b806c-f52a-4392-b59b-483a13d200b0",
   "metadata": {},
   "source": [
    "**i.) Combining DataFrames :**"
   ]
  },
  {
   "cell_type": "code",
   "execution_count": 417,
   "id": "86e7497c-ccf2-4841-83d5-907a5a670705",
   "metadata": {},
   "outputs": [
    {
     "name": "stdout",
     "output_type": "stream",
     "text": [
      "          City  Population  Humidity\n",
      "0     New York     8419600        65\n",
      "1  Los Angeles     3980400        58\n",
      "2      Chicago     2716000        77\n",
      "3      Houston     2328000        74\n",
      "4      Phoenix     1690000        31\n"
     ]
    }
   ],
   "source": [
    "import pandas as pd\n",
    "\n",
    "# First DataFrame: City Names and Population\n",
    "df_cities = pd.DataFrame({\n",
    "    'City': ['New York', 'Los Angeles', 'Chicago', 'Houston', 'Phoenix'],\n",
    "    'Population': [8419600, 3980400, 2716000, 2328000, 1690000]\n",
    "})\n",
    "\n",
    "# Second DataFrame: City Names and Humidity\n",
    "df_humidity = pd.DataFrame({\n",
    "    'City': ['New York', 'Los Angeles', 'Chicago', 'Houston', 'Phoenix'],\n",
    "    'Humidity': [65, 58, 77, 74, 31]\n",
    "})\n",
    "\n",
    "# Concatenating the two DataFrames column-wise (axis=1)\n",
    "df_combined = pd.concat([df_cities, df_humidity['Humidity']], axis=1)\n",
    "\n",
    "# Printing the combined DataFrame\n",
    "print(df_combined)\n"
   ]
  },
  {
   "cell_type": "markdown",
   "id": "f329df8d-e891-4d23-bd5c-bead25c122ec",
   "metadata": {},
   "source": [
    "**Concept of `concat()`:**\n",
    "- The `concat()` function in pandas is used to concatenate (or combine) two or more DataFrames. This can be done either:\n",
    "\n",
    "- **Row-wise (axis=0):** Stacks DataFrames vertically (one below the other).\n",
    "- **Column-wise (axis=1):** Joins DataFrames side by side (combines column\n",
    "\n",
    "we will use axis=1 to concatenate the DataFrames column-wise:"
   ]
  },
  {
   "cell_type": "markdown",
   "id": "42097ceb-339b-4248-9c4d-1f9ed1933be4",
   "metadata": {},
   "source": [
    "**OR**"
   ]
  },
  {
   "cell_type": "markdown",
   "id": "a5ea0c2a-3acb-4ac5-a166-1bab42f6af7f",
   "metadata": {},
   "source": [
    "**Using `Merge()`:**"
   ]
  },
  {
   "cell_type": "code",
   "execution_count": 422,
   "id": "5bc31b57-8a4c-4ed1-b11d-35bbea0f9f29",
   "metadata": {},
   "outputs": [
    {
     "name": "stdout",
     "output_type": "stream",
     "text": [
      "          City  Population  Humidity\n",
      "0     New York     8419600        65\n",
      "1  Los Angeles     3980400        58\n",
      "2      Chicago     2716000        77\n",
      "3      Houston     2328000        74\n",
      "4      Phoenix     1690000        31\n"
     ]
    }
   ],
   "source": [
    "import pandas as pd\n",
    "\n",
    "# First DataFrame: City Names and Population\n",
    "df_cities = pd.DataFrame({\n",
    "    'City': ['New York', 'Los Angeles', 'Chicago', 'Houston', 'Phoenix'],\n",
    "    'Population': [8419600, 3980400, 2716000, 2328000, 1690000]\n",
    "})\n",
    "\n",
    "# Second DataFrame: City Names and Humidity\n",
    "df_humidity = pd.DataFrame({\n",
    "    'City': ['New York', 'Los Angeles', 'Chicago', 'Houston', 'Phoenix'],\n",
    "    'Humidity': [65, 58, 77, 74, 31]\n",
    "})\n",
    "\n",
    "# Combining the two DataFrames based on the 'City' column\n",
    "df_combined = pd.merge(df_cities, df_humidity, on=\"City\")\n",
    "\n",
    "# Printing the combined DataFrame\n",
    "print(df_combined)\n"
   ]
  },
  {
   "cell_type": "markdown",
   "id": "1d515b61-d98f-4108-b801-747b447672c6",
   "metadata": {},
   "source": [
    "Here, we use the `merge()` function to combine both DataFrames into a single one, based on the common column \"City\".\n",
    "\n",
    "**Explanation of Parameters:**\n",
    "\n",
    "- `df_cities`: The first DataFrame to merge.\n",
    "- `df_humidity`: The second DataFrame to merge.\n",
    "- `on=\"City\"`: Specifies that the common column to merge on is City. This means that the rows will be matched based on the City column.\n",
    "- The `merge()` operation joins rows that have matching values in the City column, and it includes data from both DataFrames (Population from df_cities and Humidity from df_humidity).\n",
    "\n",
    "- The result is a combined DataFrame df_combined that includes:\n",
    "\n",
    "- The `City column` from both `DataFrames`.\n",
    "- The `Population column` from `df_cities`.\n",
    "- The `Humidity column` from `df_humidity`.\n",
    "- The resulting DataFrame looks like this:"
   ]
  },
  {
   "cell_type": "code",
   "execution_count": 425,
   "id": "9fffaeff-c798-4234-a181-647083d57e30",
   "metadata": {},
   "outputs": [
    {
     "name": "stdout",
     "output_type": "stream",
     "text": [
      "          City  Population  Humidity\n",
      "0     New York     8419600        65\n",
      "1  Los Angeles     3980400        58\n",
      "2      Chicago     2716000        77\n",
      "3      Houston     2328000        74\n",
      "4      Phoenix     1690000        31\n"
     ]
    }
   ],
   "source": [
    "# Printing the combined DataFrame\n",
    "print(df_combined)"
   ]
  },
  {
   "cell_type": "markdown",
   "id": "bf90678e-507d-4969-82f5-9b47f5ebe616",
   "metadata": {},
   "source": [
    "__________"
   ]
  },
  {
   "cell_type": "markdown",
   "id": "0aba9246-cbb4-4d1f-a79e-ba86f9afdc15",
   "metadata": {},
   "source": [
    "**j.) Joints:**"
   ]
  },
  {
   "cell_type": "markdown",
   "id": "078a6219-fc20-4b03-a441-3be650834b3e",
   "metadata": {},
   "source": [
    "**1) Left Join :**\n",
    "A `left join` in pandas using `merge()` ensures that all rows from the left DataFrame (the one specified first) are included in the result, even if there are no corresponding matches in the right DataFrame. Rows from the right DataFrame will only appear in the result if they have a match in the left DataFrame. If there is no match, pandas will fill in the missing values with NaN."
   ]
  },
  {
   "cell_type": "markdown",
   "id": "b383a1ff-9cbb-4787-a707-98f9f1aa9acb",
   "metadata": {},
   "source": [
    "**Example:**\n",
    "\n",
    "Let’s create two DataFrames. \n",
    "- One with city names and population, \n",
    "- and another with city names and humidity.\n",
    "- This time, we'll include an extra city in the left DataFrame that does not exist in the right DataFrame."
   ]
  },
  {
   "cell_type": "code",
   "execution_count": 238,
   "id": "2f5c1bc9-2b2b-46ee-887d-03bf90db38e2",
   "metadata": {},
   "outputs": [
    {
     "name": "stdout",
     "output_type": "stream",
     "text": [
      "          City  Population  Humidity\n",
      "0     New York     8419600      65.0\n",
      "1  Los Angeles     3980400      58.0\n",
      "2      Chicago     2716000      77.0\n",
      "3      Houston     2328000      74.0\n",
      "4      Phoenix     1690000      31.0\n",
      "5       Austin      964000       NaN\n"
     ]
    }
   ],
   "source": [
    "import pandas as pd\n",
    "\n",
    "# First DataFrame: City Names and Population (Left DataFrame)\n",
    "df_cities = pd.DataFrame({\n",
    "    'City': ['New York', 'Los Angeles', 'Chicago', 'Houston', 'Phoenix', 'Austin'],  # Added 'Austin'\n",
    "    'Population': [8419600, 3980400, 2716000, 2328000, 1690000, 964000]\n",
    "})\n",
    "\n",
    "# Second DataFrame: City Names and Humidity (Right DataFrame)\n",
    "df_humidity = pd.DataFrame({\n",
    "    'City': ['New York', 'Los Angeles', 'Chicago', 'Houston', 'Phoenix'],\n",
    "    'Humidity': [65, 58, 77, 74, 31]\n",
    "})\n",
    "\n",
    "# Performing a Left Join (all rows from df_cities will appear, regardless of match in df_humidity)\n",
    "df_left_join = pd.merge(df_cities, df_humidity, on=\"City\", how=\"left\")\n",
    "\n",
    "# Printing the result\n",
    "print(df_left_join)\n"
   ]
  },
  {
   "cell_type": "markdown",
   "id": "bf4c8f12-061f-4d64-92db-c198e712612c",
   "metadata": {},
   "source": [
    "**Explanation:**\n",
    "\n",
    "DataFrames:\n",
    "- df_cities (left DataFrame) contains the cities: New York, Los Angeles, Chicago, Houston, Phoenix, and Austin (with population data).\n",
    "- df_humidity (right DataFrame) contains humidity data for only five cities: New York, Los Angeles, Chicago, Houston, and Phoenix.\n",
    "\n",
    "\n",
    "**Left Join:**\n",
    "- We performed a **left join** by specifying **how=\"left\".**\n",
    "\n",
    "- **All rows from the left DataFrame (df_cities) are included in the result.**\n",
    "\n",
    "- For the rows where there is no matching City in the right DataFrame (df_humidity), the Humidity value is NaN. In this case, \"Austin\" is present in the left DataFrame but not in the right DataFrame, so its humidity value is NaN.\n",
    "\n",
    "**How it works:**\n",
    "\n",
    "- T**he left join ensures that all rows from the left DataFrame (df_cities) are included, even if there’s no matching data in the right DataFrame.**\n",
    "- Only the matching rows from the right DataFrame (df_humidity) are combined into the result.\n",
    "For unmatched rows, pandas fills in the missing values with NaN.\n",
    "\n",
    "**Key Parameters of merge():**\n",
    "- `on=\"City\"`: Specifies the common column on which the DataFrames will be merged.\n",
    "- `how=\"left\"`: Indicates a left join, which keeps all rows from the left DataFrame (df_cities), and includes matching rows from the right DataFrame (df_humidity).\n",
    "\n",
    "\n",
    "**Conclusion:**\n",
    "In a left join, all rows from the left DataFrame are preserved, and only the matching rows from the right DataFrame are included. When there’s no match, pandas will insert NaN for the missing data. This is useful when you want to ensure that no data is lost from the left DataFrame, even if there isn’t corresponding data in the right DataFrame."
   ]
  },
  {
   "cell_type": "markdown",
   "id": "6df9e827-d359-4141-bb0b-b0e6184f2635",
   "metadata": {},
   "source": [
    "____________"
   ]
  },
  {
   "cell_type": "markdown",
   "id": "8584bcbd-facb-4b3b-8fd0-cb5d2984fdb0",
   "metadata": {},
   "source": [
    "**2. Right join:**\n",
    "\n",
    "- A right join in pandas using merge() ensures that all rows from the right DataFrame (the one specified second) are included in the result, even if there are no corresponding matches in the left DataFrame. Rows from the left DataFrame will only appear in the result if they have a match in the right DataFrame. If there is no match, pandas will fill in the missing values with NaN."
   ]
  },
  {
   "cell_type": "markdown",
   "id": "bd743fb6-6f3a-4c42-8ab0-f2a148380f63",
   "metadata": {},
   "source": [
    "**Example:**\n",
    "\n",
    "Let’s create two DataFrames again, this time performing a **right join**, where **we want to keep all rows from the df_humidity DataFrame.**"
   ]
  },
  {
   "cell_type": "code",
   "execution_count": 149,
   "id": "6c1f7dd2-f1d9-444f-beda-d97a167f80f9",
   "metadata": {},
   "outputs": [
    {
     "name": "stdout",
     "output_type": "stream",
     "text": [
      "          City  Population  Humidity\n",
      "0     New York   8419600.0        65\n",
      "1  Los Angeles   3980400.0        58\n",
      "2      Chicago   2716000.0        77\n",
      "3      Houston   2328000.0        74\n",
      "4      Phoenix         NaN        31\n"
     ]
    }
   ],
   "source": [
    "import pandas as pd\n",
    "\n",
    "# First DataFrame: City Names and Population (Left DataFrame)\n",
    "df_cities = pd.DataFrame({\n",
    "    'City': ['New York', 'Los Angeles', 'Chicago', 'Houston', 'Austin'],  # 'Phoenix' is missing\n",
    "    'Population': [8419600, 3980400, 2716000, 2328000, 964000]\n",
    "})\n",
    "\n",
    "# Second DataFrame: City Names and Humidity (Right DataFrame)\n",
    "df_humidity = pd.DataFrame({\n",
    "    'City': ['New York', 'Los Angeles', 'Chicago', 'Houston', 'Phoenix'],  # 'Austin' is missing\n",
    "    'Humidity': [65, 58, 77, 74, 31]\n",
    "})\n",
    "\n",
    "# Performing a Right Join (all rows from df_humidity will appear, regardless of match in df_cities)\n",
    "df_right_join = pd.merge(df_cities, df_humidity, on=\"City\", how=\"right\")\n",
    "\n",
    "# Printing the result\n",
    "print(df_right_join)\n"
   ]
  },
  {
   "cell_type": "markdown",
   "id": "87af13c0-0f82-41f6-8c20-deeaed3f7ae6",
   "metadata": {},
   "source": [
    "**Explanation:**\n",
    "\n",
    "**DataFrames:**\n",
    "\n",
    "- df_cities (left DataFrame) contains the cities: New York, Los Angeles, Chicago, Houston, and Austin (with population data).\n",
    "- df_humidity (right DataFrame) contains humidity data for the cities: New York, Los Angeles, Chicago, Houston, and Phoenix.\n",
    "\n",
    "**Right Join:**\n",
    "\n",
    "- We performed a right join by specifying how=\"right\".\n",
    "- All rows from the right DataFrame (df_humidity) are included in the result.\n",
    "- For the rows where there is no matching City in the left DataFrame (df_cities), the Population value is NaN.\n",
    "- In this case, \"Phoenix\" is present in the right DataFrame but not in the left DataFrame, so its population value is NaN.\n",
    "\n",
    "**How it works:**\n",
    "\n",
    "- The right join ensures that all rows from the right DataFrame (df_humidity) are included, even if there’s no matching data in the left DataFrame (df_cities).\n",
    "- Only the matching rows from the left DataFrame (df_cities) are combined into the result.\n",
    "- For unmatched rows, pandas fills in the missing values with NaN. In this case, \"Austin\" is not present in the right DataFrame, so it doesn't appear in the result.\n",
    "\n",
    "\n",
    "**Result:**\n",
    "\n",
    "- The final DataFrame contains three columns: City, Population, and Humidity.\n",
    "Cities that are only in the right DataFrame (like \"Phoenix\") appear with NaN in the Population column.\n",
    "- Cities that are only in the left DataFrame (like \"Austin\") are excluded from the result, because they don't have a match in the right DataFrame.\n",
    "\n",
    "**Key Parameters of merge():**\n",
    "- on=\"City\": Specifies the common column on which the DataFrames will be merged.\n",
    "- how=\"right\": Indicates a right join, which keeps all rows from the right DataFrame -(df_humidity), and includes matching rows from the left DataFrame (df_cities).\n",
    "\n",
    "**Conclusion:**\n",
    "\n",
    "In a right join, all rows from the right DataFrame are preserved, and only the matching rows from the left DataFrame are included. When there’s no match, pandas will insert NaN for the missing data. This is useful when you want to make sure no data from the right DataFrame is lost, even if there isn’t corresponding data in the left DataFrame."
   ]
  },
  {
   "cell_type": "markdown",
   "id": "422c9f1e-c468-4ad6-995b-cbabebbc44ab",
   "metadata": {},
   "source": [
    "___________"
   ]
  },
  {
   "cell_type": "markdown",
   "id": "2af60d95-bc0d-441c-b4fa-0848ceeba43c",
   "metadata": {},
   "source": [
    "**3.Inner Join:**\n",
    "\n",
    "- An inner join in pandas using the merge() function returns only the rows where there is a match in both DataFrames. Any rows that don't have a match in both DataFrames are excluded from the result."
   ]
  },
  {
   "cell_type": "markdown",
   "id": "efeb8a9d-144f-4d54-bb38-8f8cff023450",
   "metadata": {},
   "source": [
    "**Example:**\n",
    "\n",
    "We will create two DataFrames, one containing city names and population, and another containing city names and humidity. Then we'll perform an inner join to get only the cities that are common in both DataFrames."
   ]
  },
  {
   "cell_type": "code",
   "execution_count": 154,
   "id": "dcc988ea-b7a7-445b-acf1-fe6ca423c73e",
   "metadata": {},
   "outputs": [
    {
     "name": "stdout",
     "output_type": "stream",
     "text": [
      "          City  Population  Humidity\n",
      "0     New York     8419600        65\n",
      "1  Los Angeles     3980400        58\n",
      "2      Chicago     2716000        77\n",
      "3      Houston     2328000        74\n"
     ]
    }
   ],
   "source": [
    "import pandas as pd\n",
    "\n",
    "# First DataFrame: City Names and Population\n",
    "df_cities = pd.DataFrame({\n",
    "    'City': ['New York', 'Los Angeles', 'Chicago', 'Houston', 'Austin'],  # 'Phoenix' is missing\n",
    "    'Population': [8419600, 3980400, 2716000, 2328000, 964000]\n",
    "})\n",
    "\n",
    "# Second DataFrame: City Names and Humidity\n",
    "df_humidity = pd.DataFrame({\n",
    "    'City': ['New York', 'Los Angeles', 'Chicago', 'Houston', 'Phoenix'],  # 'Austin' is missing\n",
    "    'Humidity': [65, 58, 77, 74, 31]\n",
    "})\n",
    "\n",
    "# Performing an Inner Join (only matching rows will be included)\n",
    "df_inner_join = pd.merge(df_cities, df_humidity, on=\"City\", how=\"inner\")\n",
    "\n",
    "# Printing the result\n",
    "print(df_inner_join)\n"
   ]
  },
  {
   "cell_type": "markdown",
   "id": "341fb685-4c62-47b0-9096-6f12616619cd",
   "metadata": {},
   "source": [
    "**Explanation:**\n",
    "\n",
    "**DataFrames:**\n",
    "\n",
    "- df_cities contains city names and their populations for New York, Los Angeles, Chicago, Houston, and Austin.\n",
    "- df_humidity contains city names and humidity data for New York, Los Angeles, Chicago, Houston, and Phoenix.\n",
    "\n",
    "**Inner Join:**\n",
    "\n",
    "- We performed an inner join by specifying how=\"inner\".\n",
    "- An inner join returns only the rows that have matching values in both DataFrames.\n",
    "- Cities that exist in both DataFrames are included in the result (New York, Los Angeles, Chicago, and Houston).\n",
    "- Cities that exist in only one DataFrame (Austin in df_cities and Phoenix in df_humidity) are excluded from the result.\n",
    "\n",
    "**How it works:**\n",
    "\n",
    "- The merge() function matches rows based on the City column from both DataFrames.\n",
    "- Only rows where the city is present in both DataFrames are included in the resulting DataFrame.\n",
    "- The resulting DataFrame contains columns for City, Population, and Humidity.\n",
    "\n",
    "**Key Parameters of merge():**\n",
    "- on=\"City\": Specifies the common column on which the DataFrames will be merged.\n",
    "- how=\"inner\": Indicates an inner join, which keeps only the rows that have matching values in both DataFrames.\n",
    "\n",
    "**Conclusion:**\n",
    "- In an inner join, only the rows that have matching values in both DataFrames are included in the result.\n",
    "- Rows that don't have a match in both DataFrames are excluded.\n",
    "- This is useful when you want to work only with data that exists in both datasets."
   ]
  },
  {
   "cell_type": "markdown",
   "id": "6e03a684-5f73-4817-bf97-2254b9b03044",
   "metadata": {},
   "source": [
    "____________"
   ]
  },
  {
   "cell_type": "markdown",
   "id": "7047ad86-9450-486c-8a15-070d4a098843",
   "metadata": {},
   "source": [
    "**4.Outer Join :**\n",
    "- An outer join in pandas using the merge() function returns all rows from both DataFrames. If there is no match in either DataFrame, pandas will fill in the missing values with NaN. This is useful when you want to retain all the data from both DataFrames, even if some entries don't have corresponding matches in the other DataFrame."
   ]
  },
  {
   "cell_type": "code",
   "execution_count": 158,
   "id": "62ea14a4-83a5-43ec-bbd0-212b13645588",
   "metadata": {},
   "outputs": [
    {
     "name": "stdout",
     "output_type": "stream",
     "text": [
      "          City  Population  Humidity\n",
      "0     New York   8419600.0      65.0\n",
      "1  Los Angeles   3980400.0      58.0\n",
      "2      Chicago   2716000.0      77.0\n",
      "3      Houston   2328000.0      74.0\n",
      "4       Austin    964000.0       NaN\n",
      "5      Phoenix         NaN      31.0\n"
     ]
    }
   ],
   "source": [
    "import pandas as pd\n",
    "\n",
    "# First DataFrame: City Names and Population\n",
    "df_cities = pd.DataFrame({\n",
    "    'City': ['New York', 'Los Angeles', 'Chicago', 'Houston', 'Austin'],  # 'Phoenix' is missing\n",
    "    'Population': [8419600, 3980400, 2716000, 2328000, 964000]\n",
    "})\n",
    "\n",
    "# Second DataFrame: City Names and Humidity\n",
    "df_humidity = pd.DataFrame({\n",
    "    'City': ['New York', 'Los Angeles', 'Chicago', 'Houston', 'Phoenix'],  # 'Austin' is missing\n",
    "    'Humidity': [65, 58, 77, 74, 31]\n",
    "})\n",
    "\n",
    "# Performing an Outer Join (all rows from both DataFrames will appear)\n",
    "df_outer_join = pd.merge(df_cities, df_humidity, on=\"City\", how=\"outer\")\n",
    "\n",
    "# Printing the result\n",
    "print(df_outer_join)"
   ]
  },
  {
   "cell_type": "markdown",
   "id": "3ef71faa-8307-4861-b438-c417a7fd5c5f",
   "metadata": {},
   "source": [
    "**Explanation:**\n",
    "\n",
    "**DataFrames:**\n",
    "\n",
    "- df_cities contains city names and their populations for New York, Los Angeles, Chicago, Houston, and Austin.\n",
    "- df_humidity contains city names and humidity data for New York, Los Angeles, Chicago, Houston, and Phoenix.\n",
    "\n",
    "\n",
    "**Outer Join:**\n",
    "\n",
    "- We performed an outer join by specifying how=\"outer\".\n",
    "- An outer join returns all the rows from both DataFrames.\n",
    "- Cities that exist in both DataFrames are included with complete data.\n",
    "- Cities that exist in only one DataFrame (Austin in df_cities and Phoenix in df_humidity) are included with NaN in the columns where data is missing.\n",
    "\n",
    "**How it works:**\n",
    "\n",
    "- The merge() function matches rows based on the City column from both DataFrames.\n",
    "- All rows from both DataFrames are retained. Where a match exists, data from both DataFrames is combined. Where no match exists, the missing values are filled with NaN.\n",
    "\n",
    "**Result:**\n",
    "\n",
    "- The final DataFrame contains three columns: City, Population, and Humidity.\n",
    "- \"Austin\" is included in the result with a NaN in the Humidity column because it doesn’t have a corresponding entry in df_humidity.\n",
    "- \"Phoenix\" is included in the result with a NaN in the Population column because it doesn’t have a corresponding entry in df_cities.\n",
    "\n",
    "**Key Parameters of merge():**\n",
    "- on=\"City\": Specifies the common column on which the DataFrames will be merged.\n",
    "- how=\"outer\": Indicates an outer join, which keeps all rows from both DataFrames, regardless of whether they have a match in the other DataFrame.\n",
    "\n",
    "**Conclusion:**\n",
    "- In an outer join, all rows from both DataFrames are included in the result, even if they don’t have matching rows in the other DataFrame. Missing values are filled with NaN, which allows you to retain all the data from both DataFrames. This is useful when you want to combine datasets without losing any information, even if some entries don't have corresponding matches in the other dataset."
   ]
  },
  {
   "cell_type": "markdown",
   "id": "89c03b71-4011-436b-b175-39555ad533b5",
   "metadata": {},
   "source": [
    "____________________"
   ]
  },
  {
   "cell_type": "code",
   "execution_count": null,
   "id": "65c0a4e4-a7d0-47e5-b459-204f53fca9ef",
   "metadata": {},
   "outputs": [],
   "source": []
  }
 ],
 "metadata": {
  "kernelspec": {
   "display_name": "Python 3 (ipykernel)",
   "language": "python",
   "name": "python3"
  },
  "language_info": {
   "codemirror_mode": {
    "name": "ipython",
    "version": 3
   },
   "file_extension": ".py",
   "mimetype": "text/x-python",
   "name": "python",
   "nbconvert_exporter": "python",
   "pygments_lexer": "ipython3",
   "version": "3.11.7"
  }
 },
 "nbformat": 4,
 "nbformat_minor": 5
}
