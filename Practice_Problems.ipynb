{
 "cells": [
  {
   "cell_type": "markdown",
   "id": "b742445e-4881-47ff-9567-a0985a3654fd",
   "metadata": {},
   "source": [
    "\n",
    "\n",
    "\n",
    "# **Practice Problems**\n"
   ]
  },
  {
   "cell_type": "markdown",
   "id": "f2246d16-a7e5-44f8-9fe6-18046b546408",
   "metadata": {},
   "source": [
    "1. Create a variable named carname and assign the value Volvo to it."
   ]
  },
  {
   "cell_type": "code",
   "execution_count": 52,
   "id": "d198af30-d224-4dbc-9407-8224b989ea20",
   "metadata": {},
   "outputs": [
    {
     "name": "stdout",
     "output_type": "stream",
     "text": [
      "Volvo\n"
     ]
    }
   ],
   "source": [
    "carname='Volvo'\n",
    "print(carname)"
   ]
  },
  {
   "cell_type": "markdown",
   "id": "f998c435-cef3-4bc6-8e19-3cdd1c0e620e",
   "metadata": {},
   "source": [
    "2. Create a variable x and assign it the value 5."
   ]
  },
  {
   "cell_type": "code",
   "execution_count": 55,
   "id": "373f0a45-9f83-4060-984e-8e3dbb36c189",
   "metadata": {},
   "outputs": [
    {
     "name": "stdout",
     "output_type": "stream",
     "text": [
      "5\n"
     ]
    }
   ],
   "source": [
    "x = 5 \n",
    "print(x)"
   ]
  },
  {
   "cell_type": "markdown",
   "id": "8c2c0961-18b1-484e-81e2-41af932e4f98",
   "metadata": {},
   "source": [
    "3. Create a variable x and assign it the any value. Now delete the variable."
   ]
  },
  {
   "cell_type": "code",
   "execution_count": 58,
   "id": "1e46e81a-b758-4987-8a82-cefc67cd4daf",
   "metadata": {},
   "outputs": [
    {
     "name": "stdout",
     "output_type": "stream",
     "text": [
      "20\n"
     ]
    },
    {
     "ename": "NameError",
     "evalue": "name 'x' is not defined",
     "output_type": "error",
     "traceback": [
      "\u001b[1;31m---------------------------------------------------------------------------\u001b[0m",
      "\u001b[1;31mNameError\u001b[0m                                 Traceback (most recent call last)",
      "Cell \u001b[1;32mIn[58], line 6\u001b[0m\n\u001b[0;32m      2\u001b[0m \u001b[38;5;28mprint\u001b[39m(x)\n\u001b[0;32m      4\u001b[0m \u001b[38;5;28;01mdel\u001b[39;00m(x)\n\u001b[1;32m----> 6\u001b[0m \u001b[38;5;28mprint\u001b[39m(x)\n",
      "\u001b[1;31mNameError\u001b[0m: name 'x' is not defined"
     ]
    }
   ],
   "source": [
    "x = 20\n",
    "print(x)\n",
    "\n",
    "del(x)\n",
    "\n",
    "print(x)"
   ]
  },
  {
   "cell_type": "markdown",
   "id": "f7850b3e-ee9e-47e9-a8a1-c21d53ab7e08",
   "metadata": {},
   "source": [
    "4. Create two variables a and b, assign them values of 5 and 6 respectively."
   ]
  },
  {
   "cell_type": "code",
   "execution_count": 61,
   "id": "203026ff-7677-4c80-8753-6493c801118f",
   "metadata": {},
   "outputs": [
    {
     "name": "stdout",
     "output_type": "stream",
     "text": [
      "5 6\n"
     ]
    }
   ],
   "source": [
    "a = 5 \n",
    "b = 6\n",
    "\n",
    "print(a,b)"
   ]
  },
  {
   "cell_type": "markdown",
   "id": "5270026c-af15-410d-87d5-8ae6310a4ded",
   "metadata": {},
   "source": [
    "5. Create a variable name and assign it your name as a string. Now print the variable name."
   ]
  },
  {
   "cell_type": "code",
   "execution_count": 64,
   "id": "c1d00c74-7a72-448c-bfa8-e9d7d497104e",
   "metadata": {},
   "outputs": [
    {
     "name": "stdout",
     "output_type": "stream",
     "text": [
      "Silvester\n"
     ]
    }
   ],
   "source": [
    "name = 'Silvester'\n",
    "print(name)"
   ]
  },
  {
   "cell_type": "markdown",
   "id": "44591ec7-fc04-4bac-aac0-0920f75e7211",
   "metadata": {},
   "source": [
    "6. Create a variable age and assign it your age. Now print the variable age."
   ]
  },
  {
   "cell_type": "code",
   "execution_count": 67,
   "id": "a63afd2b-3b28-4973-8269-5e2a402f8dba",
   "metadata": {},
   "outputs": [
    {
     "name": "stdout",
     "output_type": "stream",
     "text": [
      "24\n"
     ]
    }
   ],
   "source": [
    "age = 24\n",
    "print(age)"
   ]
  },
  {
   "cell_type": "markdown",
   "id": "f828088b-1fc7-4de6-afbe-a5c09ebc08d0",
   "metadata": {},
   "source": [
    "7. Create a variable is_python_fun and assign it the boolean value True. Now print the variable\n",
    "is_python_fun."
   ]
  },
  {
   "cell_type": "code",
   "execution_count": 72,
   "id": "0016bd8c-cd1a-4dc1-9dce-b81d4557acf3",
   "metadata": {},
   "outputs": [
    {
     "name": "stdout",
     "output_type": "stream",
     "text": [
      "True\n"
     ]
    }
   ],
   "source": [
    "is_python_fun = True\n",
    "\n",
    "print(is_python_fun)"
   ]
  },
  {
   "cell_type": "markdown",
   "id": "08d30a9c-f8a2-4b8d-ab56-bb5c51736ea3",
   "metadata": {},
   "source": [
    "8. What is the naming convention for variable names in Python?"
   ]
  },
  {
   "cell_type": "code",
   "execution_count": null,
   "id": "e9e73b60-8291-4ded-b0bb-7760402827fb",
   "metadata": {},
   "outputs": [],
   "source": [
    "# Good variable names\n",
    "name = \"John\"\n",
    "age = 30\n",
    "is_admin = True\n",
    "\n",
    "# Bad variable names\n",
    "1variable = \"Hello\"  # starts with a digit\n",
    "!variable = \"World\"  # starts with a special character\n",
    "if = \"conditional\"  # same as Python keyword"
   ]
  },
  {
   "cell_type": "markdown",
   "id": "aefddd2d-0ac5-49b5-b931-094393fed61b",
   "metadata": {},
   "source": [
    "9. What happens when you try to use a variable that has not been defined in Python?"
   ]
  },
  {
   "cell_type": "code",
   "execution_count": 78,
   "id": "443001d4-c62d-4270-8224-c96724ec5c1e",
   "metadata": {},
   "outputs": [
    {
     "ename": "NameError",
     "evalue": "name 'x' is not defined",
     "output_type": "error",
     "traceback": [
      "\u001b[1;31m---------------------------------------------------------------------------\u001b[0m",
      "\u001b[1;31mNameError\u001b[0m                                 Traceback (most recent call last)",
      "Cell \u001b[1;32mIn[78], line 1\u001b[0m\n\u001b[1;32m----> 1\u001b[0m \u001b[38;5;28mprint\u001b[39m(x)\n",
      "\u001b[1;31mNameError\u001b[0m: name 'x' is not defined"
     ]
    }
   ],
   "source": [
    "print(x)  # raises NameError: name 'x' is not defined"
   ]
  },
  {
   "cell_type": "markdown",
   "id": "70c8a4b8-3ba3-4bb8-aba6-50b27ad4e6af",
   "metadata": {},
   "source": [
    "10. How do you create a multi-line comments in Python?"
   ]
  },
  {
   "cell_type": "code",
   "execution_count": 89,
   "id": "17879d1f-233e-47ab-93fc-ea54081699fb",
   "metadata": {},
   "outputs": [
    {
     "data": {
      "text/plain": [
       "'This is a multi-line comment.\\nIt can span multiple lines.'"
      ]
     },
     "execution_count": 89,
     "metadata": {},
     "output_type": "execute_result"
    }
   ],
   "source": [
    "\"\"\"\n",
    "This is a multi-line comment.\n",
    "It can span multiple lines.\n",
    "\"\"\""
   ]
  },
  {
   "cell_type": "markdown",
   "id": "4ad4ecfd-8b8c-475a-ae01-3e3eb15d3841",
   "metadata": {},
   "source": [
    "11. How to assign single value to multiple variable?"
   ]
  },
  {
   "cell_type": "code",
   "execution_count": 92,
   "id": "6aeb6db3-13e0-4fbd-80a1-996769e77b3e",
   "metadata": {},
   "outputs": [
    {
     "name": "stdout",
     "output_type": "stream",
     "text": [
      "5\n",
      "5\n",
      "5\n"
     ]
    }
   ],
   "source": [
    "x = y = z = 5\n",
    "print(x)  # prints 5\n",
    "print(y)  # prints 5\n",
    "print(z)  # prints 5"
   ]
  },
  {
   "cell_type": "code",
   "execution_count": 94,
   "id": "039853cf-d915-46e1-814b-4fdcf2ec2fd7",
   "metadata": {},
   "outputs": [
    {
     "data": {
      "text/plain": [
       "1"
      ]
     },
     "execution_count": 94,
     "metadata": {},
     "output_type": "execute_result"
    }
   ],
   "source": [
    "int(float(bool(str(13))))"
   ]
  },
  {
   "cell_type": "code",
   "execution_count": null,
   "id": "e95612ce-2b0f-43a8-8f57-94b170b40b5f",
   "metadata": {},
   "outputs": [],
   "source": []
  },
  {
   "cell_type": "code",
   "execution_count": null,
   "id": "18c5bcdb-ed42-4988-8daf-555cb9df7671",
   "metadata": {},
   "outputs": [],
   "source": []
  }
 ],
 "metadata": {
  "kernelspec": {
   "display_name": "Python 3 (ipykernel)",
   "language": "python",
   "name": "python3"
  },
  "language_info": {
   "codemirror_mode": {
    "name": "ipython",
    "version": 3
   },
   "file_extension": ".py",
   "mimetype": "text/x-python",
   "name": "python",
   "nbconvert_exporter": "python",
   "pygments_lexer": "ipython3",
   "version": "3.11.7"
  }
 },
 "nbformat": 4,
 "nbformat_minor": 5
}
