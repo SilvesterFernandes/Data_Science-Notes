{
 "cells": [
  {
   "cell_type": "markdown",
   "id": "fcd08227",
   "metadata": {},
   "source": [
    "# Core Python\n",
    "\n",
    "- Variable's\n"
   ]
  },
  {
   "cell_type": "markdown",
   "id": "485fbdc7",
   "metadata": {},
   "source": [
    "\n",
    "# Comments \n",
    "\n",
    "- Comments can be used to explain Python Code\n",
    "\n",
    "- Comments can be used  make the code more readable\n",
    "\n",
    "- Comments are ignored during execution ( not Consideing while executing the code)\n",
    "\n",
    "- Single line comments  starts with #, and python will ignore them\n",
    "\n",
    "- Multi- Line Comments starts with  \"\"\" and ends with \"\"\"\n",
    "              "
   ]
  },
  {
   "cell_type": "code",
   "execution_count": 1,
   "id": "d8df77b5",
   "metadata": {},
   "outputs": [
    {
     "name": "stdout",
     "output_type": "stream",
     "text": [
      "Hello\n"
     ]
    }
   ],
   "source": [
    "# First Example of Single Line Comment    (First line starting with # will ignore)\n",
    "\n",
    "print (\"Hello\")"
   ]
  },
  {
   "cell_type": "code",
   "execution_count": 2,
   "id": "59ce1279",
   "metadata": {},
   "outputs": [
    {
     "name": "stdout",
     "output_type": "stream",
     "text": [
      "Hello\n"
     ]
    }
   ],
   "source": [
    "\"\"\"\"\"This is Multi-\n",
    "        Line\n",
    "Comment\"\"\"\"\"    # Either  two Single quote OR Three Double Quote\n",
    "\n",
    "print(\"Hello\")"
   ]
  },
  {
   "cell_type": "markdown",
   "id": "9e9c04ff",
   "metadata": {},
   "source": [
    "# Variables\n",
    "- Stores a value\n",
    "\n",
    "- Generally Values will be of\n",
    "\n",
    "    **Numeric**\n",
    "             \n",
    "             - Without Decimal  ( Ex. 1, 2 , 900, 24000)  \n",
    "             - With Decimal ( Ex. 10.20  , 1.5 , 1.02 )\n",
    "             \n",
    "            \n",
    "    **Non-Numeric (Text)** \n",
    "            \n",
    "            - Only Text \n",
    "            - Combination of Text with Numeric\n",
    "            - Combination of Text with Special Characters\n",
    "            \n",
    "            \n",
    "**Rules in Naming Variables** - \n",
    "\n",
    "- A variable name must start with a letter (a-z,A-Z) or the underscore character (_)\n",
    "\n",
    "- A variable accepts only underscore _ symbol only. \n",
    "\n",
    "- A variable name cannot be start with number\n",
    "\n",
    "- A variable name can contain combination of alpha-numeric characters and underscores\n",
    "\n",
    "- Variable names are Case-Sensitive  (age, Age, AGE are three different Varaibles )\n",
    "\n",
    "- It Can't accept reserve / Keywords\n",
    "\n",
    "- List of Reserved Keywords : [36 Keywords]\n",
    "                             \n",
    "              False                 None             True                and                    as                 assert        \n",
    "              async                 await             break             class               continue             def        \n",
    "              del                       elif                else               except             finally                 for           \n",
    "              from                  global               if                   import                in                     is             \n",
    "              lambda            nonlocal           not                    or                  pass                 raise                   \n",
    "              return                   try               while                with                yield\n",
    "     "
   ]
  },
  {
   "cell_type": "code",
   "execution_count": 36,
   "id": "2537ec6e",
   "metadata": {},
   "outputs": [],
   "source": [
    "x=10"
   ]
  },
  {
   "cell_type": "code",
   "execution_count": 37,
   "id": "bfd943fd",
   "metadata": {},
   "outputs": [
    {
     "data": {
      "text/plain": [
       "20"
      ]
     },
     "execution_count": 37,
     "metadata": {},
     "output_type": "execute_result"
    }
   ],
   "source": [
    "x + 10"
   ]
  },
  {
   "cell_type": "code",
   "execution_count": 38,
   "id": "182a75db",
   "metadata": {},
   "outputs": [],
   "source": [
    "a = 20 "
   ]
  },
  {
   "cell_type": "code",
   "execution_count": 39,
   "id": "699b64e1",
   "metadata": {},
   "outputs": [],
   "source": [
    "a1 = 50 "
   ]
  },
  {
   "cell_type": "code",
   "execution_count": 40,
   "id": "02a6443b",
   "metadata": {},
   "outputs": [],
   "source": [
    "a_1 = 20 "
   ]
  },
  {
   "cell_type": "code",
   "execution_count": 41,
   "id": "0a26ea19",
   "metadata": {},
   "outputs": [],
   "source": [
    "# Correct Ways to Declare Variables\n",
    " \n",
    "a     = 20\n",
    "\n",
    "b     = -400\n",
    "\n",
    "c     =  20.5 \n",
    "\n",
    "num1    = 30\n",
    "\n",
    "num_1   = 10\n",
    "\n",
    "_num    =  5\n",
    "\n",
    "name = \"Hello , @ , !  , 44 \"    #  <---------  Non-Numeric Data    -----> 16.2.2.4\n",
    "\n",
    "Complex_num = 1+3j\n"
   ]
  },
  {
   "cell_type": "code",
   "execution_count": 1,
   "id": "6e76e9a5",
   "metadata": {},
   "outputs": [],
   "source": [
    "# Ways to Declare Variables :\n",
    "\n",
    "myvar = \"John\"\n",
    "\n",
    "my_var = \"John\"\n",
    "\n",
    "_my_var = \"John\"\n",
    "\n",
    "myVar = \"John\"\n",
    "\n",
    "MYVAR = \"John\"\n",
    "\n",
    "myvar2 = \"John\""
   ]
  },
  {
   "cell_type": "code",
   "execution_count": 42,
   "id": "b533ce1f",
   "metadata": {},
   "outputs": [
    {
     "ename": "SyntaxError",
     "evalue": "invalid decimal literal (3971561347.py, line 3)",
     "output_type": "error",
     "traceback": [
      "\u001b[1;36m  Cell \u001b[1;32mIn[42], line 3\u001b[1;36m\u001b[0m\n\u001b[1;33m    1a = 50         # Variable Name cannot be start with Numeric Value\u001b[0m\n\u001b[1;37m    ^\u001b[0m\n\u001b[1;31mSyntaxError\u001b[0m\u001b[1;31m:\u001b[0m invalid decimal literal\n"
     ]
    }
   ],
   "source": [
    "# Incorrect Ways - to Declare Variables\n",
    "\n",
    "1a = 50         # Variable Name cannot be start with Numeric Value\n",
    "print(1a)\n",
    "\n",
    "@a = 10       # Variable Name should be start with Alpha-Numeric , or Only Underscore (_)\n",
    "print(@a)\n",
    "\n",
    "\n",
    "if = 70         # Reserved Words cannot be used as Variable.\n",
    "\n",
    "print(if)   \n",
    "\n"
   ]
  },
  {
   "cell_type": "code",
   "execution_count": null,
   "id": "3c61c899",
   "metadata": {},
   "outputs": [],
   "source": []
  },
  {
   "cell_type": "markdown",
   "id": "b88bb9f8",
   "metadata": {},
   "source": [
    "**Variable Assignment :** - Storing a value in variable\n",
    "- 1 Value to 1 Variable  :   e.g.  x=10\n",
    "\n",
    "- Multiple Values to 1 Variable : e.g.  x = 10,20,30\n",
    "\n",
    "- 1 Value to Multiple Variables : e.g. x=y=z=10\n",
    "\n",
    "- Multiple Values to Multiple Variables "
   ]
  },
  {
   "cell_type": "markdown",
   "id": "01158f1c",
   "metadata": {},
   "source": [
    "**1.One Value to One Variable :** "
   ]
  },
  {
   "cell_type": "code",
   "execution_count": 43,
   "id": "44e7d68e",
   "metadata": {},
   "outputs": [
    {
     "name": "stdout",
     "output_type": "stream",
     "text": [
      "10\n"
     ]
    }
   ],
   "source": [
    "x = 10 \n",
    "\n",
    "print(x)"
   ]
  },
  {
   "cell_type": "markdown",
   "id": "55614f47",
   "metadata": {},
   "source": [
    "**2. Multiple Values to one Variable**"
   ]
  },
  {
   "cell_type": "code",
   "execution_count": 44,
   "id": "95559c57",
   "metadata": {},
   "outputs": [
    {
     "name": "stdout",
     "output_type": "stream",
     "text": [
      "(10, 20, 30)\n"
     ]
    },
    {
     "data": {
      "text/plain": [
       "tuple"
      ]
     },
     "execution_count": 44,
     "metadata": {},
     "output_type": "execute_result"
    }
   ],
   "source": [
    "a = 10,20,30\n",
    "\n",
    "print(a)\n",
    "\n",
    "type(a)"
   ]
  },
  {
   "cell_type": "markdown",
   "id": "f7eb3ca4",
   "metadata": {},
   "source": [
    "**3.One Value to Multiple Variables**\n",
    "\n",
    "- We can Assign the same value to multiple variables in one line"
   ]
  },
  {
   "cell_type": "code",
   "execution_count": 45,
   "id": "f3dda41c",
   "metadata": {},
   "outputs": [
    {
     "name": "stdout",
     "output_type": "stream",
     "text": [
      "10 10 10\n"
     ]
    }
   ],
   "source": [
    "a = 10 \n",
    "b = 10\n",
    "c = 10\n",
    "\n",
    "#OR\n",
    "\n",
    "a = b = c = 10 \n",
    "\n",
    "print(a,b,c)"
   ]
  },
  {
   "cell_type": "markdown",
   "id": "7e520f44",
   "metadata": {},
   "source": [
    "- **id()- To Check the Address of  the value or a variable**"
   ]
  },
  {
   "cell_type": "code",
   "execution_count": 46,
   "id": "593bf7ff",
   "metadata": {},
   "outputs": [
    {
     "name": "stdout",
     "output_type": "stream",
     "text": [
      "10 10 10\n"
     ]
    },
    {
     "data": {
      "text/plain": [
       "140735047582792"
      ]
     },
     "execution_count": 46,
     "metadata": {},
     "output_type": "execute_result"
    }
   ],
   "source": [
    "a=b=c=10\n",
    "\n",
    "print(a,b,c)\n",
    "\n",
    "id(a)\n",
    "id(b)\n",
    "id(c)         # Same Id assigned to all Variables"
   ]
  },
  {
   "cell_type": "code",
   "execution_count": 47,
   "id": "ec88d381",
   "metadata": {},
   "outputs": [
    {
     "data": {
      "text/plain": [
       "140735047582792"
      ]
     },
     "execution_count": 47,
     "metadata": {},
     "output_type": "execute_result"
    }
   ],
   "source": [
    "id(b)"
   ]
  },
  {
   "cell_type": "markdown",
   "id": "c70a205a",
   "metadata": {},
   "source": [
    "\n",
    "**4.Multiple Values to Multiple Variables**  -\n",
    " \n",
    "   - Python allows you to assign values to multiple variables in one line\n",
    " \n",
    "   **Note :** Make Sure the Number of variables matches the number of values, or else you will get an error."
   ]
  },
  {
   "cell_type": "code",
   "execution_count": 48,
   "id": "56398ffe",
   "metadata": {},
   "outputs": [
    {
     "name": "stdout",
     "output_type": "stream",
     "text": [
      "10 20 30 100\n"
     ]
    },
    {
     "data": {
      "text/plain": [
       "140735047582792"
      ]
     },
     "execution_count": 48,
     "metadata": {},
     "output_type": "execute_result"
    }
   ],
   "source": [
    "a = 10\n",
    "b = 20\n",
    "c = 30\n",
    "d= 100\n",
    "# OR   We can Write like Below \n",
    "\n",
    "a,b,c,d = 10, 20,30,100\n",
    "print(a,b,c,d)\n",
    "\n",
    "id(a)"
   ]
  },
  {
   "cell_type": "markdown",
   "id": "e4827e0d",
   "metadata": {},
   "source": [
    "**Note :in Python Latest Value Stored in Variable**\n",
    "\n"
   ]
  },
  {
   "cell_type": "code",
   "execution_count": 10,
   "id": "76790c2e",
   "metadata": {
    "scrolled": true
   },
   "outputs": [
    {
     "name": "stdout",
     "output_type": "stream",
     "text": [
      "10\n",
      "20\n"
     ]
    }
   ],
   "source": [
    "# e.g. \n",
    "first_value = 10\n",
    "print(first_value)\n",
    "\n",
    "'''' Now We are going to save  20 as a first value. \n",
    "It will Automatically Store 20in varibale and previous one is cleared.'''\n",
    "\n",
    "first_value = 20\n",
    "print(first_value)#   ----->  It gives 20"
   ]
  },
  {
   "cell_type": "markdown",
   "id": "4fb7e328",
   "metadata": {},
   "source": [
    "# Data Types\n",
    "\n",
    "- **1.Fundamental Data Types :**\n",
    "                \n",
    "                    - These object can store only  1 Value.\n",
    "                    - All Fundamental data types objects are **immutable** (Once we Assign a object with value, we can't modify the value in the object)\n",
    "                    \n",
    "                        - Integer          (int)                    ------->    42   (no decimal)\n",
    "                        - float             (float)                  ------->    3.5 \n",
    "                        - Complex     (complex)            ------->    2+3j\n",
    "                        - Boolean      (bool)                   ------>    True , False\n",
    "                        - String          (str)                     ------->    \"Hello\" or  'Hello'\n",
    "                        \n",
    "- **2.Advance Data Types :**\n",
    "                                \n",
    "                 - It Can Store Multiple Values in a Single Object.\n",
    "\n",
    "     - List\n",
    "     - Tuple\n",
    "     - Set\n",
    "     - Dictionary\n",
    "                     "
   ]
  },
  {
   "cell_type": "markdown",
   "id": "2611d81d",
   "metadata": {},
   "source": [
    "# **1.Fundamental Data Types:-**"
   ]
  },
  {
   "cell_type": "markdown",
   "id": "b6a94924",
   "metadata": {},
   "source": [
    "**i) Int**-:\n",
    "   - It Stores Only One Value\n",
    "   \n",
    "   - It Stores Only Numeric Values and doesn't store Decimal Values.\n"
   ]
  },
  {
   "cell_type": "code",
   "execution_count": 49,
   "id": "efda8171",
   "metadata": {},
   "outputs": [
    {
     "data": {
      "text/plain": [
       "int"
      ]
     },
     "execution_count": 49,
     "metadata": {},
     "output_type": "execute_result"
    }
   ],
   "source": [
    "a = 10 \n",
    "\n",
    "# To Check the Data-Type use type()\n",
    "\n",
    "type (a)   "
   ]
  },
  {
   "cell_type": "markdown",
   "id": "41847540",
   "metadata": {},
   "source": [
    "**ii) Float**-:  \n",
    " - Stores Decimal Values \n",
    " - It Stores only Numeric Values"
   ]
  },
  {
   "cell_type": "code",
   "execution_count": 50,
   "id": "136ba400",
   "metadata": {},
   "outputs": [
    {
     "data": {
      "text/plain": [
       "float"
      ]
     },
     "execution_count": 50,
     "metadata": {},
     "output_type": "execute_result"
    }
   ],
   "source": [
    "b = 14.58\n",
    "\n",
    "c = -14.58\n",
    "\n",
    "type(b)\n",
    "\n",
    "type(c)"
   ]
  },
  {
   "cell_type": "markdown",
   "id": "eb6feab1",
   "metadata": {},
   "source": [
    "**iii) Complex-:**\n",
    "  - Stores Complex Numbers \n",
    "  - Left side is Real Part ,  Right Side is Imaginary Part\n"
   ]
  },
  {
   "cell_type": "code",
   "execution_count": 51,
   "id": "d21b43bd",
   "metadata": {},
   "outputs": [
    {
     "data": {
      "text/plain": [
       "complex"
      ]
     },
     "execution_count": 51,
     "metadata": {},
     "output_type": "execute_result"
    }
   ],
   "source": [
    "z = 4 + 5j\n",
    "type (z)"
   ]
  },
  {
   "cell_type": "markdown",
   "id": "81e4aa7d",
   "metadata": {},
   "source": [
    "**iv) Boolean-:**\n",
    "- It Stores True or False Value Only\n",
    "\n",
    "- Make Sure first Letter is Capital   e.g True , False \n",
    "\n",
    "-  Other than Numbers ( int , float, complex  & boolean )"
   ]
  },
  {
   "cell_type": "code",
   "execution_count": 52,
   "id": "92910d1a",
   "metadata": {},
   "outputs": [
    {
     "data": {
      "text/plain": [
       "bool"
      ]
     },
     "execution_count": 52,
     "metadata": {},
     "output_type": "execute_result"
    }
   ],
   "source": [
    "f = True\n",
    "\n",
    "type(f)"
   ]
  },
  {
   "cell_type": "markdown",
   "id": "380c2dd8",
   "metadata": {},
   "source": [
    "**V) String-:** \n",
    "- Stores Character Values\n",
    "- String is written in between \" \" Or '  ' "
   ]
  },
  {
   "cell_type": "code",
   "execution_count": 1,
   "id": "ade04a07",
   "metadata": {},
   "outputs": [
    {
     "name": "stdout",
     "output_type": "stream",
     "text": [
      " 2 \n"
     ]
    },
    {
     "data": {
      "text/plain": [
       "str"
      ]
     },
     "execution_count": 1,
     "metadata": {},
     "output_type": "execute_result"
    }
   ],
   "source": [
    "c = \"Hello This is String , @@@, $##@ , 2 \"\n",
    "\n",
    "type(c)\n",
    "\n",
    "d = \" 2 \"\n",
    "\n",
    "print (d) \n",
    "\n",
    "type(d)"
   ]
  },
  {
   "cell_type": "markdown",
   "id": "106c91d4",
   "metadata": {},
   "source": [
    "# **2.Advanced Data Types -:**\n",
    "     \n",
    "   - List\n",
    "   - Tuple\n",
    "   - Set\n",
    "   - Dictionary\n",
    "                     \n"
   ]
  },
  {
   "cell_type": "markdown",
   "id": "4d0714e8",
   "metadata": {},
   "source": [
    "**i) List :**\n",
    "  - Stores  Multiple Value in [ Square Bracket ]  i.e . [ ] "
   ]
  },
  {
   "cell_type": "code",
   "execution_count": 2,
   "id": "246cfd3d",
   "metadata": {},
   "outputs": [
    {
     "name": "stdout",
     "output_type": "stream",
     "text": [
      "[10, 20, 30, 40, 'Python']\n"
     ]
    },
    {
     "data": {
      "text/plain": [
       "list"
      ]
     },
     "execution_count": 2,
     "metadata": {},
     "output_type": "execute_result"
    }
   ],
   "source": [
    "l = [ 10, 20, 30, 40, \"Python\"]\n",
    "\n",
    "print(l)\n",
    "\n",
    "type(l)"
   ]
  },
  {
   "cell_type": "code",
   "execution_count": null,
   "id": "3302b5ea",
   "metadata": {},
   "outputs": [],
   "source": []
  },
  {
   "cell_type": "markdown",
   "id": "57c84128",
   "metadata": {},
   "source": [
    "**ii) Tuple :**\n",
    "- Represent in (Round Bracket) i.e.  ()\n",
    "- in python by default multiple values stored as Tuple\n",
    "- Tuple is Immutable in Python ( i.e. Once we assign the values to tuple , then we can't modify later in that tuple)\n"
   ]
  },
  {
   "cell_type": "code",
   "execution_count": null,
   "id": "67c34cc4",
   "metadata": {},
   "outputs": [],
   "source": []
  },
  {
   "cell_type": "code",
   "execution_count": 19,
   "id": "526e1f02",
   "metadata": {},
   "outputs": [
    {
     "name": "stdout",
     "output_type": "stream",
     "text": [
      "(4.5, 10, 'Python')\n"
     ]
    },
    {
     "data": {
      "text/plain": [
       "tuple"
      ]
     },
     "execution_count": 19,
     "metadata": {},
     "output_type": "execute_result"
    }
   ],
   "source": [
    "\n",
    "d = 4.5, 10,\"Python\"\n",
    "\n",
    "# in python by default multiple values stored as Tuple\n",
    "\n",
    "print(d)\n",
    "\n",
    "type(d)"
   ]
  },
  {
   "cell_type": "code",
   "execution_count": 1,
   "id": "1188a6c5",
   "metadata": {},
   "outputs": [
    {
     "name": "stdout",
     "output_type": "stream",
     "text": [
      "(1, 2, 3, 4, 5, 6, 7, 8)\n"
     ]
    },
    {
     "ename": "TypeError",
     "evalue": "'tuple' object does not support item assignment",
     "output_type": "error",
     "traceback": [
      "\u001b[1;31m---------------------------------------------------------------------------\u001b[0m",
      "\u001b[1;31mTypeError\u001b[0m                                 Traceback (most recent call last)",
      "Input \u001b[1;32mIn [1]\u001b[0m, in \u001b[0;36m<cell line: 5>\u001b[1;34m()\u001b[0m\n\u001b[0;32m      3\u001b[0m tuple_1 \u001b[38;5;241m=\u001b[39m (\u001b[38;5;241m1\u001b[39m,\u001b[38;5;241m2\u001b[39m,\u001b[38;5;241m3\u001b[39m,\u001b[38;5;241m4\u001b[39m,\u001b[38;5;241m5\u001b[39m,\u001b[38;5;241m6\u001b[39m,\u001b[38;5;241m7\u001b[39m,\u001b[38;5;241m8\u001b[39m)\n\u001b[0;32m      4\u001b[0m \u001b[38;5;28mprint\u001b[39m(tuple_1)\n\u001b[1;32m----> 5\u001b[0m tuple_1[\u001b[38;5;241m1\u001b[39m] \u001b[38;5;241m=\u001b[39m \u001b[38;5;241m10\u001b[39m\n\u001b[0;32m      6\u001b[0m \u001b[38;5;28mprint\u001b[39m(tuple_1)\n",
      "\u001b[1;31mTypeError\u001b[0m: 'tuple' object does not support item assignment"
     ]
    }
   ],
   "source": [
    "# Immutable Property of Tuple :\n",
    "\n",
    "tuple_1 = (1,2,3,4,5,6,7,8)\n",
    "\n",
    "print(tuple_1)\n",
    "tuple_1[1] = 10\n",
    "print(tuple_1)"
   ]
  },
  {
   "cell_type": "markdown",
   "id": "f9db8075",
   "metadata": {},
   "source": [
    "**iii) Set :** \n",
    "- Sets are used to store multiple items in a single variable.\n",
    "\n",
    "- Set is one of 4 built-in data types in Python used to store collections of data\n",
    "\n",
    "- A set is a collection which is unordered, unchangeable*, and unindexed.\n",
    "\n",
    "- Sets are written with curly brackets.  { Curly Bracket } i.e. { }\n",
    "\n",
    "\n",
    "**Note: Set items are unchangeable, but you can remove items and add new items.**\n",
    "\n",
    "    -"
   ]
  },
  {
   "cell_type": "markdown",
   "id": "75f5e099",
   "metadata": {},
   "source": [
    "**Create a Set :** "
   ]
  },
  {
   "cell_type": "code",
   "execution_count": 4,
   "id": "2291acbf",
   "metadata": {},
   "outputs": [
    {
     "name": "stdout",
     "output_type": "stream",
     "text": [
      "{'cherry', 'banana', 'apple'}\n"
     ]
    }
   ],
   "source": [
    "fruits = {\"apple\", \"banana\", \"cherry\"}\n",
    "\n",
    "print(fruits)"
   ]
  },
  {
   "cell_type": "code",
   "execution_count": 5,
   "id": "019485e2",
   "metadata": {},
   "outputs": [
    {
     "data": {
      "text/plain": [
       "set"
      ]
     },
     "execution_count": 5,
     "metadata": {},
     "output_type": "execute_result"
    }
   ],
   "source": [
    "type(fruits)"
   ]
  },
  {
   "cell_type": "markdown",
   "id": "9c178189",
   "metadata": {},
   "source": [
    "**Set Items :**\n",
    "- Set items are unordered, unchangeable, and do not allow duplicate values.\n",
    "\n",
    "**Unordered :**\n",
    "- Unordered means that the items in a set do not have a defined order.\n",
    "\n",
    "**Set items can appear in a different order every time you use them, and cannot be referred to by index or key.**\n",
    "\n",
    "\n",
    "\n",
    "\n",
    "**Unchangeable :**\n",
    "- Set items are unchangeable, meaning that we cannot change the items after the set has been created.\n",
    "\n",
    "**Once a set is created, you cannot change its items, but you can remove items and add new items.**"
   ]
  },
  {
   "cell_type": "markdown",
   "id": "e49dc7f1",
   "metadata": {},
   "source": [
    "- Duplicates Not Allowed\n",
    "- Sets cannot have two items with the same value.\n",
    "\n",
    "**Example**\n",
    "\n",
    "**Duplicate values will be ignored:**\n",
    "\n",
    "\n"
   ]
  },
  {
   "cell_type": "code",
   "execution_count": 6,
   "id": "f92f099c",
   "metadata": {},
   "outputs": [
    {
     "name": "stdout",
     "output_type": "stream",
     "text": [
      "{'cherry', 'banana', 'apple'}\n"
     ]
    }
   ],
   "source": [
    "thisset = {\"apple\", \"banana\", \"cherry\", \"apple\"}\n",
    "\n",
    "print(thisset)"
   ]
  },
  {
   "cell_type": "code",
   "execution_count": null,
   "id": "188c18ec",
   "metadata": {},
   "outputs": [],
   "source": []
  }
 ],
 "metadata": {
  "kernelspec": {
   "display_name": "Python 3 (ipykernel)",
   "language": "python",
   "name": "python3"
  },
  "language_info": {
   "codemirror_mode": {
    "name": "ipython",
    "version": 3
   },
   "file_extension": ".py",
   "mimetype": "text/x-python",
   "name": "python",
   "nbconvert_exporter": "python",
   "pygments_lexer": "ipython3",
   "version": "3.10.11"
  }
 },
 "nbformat": 4,
 "nbformat_minor": 5
}
