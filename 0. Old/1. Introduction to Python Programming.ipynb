{
 "cells": [
  {
   "cell_type": "markdown",
   "id": "4c14c79e",
   "metadata": {},
   "source": [
    "# Intoduction to Python\n",
    "\n",
    " - **Introduction**\n",
    "                     \n",
    " \n",
    " - Advantages of Python\n",
    " \n",
    " - Python Installation\n",
    " \n",
    " - Anaconda Installation\n",
    " \n",
    " - Various options to execute Python\n",
    " \n"
   ]
  },
  {
   "cell_type": "code",
   "execution_count": 8,
   "id": "692667af",
   "metadata": {},
   "outputs": [
    {
     "name": "stdout",
     "output_type": "stream",
     "text": [
      "Hello World\n"
     ]
    }
   ],
   "source": [
    "print (\"Hello World\")"
   ]
  },
  {
   "cell_type": "code",
   "execution_count": 9,
   "id": "dc4149fb",
   "metadata": {},
   "outputs": [
    {
     "name": "stdout",
     "output_type": "stream",
     "text": [
      "Welcome to Jupyter Notebook\n",
      "Hello Silvester\n"
     ]
    }
   ],
   "source": [
    "print (\"Welcome to Jupyter Notebook\")\n",
    "\n",
    "print (\"Hello Silvester\")"
   ]
  },
  {
   "cell_type": "code",
   "execution_count": null,
   "id": "6b37a971",
   "metadata": {},
   "outputs": [],
   "source": []
  },
  {
   "cell_type": "code",
   "execution_count": null,
   "id": "f7075d33",
   "metadata": {},
   "outputs": [],
   "source": []
  },
  {
   "cell_type": "code",
   "execution_count": null,
   "id": "cea4d091",
   "metadata": {},
   "outputs": [],
   "source": []
  }
 ],
 "metadata": {
  "kernelspec": {
   "display_name": "Python 3 (ipykernel)",
   "language": "python",
   "name": "python3"
  },
  "language_info": {
   "codemirror_mode": {
    "name": "ipython",
    "version": 3
   },
   "file_extension": ".py",
   "mimetype": "text/x-python",
   "name": "python",
   "nbconvert_exporter": "python",
   "pygments_lexer": "ipython3",
   "version": "3.11.7"
  }
 },
 "nbformat": 4,
 "nbformat_minor": 5
}
