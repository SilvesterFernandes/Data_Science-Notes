{
 "cells": [
  {
   "cell_type": "markdown",
   "id": "b376fa39-d559-4c08-9491-31df0cf42b53",
   "metadata": {
    "vscode": {
     "languageId": "python"
    }
   },
   "source": [
    " ______________________________________________________________________________________________________________________\n",
    "<h1 style=\"color:#0d81cc;  font-weight: bold;\">1.12 : For - Loop</h1>\n",
    "\n",
    "______________________________________________________________________________________________________________________________________________"
   ]
  },
  {
   "cell_type": "markdown",
   "id": "5614e13b-22de-44fa-8e84-10116996e27a",
   "metadata": {
    "notebookRunGroups": {
     "groupValue": "2"
    }
   },
   "source": [
    "### **Some Terms** \n",
    "\n",
    "loop        : Repeating the code\n",
    "\n",
    "while       : till Condition satisfies\n",
    "\n",
    "for         : for each value in sequence\n",
    "\n",
    "for loop    : for each value in sequence, repeating the \n",
    "\n",
    "sequence    : A collection that supports iteration, such as a str, list, tuple, set, range, or dict.\n",
    "_______________________________"
   ]
  },
  {
   "cell_type": "markdown",
   "id": "7dff301c-87f6-4672-8bd8-53f8bf231321",
   "metadata": {},
   "source": [
    "## **1. Introduction to For Loop:**\n",
    "- The for loop in Python is used to iterate over a sequence (such as a list, tuple, string, or range) and perform a block of code repeatedly for each element in that sequence."
   ]
  },
  {
   "cell_type": "markdown",
   "id": "105604f0-4668-4450-b494-4d799ae7611c",
   "metadata": {},
   "source": [
    "**Basic Syntax:**\n",
    "\n",
    "for item in (sequence):\n",
    "\n",
    "        # block of code to execute for each item"
   ]
  },
  {
   "cell_type": "markdown",
   "id": "68efd9a4",
   "metadata": {},
   "source": [
    "_______"
   ]
  },
  {
   "cell_type": "markdown",
   "id": "50684326",
   "metadata": {},
   "source": [
    "## **Example  : for Loop**"
   ]
  },
  {
   "cell_type": "code",
   "execution_count": 23,
   "id": "2b712e2b",
   "metadata": {},
   "outputs": [
    {
     "name": "stdout",
     "output_type": "stream",
     "text": [
      "1\n",
      "2\n",
      "3\n",
      "4\n",
      "5\n",
      "6\n"
     ]
    }
   ],
   "source": [
    "num_list=[1,2,3,4,5,6]\n",
    "for i in (num_list):\n",
    "    print(i)"
   ]
  },
  {
   "cell_type": "markdown",
   "id": "bf7384a4",
   "metadata": {},
   "source": [
    "___"
   ]
  },
  {
   "cell_type": "markdown",
   "id": "a7b1a54e",
   "metadata": {},
   "source": [
    "**Using range**\n",
    "\n",
    "- range() is used to generate a sequence of numbers:"
   ]
  },
  {
   "cell_type": "code",
   "execution_count": 24,
   "id": "d3a36324",
   "metadata": {},
   "outputs": [
    {
     "name": "stdout",
     "output_type": "stream",
     "text": [
      "0\n",
      "1\n",
      "2\n",
      "3\n",
      "4\n"
     ]
    }
   ],
   "source": [
    "for i in range (5):\n",
    "    print(i)\n",
    "# This prints numbers from 0 to 4."
   ]
  },
  {
   "cell_type": "markdown",
   "id": "5c3b1e6b",
   "metadata": {},
   "source": [
    "________"
   ]
  },
  {
   "cell_type": "markdown",
   "id": "69a89510",
   "metadata": {},
   "source": [
    "### **For Loop with a String**"
   ]
  },
  {
   "cell_type": "code",
   "execution_count": 25,
   "id": "7bbdea43",
   "metadata": {},
   "outputs": [
    {
     "name": "stdout",
     "output_type": "stream",
     "text": [
      "P\n",
      "r\n",
      "o\n",
      "g\n",
      "r\n",
      "a\n",
      "m\n",
      "m\n",
      "i\n",
      "n\n",
      "g\n"
     ]
    }
   ],
   "source": [
    "a = \"Programming\"\n",
    "# Iterating over each character in the string\n",
    "for s in a:\n",
    "    print(s)"
   ]
  },
  {
   "cell_type": "code",
   "execution_count": 26,
   "id": "703502cc",
   "metadata": {},
   "outputs": [
    {
     "name": "stdout",
     "output_type": "stream",
     "text": [
      "P\n",
      "r\n",
      "o\n",
      "g\n",
      "r\n",
      "a\n",
      "m\n",
      "m\n",
      "i\n",
      "n\n",
      "g\n"
     ]
    }
   ],
   "source": [
    "# Another way: Using range to access characters by index\n",
    "a = \"Programming\"\n",
    "for i in range(len(a)):\n",
    "    print(a[i])"
   ]
  },
  {
   "cell_type": "markdown",
   "id": "ce66211c",
   "metadata": {},
   "source": [
    "___________"
   ]
  },
  {
   "cell_type": "markdown",
   "id": "d0438aa8",
   "metadata": {},
   "source": [
    "### **For Loop with a Tuple**"
   ]
  },
  {
   "cell_type": "code",
   "execution_count": 27,
   "id": "90c7e1f8",
   "metadata": {},
   "outputs": [
    {
     "name": "stdout",
     "output_type": "stream",
     "text": [
      "1\n",
      "2\n",
      "3\n",
      "4\n"
     ]
    }
   ],
   "source": [
    "t=(1,2,3,4)  # Tuple \n",
    "for i in t:\n",
    "    print(i)\n",
    "# This will iterate over the elements of the tuple t and print each element on a new line. \n",
    "# The variable i in this case refers to each element in the tuple during each iteration of the for loop. You can use any name instead of i, such as element, to make the code more descriptive.\n",
    "# Here's the output:"
   ]
  },
  {
   "cell_type": "markdown",
   "id": "dd5cb34f",
   "metadata": {},
   "source": [
    "___________"
   ]
  },
  {
   "cell_type": "markdown",
   "id": "2451d87d",
   "metadata": {},
   "source": [
    "### **For Loop with a Set**"
   ]
  },
  {
   "cell_type": "code",
   "execution_count": 28,
   "id": "5e3e5eae",
   "metadata": {},
   "outputs": [
    {
     "name": "stdout",
     "output_type": "stream",
     "text": [
      "40\n",
      "10\n",
      "20\n",
      "30\n"
     ]
    }
   ],
   "source": [
    "s = {10, 20, 30, 40}  # Set\n",
    "\n",
    "# Iterating over each element in the set\n",
    "for i in s:\n",
    "    print(i)\n",
    "\n",
    "# Note : Sets do not maintain order"
   ]
  },
  {
   "cell_type": "markdown",
   "id": "b78f75ba",
   "metadata": {},
   "source": [
    "_________"
   ]
  },
  {
   "cell_type": "markdown",
   "id": "54fa594d",
   "metadata": {},
   "source": [
    "### **For Loop with a Dictionary**"
   ]
  },
  {
   "cell_type": "code",
   "execution_count": 29,
   "id": "2dba9227",
   "metadata": {},
   "outputs": [
    {
     "name": "stdout",
     "output_type": "stream",
     "text": [
      "name\n",
      "age\n",
      "city\n",
      "Silvester\n",
      "25\n",
      "Pune\n",
      "Key: name, Value: Silvester\n",
      "Key: age, Value: 25\n",
      "Key: city, Value: Pune\n"
     ]
    }
   ],
   "source": [
    "### Dictionary with key-value pairs\n",
    "d = {'name': 'Silvester', 'age': 25, 'city': 'Pune'}    \n",
    "\n",
    "# Iterating over dictionary keys\n",
    "for key in d:\n",
    "    print(key)\n",
    "\n",
    "# Iterating over dictionary values\n",
    "for value in d.values():\n",
    "    print(value)\n",
    "\n",
    "# Iterating over key-value pairs\n",
    "for key, value in d.items():\n",
    "    print(f\"Key: {key}, Value: {value}\")"
   ]
  },
  {
   "cell_type": "markdown",
   "id": "3bae8d95",
   "metadata": {},
   "source": [
    "_________"
   ]
  },
  {
   "cell_type": "markdown",
   "id": "ed5f7bd2",
   "metadata": {},
   "source": [
    "### **For Loop with a List of Tuples**"
   ]
  },
  {
   "cell_type": "code",
   "execution_count": 30,
   "id": "38db37bc",
   "metadata": {},
   "outputs": [
    {
     "name": "stdout",
     "output_type": "stream",
     "text": [
      "Number: 1, Word: one\n",
      "Number: 2, Word: two\n",
      "Number: 3, Word: three\n"
     ]
    }
   ],
   "source": [
    "# List containing tuples\n",
    "list_of_tuples = [(1, 'one'), (2, 'two'), (3, 'three')]\n",
    "\n",
    "# Iterating over each tuple in the list\n",
    "for num, word in list_of_tuples:\n",
    "    print(f\"Number: {num}, Word: {word}\")"
   ]
  },
  {
   "cell_type": "markdown",
   "id": "8435ff4b",
   "metadata": {},
   "source": [
    "_____"
   ]
  },
  {
   "cell_type": "markdown",
   "id": "1ef193dd",
   "metadata": {},
   "source": [
    "### **For Loop with a Nested Lists**"
   ]
  },
  {
   "cell_type": "code",
   "execution_count": 31,
   "id": "ba0eeb64",
   "metadata": {},
   "outputs": [
    {
     "name": "stdout",
     "output_type": "stream",
     "text": [
      "[1, 2, 3]\n",
      "[4, 5, 6]\n",
      "[7, 8, 9]\n",
      "1\n",
      "2\n",
      "3\n",
      "4\n",
      "5\n",
      "6\n",
      "7\n",
      "8\n",
      "9\n"
     ]
    }
   ],
   "source": [
    "# Nested list (a list of lists)\n",
    "nested_list = [[1, 2, 3], [4, 5, 6], [7, 8, 9]]\n",
    "\n",
    "# Iterating over each sublist\n",
    "for sublist in nested_list:\n",
    "    print(sublist)\n",
    "\n",
    "# Iterating over each element in the sublists\n",
    "for sublist in nested_list:\n",
    "    for item in sublist:\n",
    "        print(item)"
   ]
  },
  {
   "cell_type": "markdown",
   "id": "0e8803e8",
   "metadata": {},
   "source": [
    "________"
   ]
  },
  {
   "cell_type": "markdown",
   "id": "e6a2442d",
   "metadata": {},
   "source": [
    "**Discard Method:**\n",
    "- The `discard()` method is used in Python to remove a specified element from a set. \n",
    "- Unlike the `remove()` method, it does not raise an error if the element is not found in the set. \n",
    "- This makes it a safer option when you are unsure if the element exists in the set."
   ]
  },
  {
   "cell_type": "code",
   "execution_count": 32,
   "id": "e5095885",
   "metadata": {},
   "outputs": [
    {
     "name": "stdout",
     "output_type": "stream",
     "text": [
      "{40, 20, 30}\n"
     ]
    }
   ],
   "source": [
    "# Initialize a set with values, duplicate values will be ignored\n",
    "l = {10, 20, 30, 40, 10, 10, 10}  \n",
    "# Set will only contain unique values: {10, 20, 30, 40}\n",
    "\n",
    "# Loop to attempt to remove the value 10 from the set\n",
    "for i in range(10):  # Loop will run 10 times\n",
    "    l.discard(10)  # Use discard() to remove 10 from the set (does nothing if 10 is not present)\n",
    "\n",
    "# Print the resulting set after the loop\n",
    "print(l)  \n",
    "# Output will be {20, 30, 40} since 10 is removed"
   ]
  },
  {
   "cell_type": "markdown",
   "id": "982bb941",
   "metadata": {},
   "source": [
    "________"
   ]
  },
  {
   "cell_type": "markdown",
   "id": "d54db390",
   "metadata": {},
   "source": [
    "**break - Statement:**\n",
    "- The break statement in Python is used to immediately terminate a loop (either for or while) when a certain condition is met. \n",
    "- When Python encounters a break statement inside a loop, the loop stops executing and control jumps to the first statement following the loop."
   ]
  },
  {
   "cell_type": "code",
   "execution_count": 9,
   "id": "e133ba96",
   "metadata": {},
   "outputs": [
    {
     "name": "stdout",
     "output_type": "stream",
     "text": [
      "1\n",
      "2\n",
      "3\n",
      "4\n"
     ]
    }
   ],
   "source": [
    "# Example: Using break to exit the loop when a certain condition is met\n",
    "for i in range(1, 11):  # Loop through numbers 1 to 10\n",
    "    if i == 5:  # When `i` is 5, break the loop\n",
    "        break\n",
    "    print(i)  # Print the numbers until 5 is reached"
   ]
  },
  {
   "cell_type": "markdown",
   "id": "4bac7935",
   "metadata": {},
   "source": [
    "______"
   ]
  },
  {
   "cell_type": "markdown",
   "id": "e5981040",
   "metadata": {},
   "source": [
    "**Continue - Statement :**\n",
    "- The continue statement in Python is used inside loops (both for and while) to skip the current iteration and move to the next one. When Python encounters a continue statement, it immediately stops executing the rest of the code inside the loop for that particular iteration and moves on to the next iteration."
   ]
  },
  {
   "cell_type": "code",
   "execution_count": 11,
   "id": "636cc202",
   "metadata": {},
   "outputs": [
    {
     "name": "stdout",
     "output_type": "stream",
     "text": [
      "1\n",
      "3\n",
      "5\n"
     ]
    }
   ],
   "source": [
    "# Example: Using continue to skip even numbers\n",
    "for i in range(1, 6):  # Loop through numbers 1 to 5\n",
    "    if i % 2 == 0:  # If the number is even\n",
    "        continue  # Skip the rest of the loop for even numbers\n",
    "    print(i)\n"
   ]
  },
  {
   "cell_type": "markdown",
   "id": "dd38e48a",
   "metadata": {},
   "source": [
    "___"
   ]
  },
  {
   "cell_type": "markdown",
   "id": "30512c95",
   "metadata": {},
   "source": [
    "**Break and Continue in for-Loop :**"
   ]
  },
  {
   "cell_type": "code",
   "execution_count": 14,
   "id": "8c1e83b5",
   "metadata": {},
   "outputs": [
    {
     "name": "stdout",
     "output_type": "stream",
     "text": [
      "1\n",
      "2\n",
      "3\n",
      "4\n",
      "6\n",
      "7\n",
      "Loop ended.\n"
     ]
    }
   ],
   "source": [
    "for i in range(1, 11):  # Loop through numbers from 1 to 10\n",
    "    if i == 5:\n",
    "        continue  # Skip printing when i is 5\n",
    "    if i == 8:\n",
    "        break  # Stop the loop when i is 8\n",
    "    print(i)  # Print the current number\n",
    "\n",
    "print(\"Loop ended.\")\n"
   ]
  },
  {
   "cell_type": "markdown",
   "id": "3f5ef581",
   "metadata": {},
   "source": [
    "_____"
   ]
  },
  {
   "cell_type": "markdown",
   "id": "7c6a547a",
   "metadata": {},
   "source": [
    "### **Nested for-Loop**\n",
    "- Nested loops are a powerful programming construct that allows you to run one loop inside another. \n",
    "- This is particularly useful when you need to perform complex iterations, such as iterating over multi-dimensional data structures (like matrices or lists of lists) or performing operations that require multiple levels of iteration.\n",
    "\n",
    "\n",
    "**How Nested Loops Work**\n",
    "\n",
    "- **Execution Flow:**\n",
    "\n",
    "    he outer loop starts its first iteration.\n",
    "    For each iteration of the outer loop, the inner loop runs completely from start to end.\n",
    "    After the inner loop finishes, control goes back to the outer loop for the next iteration.\n",
    "\n",
    "- **Complexity:**\n",
    "\n",
    "    The time complexity increases with nested loops. For example, if the outer loop runs n times and the inner loop runs m times, the total iterations are n * m.\n",
    "\n",
    "Example of a Nested Loop :"
   ]
  },
  {
   "cell_type": "code",
   "execution_count": 15,
   "id": "dcd7c9f9",
   "metadata": {},
   "outputs": [
    {
     "name": "stdout",
     "output_type": "stream",
     "text": [
      "i = 0, j = 0\n",
      "i = 0, j = 1\n",
      "i = 0, j = 2\n",
      "i = 1, j = 0\n",
      "i = 1, j = 1\n",
      "i = 1, j = 2\n"
     ]
    }
   ],
   "source": [
    "# Nested for loop example\n",
    "for i in range(2):  # Outer loop runs 2 times (i takes values 0 and 1)\n",
    "    for j in range(3):  # Inner loop runs 3 times (j takes values 0, 1, 2)\n",
    "        print(f\"i = {i}, j = {j}\")\n"
   ]
  },
  {
   "cell_type": "markdown",
   "id": "c98f6561",
   "metadata": {},
   "source": [
    "____"
   ]
  },
  {
   "cell_type": "markdown",
   "id": "4ec82a9d",
   "metadata": {},
   "source": [
    "### **Summary of For Loop with Different Data Types:**\n",
    "- `String`: Iterates over each character in the string.\n",
    "- `List`: Iterates over each element in the list.\n",
    "- `Tuple`: Iterates over each element in the tuple.\n",
    "- `Set`: Iterates over each element (order is not guaranteed).\n",
    "- `Dictionary`: Iterates over keys, values, or key-value pairs.\n",
    "- `Range`: Iterates over numbers in a specified range."
   ]
  },
  {
   "cell_type": "markdown",
   "id": "17bb9347",
   "metadata": {},
   "source": [
    "_______"
   ]
  },
  {
   "cell_type": "markdown",
   "id": "0c933436",
   "metadata": {},
   "source": [
    "**Examples :**\n",
    "1. write a program that gives even numbers in a list\n",
    "2. write a program that gives even numbers & odd numbers in a list\n",
    "3. write a program that gives, the sum of even numbers in a list\n",
    "4. write a program that gives, the sum of even numbers & sum of odd numbers in a list\n",
    "5. write a multiplication table using for loop\n",
    "6. Ask user to enter the values using for loop, break it when the sum is greater than 50"
   ]
  },
  {
   "cell_type": "markdown",
   "id": "de7d9382",
   "metadata": {},
   "source": [
    "______________"
   ]
  },
  {
   "cell_type": "markdown",
   "id": "a0d37ff0",
   "metadata": {},
   "source": [
    "**1. write a program that gives even numbers in a list**"
   ]
  },
  {
   "cell_type": "code",
   "execution_count": 33,
   "id": "adde0d8b",
   "metadata": {},
   "outputs": [
    {
     "name": "stdout",
     "output_type": "stream",
     "text": [
      "[28, 102, 74, 12, 20, 48, 58]\n",
      "Sorted even numbers list: [12, 20, 28, 48, 58, 74, 102]\n"
     ]
    }
   ],
   "source": [
    "# List of numbers\n",
    "numbers = [28, 35, 87, 99, 102, 67, 74, 12, 20, 33, 48, 58]\n",
    "\n",
    "# Initialize an empty list to hold even numbers\n",
    "even_numbers_list = []\n",
    "\n",
    "# Loop through each number in the numbers list\n",
    "for i in numbers:\n",
    "    # Check if the number is even\n",
    "    if i % 2 == 0:\n",
    "        # Append even number to the even_numbers_list\n",
    "        even_numbers_list.append(i)\n",
    "\n",
    "# Print the list of even numbers\n",
    "print( even_numbers_list)\n",
    "\n",
    "# Sort the even numbers list in place\n",
    "even_numbers_list.sort()\n",
    "\n",
    "# Print the sorted list of even numbers\n",
    "print(\"Sorted even numbers list:\", even_numbers_list)\n"
   ]
  },
  {
   "cell_type": "markdown",
   "id": "0359e14d",
   "metadata": {},
   "source": [
    "_________"
   ]
  },
  {
   "cell_type": "markdown",
   "id": "3f33f51c",
   "metadata": {},
   "source": [
    "**2. write a program that gives even numbers & odd numbers in a list**"
   ]
  },
  {
   "cell_type": "code",
   "execution_count": 34,
   "id": "e73bd97f",
   "metadata": {},
   "outputs": [
    {
     "name": "stdout",
     "output_type": "stream",
     "text": [
      "Even numbers before sorting: [28, 102, 74, 12, 20, 48, 58]\n",
      "Odd numbers before sorting: [35, 87, 99, 67, 33]\n",
      "Sorted even numbers: [12, 20, 28, 48, 58, 74, 102]\n",
      "Sorted odd numbers: [33, 35, 67, 87, 99]\n",
      "Even: [12, 20, 28, 48, 58, 74, 102] Odd: [33, 35, 67, 87, 99]\n"
     ]
    }
   ],
   "source": [
    "# List of numbers\n",
    "numbers = [28, 35, 87, 99, 102, 67, 74, 12, 20, 33, 48, 58]\n",
    "\n",
    "# Initialize empty lists for even and odd numbers\n",
    "even_list = []\n",
    "odd_list = []\n",
    "\n",
    "# Loop through each number in the numbers list\n",
    "for i in numbers:\n",
    "    # Check if the number is even\n",
    "    if i % 2 == 0:\n",
    "        even_list.append(i)  # Append to even_list if even\n",
    "    else:\n",
    "        odd_list.append(i)    # Append to odd_list if odd\n",
    "\n",
    "# Print the lists of even and odd numbers before sorting\n",
    "print(\"Even numbers before sorting:\", even_list)\n",
    "print(\"Odd numbers before sorting:\", odd_list)\n",
    "\n",
    "# Sort the even and odd lists in place\n",
    "even_list.sort()  # Sorts even_list in place\n",
    "odd_list.sort()   # Sorts odd_list in place\n",
    "\n",
    "# Print the sorted lists\n",
    "print(\"Sorted even numbers:\", even_list)\n",
    "print(\"Sorted odd numbers:\", odd_list)\n",
    "\n",
    "# Combine and print both lists\n",
    "print('Even:', even_list, 'Odd:', odd_list)\n"
   ]
  },
  {
   "cell_type": "markdown",
   "id": "8ccae61c",
   "metadata": {},
   "source": [
    "________"
   ]
  },
  {
   "cell_type": "markdown",
   "id": "ddba6dc4",
   "metadata": {},
   "source": [
    "**3. write a program that gives, the sum of even numbers in a list**"
   ]
  },
  {
   "cell_type": "code",
   "execution_count": 35,
   "id": "cd03f1cf",
   "metadata": {},
   "outputs": [
    {
     "name": "stdout",
     "output_type": "stream",
     "text": [
      "Even numbers: [28, 102, 74, 12, 20, 48, 58]\n",
      "Sum of even numbers: 342\n"
     ]
    }
   ],
   "source": [
    "# Initializing a list of numbers\n",
    "numbers = [28, 35, 87, 99, 102, 67, 74, 12, 20, 33, 48, 58]\n",
    "\n",
    "# Initialize an empty list to store even numbers\n",
    "even_list = []\n",
    "\n",
    "# Loop through each number in the numbers list\n",
    "for i in numbers:\n",
    "    # Check if the current number is even\n",
    "    if i % 2 == 0:\n",
    "        even_list.append(i)  # If even, append it to even_list\n",
    "\n",
    "# Print the list of even numbers found\n",
    "print(\"Even numbers:\", even_list)  \n",
    "\n",
    "# Initialize a variable to hold the sum of even numbers\n",
    "sum_of_evens = 0\n",
    "\n",
    "# Loop through each number in the even_list\n",
    "for i in even_list:  # Corrected to use even_list\n",
    "    sum_of_evens = sum_of_evens + i  # Add each even number to the sum\n",
    "\n",
    "# Print the total sum of even numbers\n",
    "print(\"Sum of even numbers:\", sum_of_evens)  # This will output the total sum\n"
   ]
  },
  {
   "cell_type": "markdown",
   "id": "caed13d5",
   "metadata": {},
   "source": [
    "___________"
   ]
  },
  {
   "cell_type": "markdown",
   "id": "48e88f1d",
   "metadata": {},
   "source": [
    "**4. write a program that gives, the sum of even numbers & sum of odd numbers in a list**"
   ]
  },
  {
   "cell_type": "code",
   "execution_count": 36,
   "id": "616eca82",
   "metadata": {},
   "outputs": [
    {
     "name": "stdout",
     "output_type": "stream",
     "text": [
      "Even numbers: [28, 102, 74, 12, 20, 48, 58]\n",
      "Odd numbers: [35, 87, 99, 67, 33]\n",
      "Sum of even numbers: 342\n",
      "Sum of odd numbers: 321\n"
     ]
    }
   ],
   "source": [
    "# List of numbers\n",
    "numbers = [28, 35, 87, 99, 102, 67, 74, 12, 20, 33, 48, 58]\n",
    "\n",
    "# Initialize empty lists for even and odd numbers\n",
    "even_list = []\n",
    "odd_list = []\n",
    "\n",
    "# Loop through each number in the list\n",
    "for i in numbers:\n",
    "    # Check if the number is even (divisible by 2)\n",
    "    if i % 2 == 0:\n",
    "        even_list.append(i)  # Add even numbers to even_list\n",
    "    else:\n",
    "        odd_list.append(i)   # Add odd numbers to odd_list\n",
    "\n",
    "# Print the list of even and odd numbers\n",
    "print(\"Even numbers:\", even_list)\n",
    "print(\"Odd numbers:\", odd_list)\n",
    "\n",
    "# Initialize sum variables for even and odd numbers\n",
    "sum_of_evens = 0\n",
    "sum_of_odds = 0\n",
    "\n",
    "# Loop through even_list and add each even number to sum_of_evens\n",
    "for i in even_list:\n",
    "    sum_of_evens += i\n",
    "\n",
    "# Loop through odd_list and add each odd number to sum_of_odds\n",
    "for i in odd_list:\n",
    "    sum_of_odds += i\n",
    "\n",
    "# Print the sum of even and odd numbers\n",
    "print(\"Sum of even numbers:\", sum_of_evens)\n",
    "print(\"Sum of odd numbers:\", sum_of_odds)\n"
   ]
  },
  {
   "cell_type": "markdown",
   "id": "f87b230e",
   "metadata": {},
   "source": [
    "_________"
   ]
  },
  {
   "cell_type": "markdown",
   "id": "f277b8c1",
   "metadata": {},
   "source": [
    "**5. write a multiplication table using for loop**"
   ]
  },
  {
   "cell_type": "code",
   "execution_count": 12,
   "id": "aa4af14a",
   "metadata": {},
   "outputs": [
    {
     "name": "stdout",
     "output_type": "stream",
     "text": [
      "Entered Number is :  2\n",
      "Entered Starting Point at :  1\n",
      "Entered Ending Point at :  10\n",
      "Multiplication Table For your Number : 2\n",
      "2 * 1 = 2\n",
      "2 * 2 = 4\n",
      "2 * 3 = 6\n",
      "2 * 4 = 8\n",
      "2 * 5 = 10\n",
      "2 * 6 = 12\n",
      "2 * 7 = 14\n",
      "2 * 8 = 16\n",
      "2 * 9 = 18\n",
      "2 * 10 = 20\n"
     ]
    }
   ],
   "source": [
    "# Get user input for the number\n",
    "number = int(input(\"Enter the number for the multiplication table: \"))\n",
    "\n",
    "print(\"Entered Number is : \" , number)\n",
    "\n",
    "# Get user input for the starting point\n",
    "start = int(input(\"Enter the starting point: \"))\n",
    "print(\"Entered Starting Point at : \" , start)\n",
    "\n",
    "# Get user input for the ending point\n",
    "end = int(input(\"Enter the ending point: \"))\n",
    "\n",
    "print(\"Entered Ending Point at : \" , end)\n",
    "\n",
    "\n",
    "print (\"Multiplication Table For your Number :\",number)\n",
    "# Generate the multiplication table using a for loop\n",
    "for i in range(start, end + 1):\n",
    "    print(f\"{number} * {i} = {number * i}\")\n"
   ]
  },
  {
   "cell_type": "markdown",
   "id": "d9ec355e",
   "metadata": {},
   "source": [
    "____________________"
   ]
  },
  {
   "cell_type": "markdown",
   "id": "9ec435ed",
   "metadata": {},
   "source": [
    "**6. Ask user to enter the values using for loop, break it when the sum is greater than 50**"
   ]
  },
  {
   "cell_type": "code",
   "execution_count": 8,
   "id": "34555ed2",
   "metadata": {},
   "outputs": [
    {
     "name": "stdout",
     "output_type": "stream",
     "text": [
      "Final sum: 150\n"
     ]
    }
   ],
   "source": [
    "# Initialize sum to 0\n",
    "sum = 0\n",
    "\n",
    "# Using a for loop to continuously ask for values\n",
    "for i in range(100):  # 100 is arbitrary, as the loop will break when needed\n",
    "    # Ask the user to input a value\n",
    "    v = int(input(\"Enter the value: \"))\n",
    "    \n",
    "    # Add the value to the sum\n",
    "    sum =  sum+v\n",
    "    \n",
    "    # Check if the sum has exceeded 50\n",
    "    if sum > 50:\n",
    "        break  # Break the loop if the sum is greater than 50\n",
    "\n",
    "# Print the final sum\n",
    "print(\"Final sum:\", sum)\n"
   ]
  },
  {
   "cell_type": "markdown",
   "id": "2e7125c2",
   "metadata": {},
   "source": [
    "_________________"
   ]
  },
  {
   "cell_type": "markdown",
   "id": "af25c856",
   "metadata": {},
   "source": [
    "**Task Example:**\n",
    "\n",
    "    Write a Python program that takes a phone number as input (as a string) and computes the sum of its digits repeatedly until a single-digit result is obtained. For example, if the input is 9123456789, the program should follow these steps:\n",
    "\n",
    "- Sum the digits: 9 + 1 + 2 + 3 + 4 + 5 + 6 + 7 + 8 + 9 = 54\n",
    "- Sum the digits of the result: 5 + 4 = 9\n",
    "- Output the final single digit: The output should be 9."
   ]
  },
  {
   "cell_type": "code",
   "execution_count": 44,
   "id": "6932971c",
   "metadata": {},
   "outputs": [
    {
     "name": "stdout",
     "output_type": "stream",
     "text": [
      "Entered Mobile Number is: 8605681401\n",
      "Total Sum of Digits: 39\n",
      "Final Sum until Single Digit: 3\n"
     ]
    }
   ],
   "source": [
    "# Input: 10-digit mobile number as an integer\n",
    "mobile_number = input(\"Enter your 10-Digit Mobile Number: \")\n",
    "print(\"Entered Mobile Number is:\", mobile_number)\n",
    "\n",
    "sum = 0  # Initialize sum variable\n",
    "\n",
    "# Loop through each digit in the mobile number\n",
    "for i in range(10):\n",
    "    sum = sum + int(mobile_number[i])  # Add each digit to sum\n",
    "\n",
    "\n",
    "\n",
    "    # Check if the sum is 10 or greater\n",
    "    if sum >= 10:\n",
    "        string_sum = str(sum)  # Convert to string to access digits\n",
    "        final_sum = int(string_sum[0]) + int(string_sum[1])  # Sum the digits\n",
    "        # Check if final_sum is 10 or greater\n",
    "        if final_sum >= 10:\n",
    "            string_sum = str(final_sum)\n",
    "            final_sum = int(string_sum[0]) + int(string_sum[1])  # Sum the digits again\n",
    "\n",
    "# Output the results\n",
    "print(\"Total Sum of Digits:\", sum)\n",
    "print(\"Final Sum until Single Digit:\", final_sum)\n"
   ]
  },
  {
   "cell_type": "markdown",
   "id": "12cb9389",
   "metadata": {},
   "source": [
    "_____________________"
   ]
  },
  {
   "cell_type": "markdown",
   "id": "cbd01639",
   "metadata": {},
   "source": [
    "## **Detailed Summary of For Loops** "
   ]
  },
  {
   "cell_type": "markdown",
   "id": "44c01a80",
   "metadata": {},
   "source": [
    "A for loop is one of the most fundamental control structures in Python. It allows you to iterate over sequences (such as lists, tuples, strings, or ranges) and perform operations on each element in the sequence. This functionality is especially useful in Jupyter Notebook, where loops help automate repetitive tasks, process data, and manage complex workflows."
   ]
  },
  {
   "cell_type": "markdown",
   "id": "0e319afb",
   "metadata": {},
   "source": [
    "1. Basic Structure of a For Loop\n",
    "- In a for loop, the code block is executed once for each item in the sequence. The syntax consists of the for keyword followed by a variable name, the in keyword, and the sequence to iterate over. The indented block of code under the loop is executed for each item in the sequence."
   ]
  },
  {
   "cell_type": "markdown",
   "metadata": {},
   "source": [
    "2. Control Flow Statements in a For Loop\n",
    "\n",
    "- break Statement: \n",
    "The break statement allows you to exit the loop before it has iterated over all the items in the sequence. This is useful when you want to stop the loop early, based on a condition.\n",
    "\n",
    "- continue Statement:\n",
    "        The continue statement skips the current iteration and proceeds to the next one. It is useful when you need to skip certain iterations based on specific conditions, without exiting the loop entirely.\n",
    "\n"
   ]
  },
  {
   "cell_type": "markdown",
   "id": "586afce3",
   "metadata": {},
   "source": [
    "3. Looping Through Sequences\n",
    "- Range:\n",
    "A common use case for for loops is iterating over a range of numbers, which is done using the range() function. This generates a sequence of numbers that can be iterated over.\n",
    "\n",
    "- Lists, Tuples, and Strings:\n",
    "A for loop can iterate through various data structures like lists, tuples, and strings. Each item in the sequence is accessed individually in the loop."
   ]
  },
  {
   "cell_type": "markdown",
   "id": "1218859f",
   "metadata": {},
   "source": [
    "4. Nested Loops\n",
    "- A nested loop is when one loop is placed inside another. The outer loop runs once for each iteration of the inner loop, and the inner loop completes all of its iterations for each iteration of the outer loop. Nested loops are useful for iterating over multi-dimensional data structures or performing more complex tasks within loops."
   ]
  },
  {
   "cell_type": "markdown",
   "id": "72f6c4ff",
   "metadata": {},
   "source": [
    "###"
   ]
  },
  {
   "cell_type": "markdown",
   "id": "720a9247",
   "metadata": {},
   "source": [
    "5. Advantages of Using For Loops in Jupyter Notebooks\n",
    "- Repetitive Tasks:\n",
    "Loops help automate repetitive tasks, making it easier to process large datasets or perform repeated operations without manual intervention.\n",
    "\n",
    "- Data Processing:\n",
    "For loops are frequently used for iterating through datasets in Jupyter, making it a common structure for data science tasks, such as summing values, performing calculations, or applying transformations to each data point.\n",
    "\n",
    "- Efficiency:\n",
    "Using loops can enhance the efficiency of code by eliminating the need for redundant code blocks. A single loop can handle multiple operations, streamlining the code structure."
   ]
  },
  {
   "cell_type": "markdown",
   "id": "fea326c7",
   "metadata": {},
   "source": []
  }
 ],
 "metadata": {
  "kernelspec": {
   "display_name": "Python 3 (ipykernel)",
   "language": "python",
   "name": "python3"
  },
  "language_info": {
   "codemirror_mode": {
    "name": "ipython",
    "version": 3
   },
   "file_extension": ".py",
   "mimetype": "text/x-python",
   "name": "python",
   "nbconvert_exporter": "python",
   "pygments_lexer": "ipython3",
   "version": "3.12.2"
  }
 },
 "nbformat": 4,
 "nbformat_minor": 5
}
