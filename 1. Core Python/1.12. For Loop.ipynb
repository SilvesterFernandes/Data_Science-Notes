{
 "cells": [
  {
   "cell_type": "markdown",
   "id": "b376fa39-d559-4c08-9491-31df0cf42b53",
   "metadata": {
    "vscode": {
     "languageId": "python"
    }
   },
   "source": [
    " ______________________________________________________________________________________________________________________\n",
    "<h1 style=\"color:#0d81cc;  font-weight: bold;\">1.12 For- Loop</h1>\n",
    "\n",
    "______________________________________________________________________________________________________________________________________________"
   ]
  },
  {
   "cell_type": "markdown",
   "id": "5614e13b-22de-44fa-8e84-10116996e27a",
   "metadata": {
    "notebookRunGroups": {
     "groupValue": "2"
    }
   },
   "source": [
    "### **Some Terms** \n",
    "\n",
    "loop        : Repeating the code\n",
    "\n",
    "while       : till Condition satisfies\n",
    "\n",
    "for         : for each value in sequence\n",
    "\n",
    "for loop    : for each value in sequence, repeating the \n",
    "\n",
    "sequence    : str,list,tuple,set,range\n",
    "_______________________________"
   ]
  },
  {
   "cell_type": "markdown",
   "id": "7dff301c-87f6-4672-8bd8-53f8bf231321",
   "metadata": {},
   "source": [
    "## **1. Introduction to For Loop:**\n",
    "The for loop in Python is used to iterate over a sequence (such as a list, tuple, string, or range) and perform a block of code repeatedly for each element in that sequence."
   ]
  },
  {
   "cell_type": "markdown",
   "id": "105604f0-4668-4450-b494-4d799ae7611c",
   "metadata": {},
   "source": [
    "**Basic Syntax:**\n",
    "\n",
    "for item in (sequence):\n",
    "\n",
    "        # block of code to execute for each item"
   ]
  },
  {
   "cell_type": "markdown",
   "id": "431d776d",
   "metadata": {},
   "source": [
    "**Example While Loop**"
   ]
  },
  {
   "cell_type": "code",
   "execution_count": 4,
   "id": "66cb2966",
   "metadata": {},
   "outputs": [
    {
     "name": "stdout",
     "output_type": "stream",
     "text": [
      "1\n",
      "2\n",
      "3\n",
      "4\n",
      "5\n",
      "6\n"
     ]
    }
   ],
   "source": [
    "num_list=[1,2,3,4,5,6]\n",
    "\n",
    "i=1\n",
    "while i in num_list:\n",
    "    print(i)\n",
    "    i=i+1"
   ]
  },
  {
   "cell_type": "markdown",
   "id": "50684326",
   "metadata": {},
   "source": [
    "**Example for Loop**"
   ]
  },
  {
   "cell_type": "code",
   "execution_count": 9,
   "id": "2b712e2b",
   "metadata": {},
   "outputs": [
    {
     "name": "stdout",
     "output_type": "stream",
     "text": [
      "1\n",
      "2\n",
      "3\n",
      "4\n",
      "5\n",
      "6\n"
     ]
    }
   ],
   "source": [
    "num_list=[1,2,3,4,5,6]\n",
    "for i in (num_list):\n",
    "    print(i)"
   ]
  },
  {
   "cell_type": "markdown",
   "id": "a7b1a54e",
   "metadata": {},
   "source": [
    "**Using range**"
   ]
  },
  {
   "cell_type": "code",
   "execution_count": 20,
   "id": "d3a36324",
   "metadata": {},
   "outputs": [
    {
     "name": "stdout",
     "output_type": "stream",
     "text": [
      "0\n",
      "1\n",
      "2\n",
      "3\n",
      "4\n"
     ]
    }
   ],
   "source": [
    "for i in range (5):\n",
    "    print(i)"
   ]
  },
  {
   "cell_type": "code",
   "execution_count": 35,
   "id": "7bbdea43",
   "metadata": {},
   "outputs": [
    {
     "name": "stdout",
     "output_type": "stream",
     "text": [
      "P\n",
      "r\n",
      "o\n",
      "g\n",
      "r\n",
      "a\n",
      "m\n",
      "m\n",
      "i\n",
      "n\n",
      "g\n"
     ]
    }
   ],
   "source": [
    "a= \"Programming\"\n",
    "for s in a :\n",
    "    print(s)\n",
    "#The code will print each character of the string \"Programming\" on a new line:"
   ]
  },
  {
   "cell_type": "code",
   "execution_count": 37,
   "id": "90c7e1f8",
   "metadata": {},
   "outputs": [
    {
     "name": "stdout",
     "output_type": "stream",
     "text": [
      "1\n",
      "2\n",
      "3\n",
      "4\n"
     ]
    }
   ],
   "source": [
    "t=(1,2,3,4)  # Tuple \n",
    "\n",
    "for i in t:\n",
    "    print(i)\n",
    "\n",
    "\n",
    "# This will iterate over the elements of the tuple t and print each element on a new line. Here's the output:"
   ]
  },
  {
   "cell_type": "code",
   "execution_count": null,
   "id": "5e3e5eae",
   "metadata": {},
   "outputs": [],
   "source": [
    "#The variable i in this case refers to each element in the tuple during each iteration of the for loop. You can use any name instead of i, such as element, to make the code more descriptive."
   ]
  },
  {
   "cell_type": "code",
   "execution_count": null,
   "id": "54fa594d",
   "metadata": {},
   "outputs": [],
   "source": []
  }
 ],
 "metadata": {
  "kernelspec": {
   "display_name": "Python 3 (ipykernel)",
   "language": "python",
   "name": "python3"
  },
  "language_info": {
   "codemirror_mode": {
    "name": "ipython",
    "version": 3
   },
   "file_extension": ".py",
   "mimetype": "text/x-python",
   "name": "python",
   "nbconvert_exporter": "python",
   "pygments_lexer": "ipython3",
   "version": "3.12.2"
  }
 },
 "nbformat": 4,
 "nbformat_minor": 5
}
