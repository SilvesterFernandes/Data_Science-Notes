{
 "cells": [
  {
   "cell_type": "markdown",
   "id": "b376fa39-d559-4c08-9491-31df0cf42b53",
   "metadata": {
    "vscode": {
     "languageId": "python"
    }
   },
   "source": [
    " ______________________________________________________________________________________________________________________\n",
    "<h1 style=\"color:#0d81cc;  font-weight: bold;\">1.12 For- Loop</h1>\n",
    "\n",
    "______________________________________________________________________________________________________________________________________________"
   ]
  },
  {
   "cell_type": "markdown",
   "id": "7dff301c-87f6-4672-8bd8-53f8bf231321",
   "metadata": {},
   "source": [
    "## 1. Introduction to For Loop:\n",
    "The for loop in Python is used to iterate over a sequence (such as a list, tuple, string, or range) and perform a block of code repeatedly for each element in that sequence."
   ]
  },
  {
   "cell_type": "markdown",
   "id": "105604f0-4668-4450-b494-4d799ae7611c",
   "metadata": {},
   "source": [
    "**2. Basic Syntax:**\n",
    "\n",
    "for item in sequence:\n",
    "\n",
    "    # block of code to execute for each item"
   ]
  },
  {
   "cell_type": "code",
   "execution_count": null,
   "id": "5614e13b-22de-44fa-8e84-10116996e27a",
   "metadata": {},
   "outputs": [],
   "source": []
  }
 ],
 "metadata": {
  "kernelspec": {
   "display_name": "Python 3 (ipykernel)",
   "language": "python",
   "name": "python3"
  },
  "language_info": {
   "codemirror_mode": {
    "name": "ipython",
    "version": 3
   },
   "file_extension": ".py",
   "mimetype": "text/x-python",
   "name": "python",
   "nbconvert_exporter": "python",
   "pygments_lexer": "ipython3",
   "version": "3.11.7"
  }
 },
 "nbformat": 4,
 "nbformat_minor": 5
}
