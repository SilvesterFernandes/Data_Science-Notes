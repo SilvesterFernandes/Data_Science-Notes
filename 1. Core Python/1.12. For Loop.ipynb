{
 "cells": [
  {
   "cell_type": "markdown",
   "id": "b376fa39-d559-4c08-9491-31df0cf42b53",
   "metadata": {
    "vscode": {
     "languageId": "python"
    }
   },
   "source": [
    " ______________________________________________________________________________________________________________________\n",
    "<h1 style=\"color:#0d81cc;  font-weight: bold;\">1.12 : For - Loop</h1>\n",
    "\n",
    "______________________________________________________________________________________________________________________________________________"
   ]
  },
  {
   "cell_type": "markdown",
   "id": "5614e13b-22de-44fa-8e84-10116996e27a",
   "metadata": {
    "notebookRunGroups": {
     "groupValue": "2"
    }
   },
   "source": [
    "### **Some Terms** \n",
    "\n",
    "loop        : Repeating the code\n",
    "\n",
    "while       : till Condition satisfies\n",
    "\n",
    "for         : for each value in sequence\n",
    "\n",
    "for loop    : for each value in sequence, repeating the \n",
    "\n",
    "sequence    : A collection that supports iteration, such as a str, list, tuple, set, range, or dict.\n",
    "_______________________________"
   ]
  },
  {
   "cell_type": "markdown",
   "id": "7dff301c-87f6-4672-8bd8-53f8bf231321",
   "metadata": {},
   "source": [
    "## **1. Introduction to For Loop:**\n",
    "- The for loop in Python is used to iterate over a sequence (such as a list, tuple, string, or range) and perform a block of code repeatedly for each element in that sequence."
   ]
  },
  {
   "cell_type": "markdown",
   "id": "105604f0-4668-4450-b494-4d799ae7611c",
   "metadata": {},
   "source": [
    "**Basic Syntax:**\n",
    "\n",
    "for item in (sequence):\n",
    "\n",
    "        # block of code to execute for each item"
   ]
  },
  {
   "cell_type": "markdown",
   "id": "431d776d",
   "metadata": {},
   "source": [
    "**Example While Loop**"
   ]
  },
  {
   "cell_type": "code",
   "execution_count": 38,
   "id": "66cb2966",
   "metadata": {},
   "outputs": [
    {
     "name": "stdout",
     "output_type": "stream",
     "text": [
      "1\n",
      "2\n",
      "3\n",
      "4\n",
      "5\n",
      "6\n"
     ]
    }
   ],
   "source": [
    "num_list=[1,2,3,4,5,6]\n",
    "\n",
    "i=1\n",
    "while i in num_list:\n",
    "    print(i)\n",
    "    i=i+1"
   ]
  },
  {
   "cell_type": "markdown",
   "id": "50684326",
   "metadata": {},
   "source": [
    "**Example for Loop**"
   ]
  },
  {
   "cell_type": "code",
   "execution_count": 39,
   "id": "2b712e2b",
   "metadata": {},
   "outputs": [
    {
     "name": "stdout",
     "output_type": "stream",
     "text": [
      "1\n",
      "2\n",
      "3\n",
      "4\n",
      "5\n",
      "6\n"
     ]
    }
   ],
   "source": [
    "num_list=[1,2,3,4,5,6]\n",
    "for i in (num_list):\n",
    "    print(i)"
   ]
  },
  {
   "cell_type": "markdown",
   "id": "a7b1a54e",
   "metadata": {},
   "source": [
    "**Using range**\n",
    "\n",
    "- range() is used to generate a sequence of numbers:"
   ]
  },
  {
   "cell_type": "code",
   "execution_count": 57,
   "id": "d3a36324",
   "metadata": {},
   "outputs": [
    {
     "name": "stdout",
     "output_type": "stream",
     "text": [
      "0\n",
      "1\n",
      "2\n",
      "3\n",
      "4\n"
     ]
    }
   ],
   "source": [
    "for i in range (5):\n",
    "    print(i)\n",
    "# This prints numbers from 0 to 4."
   ]
  },
  {
   "cell_type": "markdown",
   "id": "69a89510",
   "metadata": {},
   "source": [
    "### **For Loop with a String**"
   ]
  },
  {
   "cell_type": "code",
   "execution_count": 58,
   "id": "7bbdea43",
   "metadata": {},
   "outputs": [
    {
     "name": "stdout",
     "output_type": "stream",
     "text": [
      "P\n",
      "r\n",
      "o\n",
      "g\n",
      "r\n",
      "a\n",
      "m\n",
      "m\n",
      "i\n",
      "n\n",
      "g\n"
     ]
    }
   ],
   "source": [
    "a = \"Programming\"\n",
    "# Iterating over each character in the string\n",
    "for s in a:\n",
    "    print(s)"
   ]
  },
  {
   "cell_type": "code",
   "execution_count": 51,
   "id": "703502cc",
   "metadata": {},
   "outputs": [
    {
     "name": "stdout",
     "output_type": "stream",
     "text": [
      "P\n",
      "r\n",
      "o\n",
      "g\n",
      "r\n",
      "a\n",
      "m\n",
      "m\n",
      "i\n",
      "n\n",
      "g\n"
     ]
    }
   ],
   "source": [
    "# Another way: Using range to access characters by index\n",
    "a = \"Programming\"\n",
    "for i in range(len(a)):\n",
    "    print(a[i])"
   ]
  },
  {
   "cell_type": "markdown",
   "id": "d0438aa8",
   "metadata": {},
   "source": [
    "### **For Loop with a Tuple**"
   ]
  },
  {
   "cell_type": "code",
   "execution_count": 60,
   "id": "90c7e1f8",
   "metadata": {},
   "outputs": [
    {
     "name": "stdout",
     "output_type": "stream",
     "text": [
      "1\n",
      "2\n",
      "3\n",
      "4\n"
     ]
    }
   ],
   "source": [
    "t=(1,2,3,4)  # Tuple \n",
    "for i in t:\n",
    "    print(i)\n",
    "# This will iterate over the elements of the tuple t and print each element on a new line. \n",
    "# The variable i in this case refers to each element in the tuple during each iteration of the for loop. You can use any name instead of i, such as element, to make the code more descriptive.\n",
    "# Here's the output:"
   ]
  },
  {
   "cell_type": "markdown",
   "id": "2451d87d",
   "metadata": {},
   "source": [
    "### **For Loop with a Set**"
   ]
  },
  {
   "cell_type": "code",
   "execution_count": 64,
   "id": "5e3e5eae",
   "metadata": {},
   "outputs": [
    {
     "name": "stdout",
     "output_type": "stream",
     "text": [
      "40\n",
      "10\n",
      "20\n",
      "30\n"
     ]
    }
   ],
   "source": [
    "s = {10, 20, 30, 40}  # Set\n",
    "\n",
    "# Iterating over each element in the set\n",
    "for i in s:\n",
    "    print(i)\n",
    "\n",
    "# Note : Sets do not maintain order"
   ]
  },
  {
   "cell_type": "markdown",
   "id": "54fa594d",
   "metadata": {},
   "source": [
    "### **For Loop with a Dictionary**"
   ]
  },
  {
   "cell_type": "code",
   "execution_count": 66,
   "id": "2dba9227",
   "metadata": {},
   "outputs": [
    {
     "name": "stdout",
     "output_type": "stream",
     "text": [
      "name\n",
      "age\n",
      "city\n",
      "Silvester\n",
      "25\n",
      "Pune\n",
      "Key: name, Value: Silvester\n",
      "Key: age, Value: 25\n",
      "Key: city, Value: Pune\n"
     ]
    }
   ],
   "source": [
    "### Dictionary with key-value pairs\n",
    "d = {'name': 'Silvester', 'age': 25, 'city': 'Pune'}    \n",
    "\n",
    "# Iterating over dictionary keys\n",
    "for key in d:\n",
    "    print(key)\n",
    "\n",
    "# Iterating over dictionary values\n",
    "for value in d.values():\n",
    "    print(value)\n",
    "\n",
    "# Iterating over key-value pairs\n",
    "for key, value in d.items():\n",
    "    print(f\"Key: {key}, Value: {value}\")"
   ]
  },
  {
   "cell_type": "markdown",
   "id": "ed5f7bd2",
   "metadata": {},
   "source": [
    "### **For Loop with a List of Tuples**"
   ]
  },
  {
   "cell_type": "code",
   "execution_count": 67,
   "id": "38db37bc",
   "metadata": {},
   "outputs": [
    {
     "name": "stdout",
     "output_type": "stream",
     "text": [
      "Number: 1, Word: one\n",
      "Number: 2, Word: two\n",
      "Number: 3, Word: three\n"
     ]
    }
   ],
   "source": [
    "# List containing tuples\n",
    "list_of_tuples = [(1, 'one'), (2, 'two'), (3, 'three')]\n",
    "\n",
    "# Iterating over each tuple in the list\n",
    "for num, word in list_of_tuples:\n",
    "    print(f\"Number: {num}, Word: {word}\")"
   ]
  },
  {
   "cell_type": "markdown",
   "id": "1ef193dd",
   "metadata": {},
   "source": [
    "### **For Loop with a Nested Lists**"
   ]
  },
  {
   "cell_type": "code",
   "execution_count": 70,
   "id": "ba0eeb64",
   "metadata": {},
   "outputs": [
    {
     "name": "stdout",
     "output_type": "stream",
     "text": [
      "[1, 2, 3]\n",
      "[4, 5, 6]\n",
      "[7, 8, 9]\n",
      "1\n",
      "2\n",
      "3\n",
      "4\n",
      "5\n",
      "6\n",
      "7\n",
      "8\n",
      "9\n"
     ]
    }
   ],
   "source": [
    "# Nested list (a list of lists)\n",
    "nested_list = [[1, 2, 3], [4, 5, 6], [7, 8, 9]]\n",
    "\n",
    "# Iterating over each sublist\n",
    "for sublist in nested_list:\n",
    "    print(sublist)\n",
    "\n",
    "# Iterating over each element in the sublists\n",
    "for sublist in nested_list:\n",
    "    for item in sublist:\n",
    "        print(item)"
   ]
  },
  {
   "cell_type": "markdown",
   "id": "e6a2442d",
   "metadata": {},
   "source": [
    "**Discard Method:**"
   ]
  },
  {
   "cell_type": "code",
   "execution_count": 78,
   "id": "e5095885",
   "metadata": {},
   "outputs": [
    {
     "name": "stdout",
     "output_type": "stream",
     "text": [
      "{40, 20, 30}\n"
     ]
    }
   ],
   "source": [
    "# Initialize a set with values, duplicate values will be ignored\n",
    "l = {10, 20, 30, 40, 10, 10, 10}  \n",
    "# Set will only contain unique values: {10, 20, 30, 40}\n",
    "\n",
    "# Loop to attempt to remove the value 10 from the set\n",
    "for i in range(10):  # Loop will run 10 times\n",
    "    l.discard(10)  # Use discard() to remove 10 from the set (does nothing if 10 is not present)\n",
    "\n",
    "# Print the resulting set after the loop\n",
    "print(l)  \n",
    "# Output will be {20, 30, 40} since 10 is removed"
   ]
  },
  {
   "cell_type": "markdown",
   "id": "4ec82a9d",
   "metadata": {},
   "source": [
    "### **Summary of For Loop with Different Data Types:**\n",
    "- String: Iterates over each character in the string.\n",
    "- List: Iterates over each element in the list.\n",
    "- Tuple: Iterates over each element in the tuple.\n",
    "- Set: Iterates over each element (order is not guaranteed).\n",
    "- Dictionary: Iterates over keys, values, or key-value pairs.\n",
    "- Range: Iterates over numbers in a specified range."
   ]
  },
  {
   "cell_type": "code",
   "execution_count": null,
   "id": "d54db390",
   "metadata": {},
   "outputs": [],
   "source": []
  }
 ],
 "metadata": {
  "kernelspec": {
   "display_name": "Python 3 (ipykernel)",
   "language": "python",
   "name": "python3"
  },
  "language_info": {
   "codemirror_mode": {
    "name": "ipython",
    "version": 3
   },
   "file_extension": ".py",
   "mimetype": "text/x-python",
   "name": "python",
   "nbconvert_exporter": "python",
   "pygments_lexer": "ipython3",
   "version": "3.12.2"
  }
 },
 "nbformat": 4,
 "nbformat_minor": 5
}
