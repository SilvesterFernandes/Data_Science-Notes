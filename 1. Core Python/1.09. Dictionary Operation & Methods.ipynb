{
 "cells": [
  {
   "cell_type": "markdown",
   "id": "55e9ef11-e87d-4ab3-9f1c-7ee8573c5a3d",
   "metadata": {},
   "source": [
    "# 1.09"
   ]
  },
  {
   "cell_type": "code",
   "execution_count": null,
   "id": "af7b1392-d374-48f3-99c0-741a1f76f62f",
   "metadata": {},
   "outputs": [],
   "source": []
  }
 ],
 "metadata": {
  "kernelspec": {
   "display_name": "Python 3 (ipykernel)",
   "language": "python",
   "name": "python3"
  },
  "language_info": {
   "codemirror_mode": {
    "name": "ipython",
    "version": 3
   },
   "file_extension": ".py",
   "mimetype": "text/x-python",
   "name": "python",
   "nbconvert_exporter": "python",
   "pygments_lexer": "ipython3",
   "version": "3.11.7"
  }
 },
 "nbformat": 4,
 "nbformat_minor": 5
}
