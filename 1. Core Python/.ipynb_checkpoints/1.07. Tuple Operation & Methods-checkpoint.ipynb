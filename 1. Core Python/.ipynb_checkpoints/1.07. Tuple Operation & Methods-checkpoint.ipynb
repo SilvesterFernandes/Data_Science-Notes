{
 "cells": [
  {
   "cell_type": "markdown",
   "id": "80c998f8-8263-4b13-9af8-348b5d8b2ecd",
   "metadata": {},
   "source": [
    "______________________________________________________________________________________________\n",
    "<h1 style=\"color:#0079D9; font-weight: bold;\">1.7 :Tuple Operations & Methods</h1>\n",
    "\n",
    "\n",
    "______________________________________________________________________________________________"
   ]
  },
  {
   "cell_type": "markdown",
   "id": "69eb589a-3fb2-4df4-816e-72d862936cfd",
   "metadata": {},
   "source": [
    "<h2 style=\"color:#3D3297; font-weight: bold;\">Introduction :</h2>\r\n",
    "\r\n",
    "**Tuples:**\r\n",
    "- In Python, a **tuple is an ordered collection of items that are immutable**.\r\n",
    "- **Tuples can contain elements of different types, including integers, floats, strings, and even other tuples.**\r\n",
    "- They are **immutable**, which means once a tuple is created, its content cannot be changed.\r\n",
    "\r\n",
    "Here are some key points about tuples in Python:\r\n",
    "- **Ordered:**\r\n",
    "  Tuples maintain the order of elements as they are added.\r\n",
    "- **Indexable:**\r\n",
    "  You can access elements in a tuple using their index (position).\r\n",
    "- **Immutable:**\r\n",
    "  Tuples cannot be modified after their creation (elements cannot be added, removed, or changed).\r\n",
    "- **Fixed Size:**\r\n",
    "  Tuples have a fixed size once created.\r\n",
    "\r\n",
    "**Note:**\r\n",
    "- Tuples are created using parentheses `()` with elements separated by commas.\r\n",
    "- Tuples can be heterogeneous, containing elements of different types.\r\n",
    "\n"
   ]
  },
  {
   "cell_type": "markdown",
   "id": "26946cc3-a070-4860-aa8e-43ed05563a08",
   "metadata": {},
   "source": [
    "________________________________________________________________________________________________________________________________________________________"
   ]
  },
  {
   "cell_type": "markdown",
   "id": "3385c107-f329-4343-bfe4-f603ff3dc7e5",
   "metadata": {},
   "source": [
    "**Creating an Empty Tuple:**\n",
    "\n",
    "- Tuples can be created by placing a comma-separated sequence of elements within parentheses ().\n",
    "\n",
    "- To create an empty tuple, use empty parentheses."
   ]
  },
  {
   "cell_type": "code",
   "execution_count": 182,
   "id": "f8491400-1b06-4e8e-991e-ff6475b59208",
   "metadata": {},
   "outputs": [
    {
     "name": "stdout",
     "output_type": "stream",
     "text": [
      "()\n"
     ]
    },
    {
     "data": {
      "text/plain": [
       "tuple"
      ]
     },
     "execution_count": 182,
     "metadata": {},
     "output_type": "execute_result"
    }
   ],
   "source": [
    "# First Way\n",
    "empty_tuple = ()\n",
    "print(empty_tuple)\n",
    "type(empty_tuple)"
   ]
  },
  {
   "cell_type": "code",
   "execution_count": 184,
   "id": "55f2014a-5e8f-41cf-965a-488367899eeb",
   "metadata": {},
   "outputs": [
    {
     "name": "stdout",
     "output_type": "stream",
     "text": [
      "()\n"
     ]
    },
    {
     "data": {
      "text/plain": [
       "tuple"
      ]
     },
     "execution_count": 184,
     "metadata": {},
     "output_type": "execute_result"
    }
   ],
   "source": [
    "# Second Way\n",
    "empty_tuple_2 = tuple()\n",
    "print(empty_tuple_2)\n",
    "type(empty_tuple_2)"
   ]
  },
  {
   "cell_type": "markdown",
   "id": "603ca150-8421-4133-b815-b30f750e31d3",
   "metadata": {},
   "source": [
    "**Single-Element Tuple :**\n",
    "- Single element tuple must have a comma, even if there's only one element."
   ]
  },
  {
   "cell_type": "code",
   "execution_count": 187,
   "id": "fb2871db-941f-43aa-a07f-3a4c60416e81",
   "metadata": {},
   "outputs": [
    {
     "name": "stdout",
     "output_type": "stream",
     "text": [
      "(1,)\n"
     ]
    }
   ],
   "source": [
    "Single_element_tuple = (1,)\n",
    "print(Single_element_tuple)"
   ]
  },
  {
   "cell_type": "markdown",
   "id": "adabd9b8-3412-4c40-8d2e-af965f19000f",
   "metadata": {},
   "source": [
    "**Creating a Tuple with Elements:**\n"
   ]
  },
  {
   "cell_type": "code",
   "execution_count": 190,
   "id": "2b2ca86b-1173-42d6-9cf7-62668250318d",
   "metadata": {},
   "outputs": [
    {
     "name": "stdout",
     "output_type": "stream",
     "text": [
      "(12, 5.0, True, 'Python')\n"
     ]
    }
   ],
   "source": [
    "# Heterogeneous Tuple\n",
    "my_tuple = (12, 5.0, True, 'Python')\n",
    "print(my_tuple)"
   ]
  },
  {
   "cell_type": "markdown",
   "id": "040006b5-3cde-423d-ab75-14e5472bad55",
   "metadata": {},
   "source": [
    "## **Basic Opeartions on Tuple**"
   ]
  },
  {
   "cell_type": "code",
   "execution_count": 193,
   "id": "27c920f6-12a0-4e39-b237-696bb423a86c",
   "metadata": {},
   "outputs": [
    {
     "name": "stdout",
     "output_type": "stream",
     "text": [
      "('Silvester', 12, 25, 30, 1999, 200.5, True, 'Python')\n"
     ]
    }
   ],
   "source": [
    "my_tuple = ('Silvester', 12, 25, 30, 1999, 200.5, True, 'Python')\n",
    "print(my_tuple)"
   ]
  },
  {
   "cell_type": "code",
   "execution_count": null,
   "id": "ccbc97fa-58b9-4a7b-a0a1-d8d5bb056b9d",
   "metadata": {},
   "outputs": [],
   "source": []
  },
  {
   "cell_type": "markdown",
   "id": "ce3bd510-b0a7-4945-9907-a0dd39f549be",
   "metadata": {},
   "source": [
    "## **Indexing :**\n",
    "**Zero-Based Indexing:**                                                                                                                           \n",
    "- The first element in a tuple is accessed with index 0, the second with index 1, and so on.\n",
    "\n",
    "**Negative Indexing:** \n",
    "- Elements can also be accessed from the end of the tuple using negative indices, where -1 refers to the last element, -2 to the second-to-last, and so on.\n"
   ]
  },
  {
   "cell_type": "code",
   "execution_count": 197,
   "id": "c820f07d-d16f-40a4-96ae-3a160edbca5f",
   "metadata": {},
   "outputs": [
    {
     "name": "stdout",
     "output_type": "stream",
     "text": [
      "Silvester\n"
     ]
    }
   ],
   "source": [
    "print(my_tuple[0])   # Output: 'Silvester'"
   ]
  },
  {
   "cell_type": "code",
   "execution_count": 199,
   "id": "b071de0e-babc-45b8-ad09-7d2d574d28bc",
   "metadata": {},
   "outputs": [
    {
     "name": "stdout",
     "output_type": "stream",
     "text": [
      "12\n"
     ]
    }
   ],
   "source": [
    "print(my_tuple[1])   # Output: 12"
   ]
  },
  {
   "cell_type": "code",
   "execution_count": 201,
   "id": "f8ed0ac2-be89-4432-981d-e1008394f1a6",
   "metadata": {},
   "outputs": [
    {
     "name": "stdout",
     "output_type": "stream",
     "text": [
      "Python\n"
     ]
    }
   ],
   "source": [
    "print(my_tuple[-1])  # Output: 'Python'"
   ]
  },
  {
   "cell_type": "code",
   "execution_count": 203,
   "id": "c2101f78-dfc9-404f-a2ac-089bf33bb17f",
   "metadata": {},
   "outputs": [
    {
     "name": "stdout",
     "output_type": "stream",
     "text": [
      "30\n"
     ]
    }
   ],
   "source": [
    "print(my_tuple[-5])  # Output: 30"
   ]
  },
  {
   "cell_type": "markdown",
   "id": "084b97f0-58de-442d-b4de-bbb9311650f1",
   "metadata": {},
   "source": [
    "***"
   ]
  },
  {
   "cell_type": "markdown",
   "id": "7214d414-aa79-49f0-848f-034611e89e7f",
   "metadata": {},
   "source": [
    "## **Slicing:**\n",
    "**The syntax for tuple slicing is :  tuple[start:stop]**\n",
    "\n",
    "where:\n",
    "\n",
    "start (optional): The index where the slice begins (inclusive). Defaults to the beginning of the tuple if omitted.\n",
    "\n",
    "stop (optional): The index where the slice ends (exclusive). Defaults to the end of the tuple if omitted.\n",
    "\n",
    "step (optional): The number of steps to take between each element. Defaults to 1 if omitted."
   ]
  },
  {
   "cell_type": "code",
   "execution_count": 207,
   "id": "7df3abde-8a9c-4dc3-b71d-3394cf71777f",
   "metadata": {},
   "outputs": [
    {
     "name": "stdout",
     "output_type": "stream",
     "text": [
      "('Silvester', 12, 25, 30, 1999, 200.5, True, 'Python')\n"
     ]
    }
   ],
   "source": [
    "my_tuple = ('Silvester', 12, 25, 30, 1999, 200.5, True, 'Python')\n",
    "print(my_tuple)"
   ]
  },
  {
   "cell_type": "code",
   "execution_count": 209,
   "id": "52c5e215-3598-4547-8b0e-f7a477442f69",
   "metadata": {},
   "outputs": [
    {
     "name": "stdout",
     "output_type": "stream",
     "text": [
      "('Silvester', 12)\n"
     ]
    }
   ],
   "source": [
    "print(my_tuple[0:2])   # Output: ('Silvester', 12)"
   ]
  },
  {
   "cell_type": "code",
   "execution_count": 211,
   "id": "c5b786db-85da-4689-ac68-0c282c11111f",
   "metadata": {},
   "outputs": [
    {
     "name": "stdout",
     "output_type": "stream",
     "text": [
      "('Silvester', 12, 25, 30, 1999, 200.5, True)\n"
     ]
    }
   ],
   "source": [
    "print(my_tuple[:-1])   # Output: ('Silvester', 12, 25, 30, 1999, 200.5, True)"
   ]
  },
  {
   "cell_type": "code",
   "execution_count": 213,
   "id": "0d90b322-8791-4753-981e-cc4e978c00dd",
   "metadata": {},
   "outputs": [
    {
     "name": "stdout",
     "output_type": "stream",
     "text": [
      "('Silvester', 12, 25, 30)\n"
     ]
    }
   ],
   "source": [
    "print(my_tuple[:4])    # Output: ('Silvester', 12, 25, 30)"
   ]
  },
  {
   "cell_type": "code",
   "execution_count": 215,
   "id": "0430fbaa-da32-48a0-bc0a-e58c342740ed",
   "metadata": {},
   "outputs": [
    {
     "name": "stdout",
     "output_type": "stream",
     "text": [
      "(1999, 200.5, True)\n"
     ]
    }
   ],
   "source": [
    "print(my_tuple[-4:-1]) # Output: (1999, 200.5, True)"
   ]
  },
  {
   "cell_type": "code",
   "execution_count": 217,
   "id": "1b54143f-e418-40ac-a25a-20e576704dd6",
   "metadata": {},
   "outputs": [
    {
     "name": "stdout",
     "output_type": "stream",
     "text": [
      "('Python', True, 200.5, 1999, 30, 25, 12, 'Silvester')\n"
     ]
    }
   ],
   "source": [
    "print(my_tuple[::-1])  # Output: ('Python', True, 200.5, 1999, 30, 25, 12, 'Silvester')"
   ]
  },
  {
   "cell_type": "markdown",
   "id": "47b54566-7520-4d8e-b6fd-5f8a60a418fc",
   "metadata": {},
   "source": [
    "***"
   ]
  },
  {
   "cell_type": "markdown",
   "id": "e230e3c3-e794-4e5d-ba07-0673c2dc9a37",
   "metadata": {},
   "source": [
    "**Another Example:**"
   ]
  },
  {
   "cell_type": "code",
   "execution_count": 221,
   "id": "24023295-82cb-4460-8e9e-683edbcf8727",
   "metadata": {},
   "outputs": [
    {
     "name": "stdout",
     "output_type": "stream",
     "text": [
      "(1, 'apple', 3.14, True, None)\n"
     ]
    }
   ],
   "source": [
    "my_tuple = (1, \"apple\", 3.14, True, None)\n",
    "print(my_tuple)"
   ]
  },
  {
   "cell_type": "markdown",
   "id": "b709a577-329f-4b90-b491-efe3cabef824",
   "metadata": {},
   "source": [
    "**Slicing from index 1 to 3:**\n",
    "\n",
    "Explanation: \n",
    "- This slice starts at index 1 (inclusive) and ends at index 4 (exclusive). Therefore, it includes elements at indices 1, 2, and 3."
   ]
  },
  {
   "cell_type": "code",
   "execution_count": 224,
   "id": "f2dfcb7a-2832-4212-aee2-8c80b9c34e8f",
   "metadata": {},
   "outputs": [
    {
     "name": "stdout",
     "output_type": "stream",
     "text": [
      "('apple', 3.14, True)\n"
     ]
    }
   ],
   "source": [
    "# Slicing from index 1 to 3\n",
    "print(my_tuple[1:4])  # Output: ('apple', 3.14, True)"
   ]
  },
  {
   "cell_type": "markdown",
   "id": "ef7294a3-d9d4-4d83-8144-f963ff6f9b3b",
   "metadata": {},
   "source": [
    "**Slicing from the beginning to index 2 :**\n",
    "\n",
    "Explanation: \n",
    "- This slice starts from the beginning (index 0) and ends at index 3 (exclusive). Therefore, it includes elements at indices 0, 1, and 2."
   ]
  },
  {
   "cell_type": "code",
   "execution_count": 227,
   "id": "b315cfd8-c413-4a1f-8930-e99226315ecd",
   "metadata": {},
   "outputs": [
    {
     "name": "stdout",
     "output_type": "stream",
     "text": [
      "(1, 'apple', 3.14)\n"
     ]
    }
   ],
   "source": [
    "# Slicing from the beginning to index 2\n",
    "print(my_tuple[:3])   # Output: (1, 'apple', 3.14)"
   ]
  },
  {
   "cell_type": "markdown",
   "id": "c7f3b581-2c30-4eaf-a5ee-1da270995101",
   "metadata": {},
   "source": [
    "**Slicing from index 2 to the end :**\n",
    "\n",
    "Explanation: \n",
    "- This slice starts at index 2 and goes all the way to the end of the tuple."
   ]
  },
  {
   "cell_type": "code",
   "execution_count": 230,
   "id": "da41d695-164a-4bc7-90a9-7fe0f3c15061",
   "metadata": {},
   "outputs": [
    {
     "name": "stdout",
     "output_type": "stream",
     "text": [
      "(3.14, True, None)\n"
     ]
    }
   ],
   "source": [
    "# Slicing from index 2 to the end\n",
    "print(my_tuple[2:])   # Output: (3.14, True, None)"
   ]
  },
  {
   "cell_type": "markdown",
   "id": "1cc5f349-aded-4fb6-9d3f-6c1538c8dcc1",
   "metadata": {},
   "source": [
    "**Slicing the entire tuple :**\n",
    "\n",
    "Explanation: \n",
    "- This slice includes all elements from the beginning to the end of the tuple."
   ]
  },
  {
   "cell_type": "code",
   "execution_count": 233,
   "id": "3a100364-355e-4372-90c3-cb0ae1a98721",
   "metadata": {},
   "outputs": [
    {
     "name": "stdout",
     "output_type": "stream",
     "text": [
      "(1, 'apple', 3.14, True, None)\n"
     ]
    }
   ],
   "source": [
    "# Slicing the entire Tuple\n",
    "print(my_tuple[:])    # Output: (1, 'apple', 3.14, True, None)"
   ]
  },
  {
   "cell_type": "markdown",
   "id": "e14a0d51-a886-4919-b887-8e33815b21a0",
   "metadata": {},
   "source": [
    "**Slicing with a step of 2 :**\n",
    "\n",
    "Explanation: \n",
    "- This slice starts from the beginning and includes every second element."
   ]
  },
  {
   "cell_type": "code",
   "execution_count": 236,
   "id": "b5aaaff5-5f00-47d6-b02a-2b5ce1adeafb",
   "metadata": {},
   "outputs": [
    {
     "name": "stdout",
     "output_type": "stream",
     "text": [
      "(1, 3.14, None)\n"
     ]
    }
   ],
   "source": [
    "# Slicing with a step of 2\n",
    "print(my_tuple[::2])  # Output: (1, 3.14, None)"
   ]
  },
  {
   "cell_type": "markdown",
   "id": "f84ff55a-e2ff-4af5-bbcd-7c1197944d70",
   "metadata": {},
   "source": [
    "**Slicing with negative indices from -4 to -1 :**\n",
    "\n",
    "Explanation: \n",
    "- This slice starts at index -4 (inclusive) and ends at index -1 (exclusive). Therefore, it includes elements at indices -4, -3, and -2."
   ]
  },
  {
   "cell_type": "code",
   "execution_count": 239,
   "id": "5f2744d2-4619-47db-ad46-6d904eb9cf17",
   "metadata": {},
   "outputs": [
    {
     "name": "stdout",
     "output_type": "stream",
     "text": [
      "('apple', 3.14, True)\n"
     ]
    }
   ],
   "source": [
    "# Slicing with negative indices from -4 to -1\n",
    "print(my_tuple[-4:-1])  # Output: ('apple', 3.14, True)"
   ]
  },
  {
   "cell_type": "markdown",
   "id": "609998df-a50b-477b-865b-5ea6ac8ee297",
   "metadata": {},
   "source": [
    "**Slicing with a negative step to reverse the tuple :** \n",
    "\n",
    "Explanation: \n",
    "- This slice starts from the end of the tuple and steps backwards, effectively reversing the order of elements."
   ]
  },
  {
   "cell_type": "code",
   "execution_count": 242,
   "id": "7257751c-d8e5-48b5-8081-58dd96c13cfe",
   "metadata": {},
   "outputs": [
    {
     "name": "stdout",
     "output_type": "stream",
     "text": [
      "(None, True, 3.14, 'apple', 1)\n"
     ]
    }
   ],
   "source": [
    "# Slicing with a negative step to reverse the tuple\n",
    "print(my_tuple[::-1])   # Output: (None, True, 3.14, 'apple', 1)"
   ]
  },
  {
   "cell_type": "markdown",
   "id": "324e5293-ffa3-48e0-ad0d-ac6291af9066",
   "metadata": {},
   "source": [
    "***"
   ]
  },
  {
   "cell_type": "markdown",
   "id": "90b8a990-a898-4d41-a057-a657e3f6e5a4",
   "metadata": {},
   "source": [
    "<h2 style=\"color:#23325A; font-weight: bold;\">Methods:</h2>"
   ]
  },
  {
   "cell_type": "markdown",
   "id": "07387b63-d72a-423d-9349-c8c504c28a0e",
   "metadata": {},
   "source": [
    "<h3 style=\"color: #1193B2; font-weight: bold;\">1. count() :</h3>\n",
    "\n",
    "- The count method **returns the number of times a specified value appears in the tuple.**\n",
    "- "
   ]
  },
  {
   "cell_type": "code",
   "execution_count": 247,
   "id": "e1e7a618-248d-4c05-9910-9dbf4e9fda61",
   "metadata": {},
   "outputs": [
    {
     "name": "stdout",
     "output_type": "stream",
     "text": [
      "(1, 'apple', 3.14, True, None, 'apple')\n",
      "2\n"
     ]
    }
   ],
   "source": [
    "my_tuple = (1, \"apple\", 3.14, True, None, \"apple\")\n",
    "print(my_tuple)\n",
    "\n",
    "# Count the number of times \"apple\" appears in the tuple\n",
    "count_apple = my_tuple.count(\"apple\")\n",
    "print(count_apple)  # Output: 2"
   ]
  },
  {
   "cell_type": "markdown",
   "id": "676ed1ec-e78b-4684-946f-dc2b94780222",
   "metadata": {},
   "source": [
    "<h3 style=\"color: #1193B2; font-weight: bold;\">2. index() :</h3>\n",
    "\n",
    "- The index method **returns the first index at which a specified value is found in the tuple.**"
   ]
  },
  {
   "cell_type": "code",
   "execution_count": 250,
   "id": "540a3de8-097c-461f-a556-ab8c6f62007b",
   "metadata": {},
   "outputs": [
    {
     "name": "stdout",
     "output_type": "stream",
     "text": [
      "(1, 'apple', 3.14, 'Python', None, 'apple')\n",
      "1\n",
      "3\n"
     ]
    }
   ],
   "source": [
    "my_tuple = (1, \"apple\", 3.14, \"Python\", None, \"apple\")\n",
    "print(my_tuple)\n",
    "\n",
    "# Find the index of the first occurrence of \"apple\" in the tuple\n",
    "index_apple = my_tuple.index(\"apple\")\n",
    "print(index_apple)  # Output: 1\n",
    "\n",
    "# Find the index of the first occurrence of True in the tuple\n",
    "index_true = my_tuple.index(\"Python\")\n",
    "print(index_true)  # Output: 3"
   ]
  },
  {
   "cell_type": "markdown",
   "id": "ce3f4285-be8a-4321-9e4e-b64a7ff50589",
   "metadata": {},
   "source": [
    "***"
   ]
  },
  {
   "cell_type": "markdown",
   "id": "1789b31b-c7f5-474f-8de9-2dbe3a765744",
   "metadata": {},
   "source": [
    "**a) Immutability:** \n",
    "- **Tuples are immutable,** meaning once they are created, their elements cannot be changed.\n",
    "- This makes tuples useful for **read-only collections of items**."
   ]
  },
  {
   "cell_type": "code",
   "execution_count": 254,
   "id": "5934f3a2-2d49-4867-9738-36c9e5a751a5",
   "metadata": {},
   "outputs": [
    {
     "name": "stdout",
     "output_type": "stream",
     "text": [
      "(1, 'apple', 3.14, 'Python', None, 'apple')\n"
     ]
    }
   ],
   "source": [
    "my_tuple = (1, \"apple\", 3.14, \"Python\", None, \"apple\")\n",
    "print(my_tuple)"
   ]
  },
  {
   "cell_type": "code",
   "execution_count": 256,
   "id": "6df161b4-d057-49fa-9fd0-2f48e2fceda7",
   "metadata": {},
   "outputs": [
    {
     "ename": "TypeError",
     "evalue": "'tuple' object does not support item assignment",
     "output_type": "error",
     "traceback": [
      "\u001b[1;31m---------------------------------------------------------------------------\u001b[0m",
      "\u001b[1;31mTypeError\u001b[0m                                 Traceback (most recent call last)",
      "Cell \u001b[1;32mIn[256], line 1\u001b[0m\n\u001b[1;32m----> 1\u001b[0m my_tuple[\u001b[38;5;241m0\u001b[39m]\u001b[38;5;241m=\u001b[39m\u001b[38;5;124m\"\u001b[39m\u001b[38;5;124mgrapes\u001b[39m\u001b[38;5;124m\"\u001b[39m\n",
      "\u001b[1;31mTypeError\u001b[0m: 'tuple' object does not support item assignment"
     ]
    }
   ],
   "source": [
    "my_tuple[0]=\"grapes\""
   ]
  },
  {
   "cell_type": "code",
   "execution_count": null,
   "id": "6ae4a97a-54a6-4ccc-95c1-b1606f9b9155",
   "metadata": {},
   "outputs": [],
   "source": []
  },
  {
   "cell_type": "markdown",
   "id": "0ceeba3f-5c2f-4d5e-9a30-6f0a903a7387",
   "metadata": {},
   "source": [
    "**b) Packing and Unpacking:** \n",
    "- Tuples support packing (grouping multiple values into a single tuple) and unpacking (extracting values from a tuple into variables)."
   ]
  },
  {
   "cell_type": "code",
   "execution_count": 260,
   "id": "01ac0847-f26f-4ee0-9323-e6fb8c1939ad",
   "metadata": {},
   "outputs": [
    {
     "name": "stdout",
     "output_type": "stream",
     "text": [
      "(1, 'apple', 3.14)\n"
     ]
    }
   ],
   "source": [
    "packed_tuple = 1, \"apple\", 3.14  # Packing values into a tuple\n",
    "\n",
    "print(packed_tuple)"
   ]
  },
  {
   "cell_type": "markdown",
   "id": "6d1ef67b-f93b-4a7f-a067-2df11ae34cfd",
   "metadata": {},
   "source": [
    "**Unpacking:**\n"
   ]
  },
  {
   "cell_type": "code",
   "execution_count": 263,
   "id": "10e65e97-edc2-46b7-836b-7dbb0261a4fe",
   "metadata": {},
   "outputs": [
    {
     "name": "stdout",
     "output_type": "stream",
     "text": [
      "1\n",
      "apple\n",
      "3.14\n"
     ]
    }
   ],
   "source": [
    "packed_tuple = 1, \"apple\", 3.14  # Packing values into a tuple\n",
    "a, b, c = packed_tuple  # Unpacking values from the tuple into variables\n",
    "print(a)  # Output: 1\n",
    "print(b)  # Output: \"apple\"\n",
    "print(c)  # Output: 3.14"
   ]
  },
  {
   "cell_type": "code",
   "execution_count": null,
   "id": "e28d94a8-db0c-443b-a8bf-4b565e22701f",
   "metadata": {},
   "outputs": [],
   "source": []
  },
  {
   "cell_type": "markdown",
   "id": "2ce2ef6a-0175-4f79-b1fc-eed1c76e6414",
   "metadata": {},
   "source": [
    "**c) Sorting:**\n",
    "\n",
    "**is it Possible to Sort Tuple?**\n",
    "\n",
    "Explanation:\n",
    "\n",
    "- **1. Creating a Tuple:**\n",
    "  We start with a tuple my_tuple containing numbers.\n",
    "\n",
    "  \n",
    "- **2.Converting to a List:** Since tuples are immutable, we convert it to a list my_list to allow sorting.\n",
    "- **3.Sorting the List:** We sort the list using the sort() method.\n",
    "- **4.Converting Back to a Tuple:** Finally, we convert the sorted list back to a tuple sorted_tuple.\n",
    "- **Printing the Sorted Tuple:** The output shows the sorted elements of the original tuple"
   ]
  },
  {
   "cell_type": "code",
   "execution_count": 267,
   "id": "af144cce-f49d-4cc4-bd15-f123e15285aa",
   "metadata": {},
   "outputs": [
    {
     "name": "stdout",
     "output_type": "stream",
     "text": [
      "(5, 2, 9, 1, 5, 6)\n"
     ]
    }
   ],
   "source": [
    "# Creating a tuple with numbers\n",
    "my_tuple = (5, 2, 9, 1, 5, 6)\n",
    "print(my_tuple)"
   ]
  },
  {
   "cell_type": "code",
   "execution_count": 269,
   "id": "c53c16ac-4fe6-45f1-ba7b-c8e0c972a77e",
   "metadata": {},
   "outputs": [
    {
     "name": "stdout",
     "output_type": "stream",
     "text": [
      "[5, 2, 9, 1, 5, 6]\n"
     ]
    }
   ],
   "source": [
    "# Converting the tuple to a list\n",
    "my_list = list(my_tuple)\n",
    "print(my_list)"
   ]
  },
  {
   "cell_type": "code",
   "execution_count": 271,
   "id": "6f90a06a-9403-49b0-bfc3-3094cd0b1a32",
   "metadata": {},
   "outputs": [
    {
     "name": "stdout",
     "output_type": "stream",
     "text": [
      "[1, 2, 5, 5, 6, 9]\n"
     ]
    }
   ],
   "source": [
    "# Sorting the list\n",
    "my_list.sort()\n",
    "print(my_list)"
   ]
  },
  {
   "cell_type": "code",
   "execution_count": 273,
   "id": "690c5b10-25cf-40a4-a865-e369304f9f17",
   "metadata": {},
   "outputs": [
    {
     "name": "stdout",
     "output_type": "stream",
     "text": [
      "Sorted tuple as :  (1, 2, 5, 5, 6, 9)\n"
     ]
    }
   ],
   "source": [
    "# Converting the sorted list back to a tuple\n",
    "sorted_tuple = tuple(my_list)\n",
    "\n",
    "# Printing the sorted tuple\n",
    "print(\"Sorted tuple as : \",(sorted_tuple))  # Output: (1, 2, 5, 5, 6, 9)"
   ]
  },
  {
   "cell_type": "markdown",
   "id": "323e302e-82ee-477a-b61c-9eacf4008030",
   "metadata": {},
   "source": [
    "**Note:**\n",
    "\n",
    "If you want to sort a tuple without converting it back, you can use the **sorted() function**, which **returns a sorted list**:"
   ]
  },
  {
   "cell_type": "code",
   "execution_count": 276,
   "id": "8bdd49af-83e5-4108-9d7a-d2fa24c2b322",
   "metadata": {},
   "outputs": [
    {
     "name": "stdout",
     "output_type": "stream",
     "text": [
      "[1, 2, 5, 5, 6, 9]\n"
     ]
    }
   ],
   "source": [
    "# Using the sorted() function to sort the tuple\n",
    "sorted_list = sorted(my_tuple)\n",
    "\n",
    "# Printing the sorted list\n",
    "print(sorted_list)  # Output: [1, 2, 5, 5, 6, 9]"
   ]
  },
  {
   "cell_type": "markdown",
   "id": "b1f984b8-4b95-41b4-ba5b-28965ae004db",
   "metadata": {},
   "source": [
    "***"
   ]
  },
  {
   "cell_type": "markdown",
   "id": "65d1eede-f049-457f-8ef5-f69be16b1568",
   "metadata": {},
   "source": [
    "**Modify a Tuple:**\n",
    "\n",
    "Since tuples are immutable, you cannot directly modify an item within a tuple. However, you can achieve a similar effect by converting the tuple to a list, making the desired modifications, and then converting it back to a tuple. \n",
    "\n",
    "Here’s an example:"
   ]
  },
  {
   "cell_type": "code",
   "execution_count": 280,
   "id": "f01b2bbe-b40c-4492-b0b2-5d6ad87170cc",
   "metadata": {},
   "outputs": [
    {
     "name": "stdout",
     "output_type": "stream",
     "text": [
      "(1, 2, 10, 4, 5)\n"
     ]
    }
   ],
   "source": [
    "# Creating a tuple\n",
    "my_tuple = (1, 2, 3, 4, 5)\n",
    "\n",
    "# Converting the tuple to a list\n",
    "my_list = list(my_tuple)\n",
    "\n",
    "# Modifying an item in the list\n",
    "my_list[2] = 10  # Changing the third element from 3 to 10\n",
    "\n",
    "# Converting the list back to a tuple\n",
    "modified_tuple = tuple(my_list)\n",
    "\n",
    "# Printing the modified tuple\n",
    "print(modified_tuple)  # Output: (1, 2, 10, 4, 5)"
   ]
  },
  {
   "cell_type": "markdown",
   "id": "22b1e7ae-cabc-42dc-9e1c-31006fc2ebf8",
   "metadata": {},
   "source": [
    "**Explaination :**"
   ]
  },
  {
   "cell_type": "markdown",
   "id": "29a7734c-6337-4f3e-b82f-f6ca36438a83",
   "metadata": {},
   "source": [
    "**1.Creating a Tuple:** We start with a tuple my_tuple containing numbers.\n",
    "\n",
    "**2.Converting to a List:** Since tuples are immutable, we convert it to a list my_list to allow modifications.\n",
    "\n",
    "**3.Modifying an Item:** We modify the third element of the list (index 2) to the new value 10.\n",
    "\n",
    "**4.Converting Back to a Tuple:** We convert the modified list back to a tuple modified_tuple.\n",
    "\n",
    "**5.Printing the Modified Tuple:** The output shows the tuple with the modified element."
   ]
  },
  {
   "cell_type": "code",
   "execution_count": null,
   "id": "1d1d7960-2c61-4e53-ad79-88822196078e",
   "metadata": {},
   "outputs": [],
   "source": []
  },
  {
   "cell_type": "code",
   "execution_count": null,
   "id": "be05f6ac-ec2d-4986-a8da-73f8a55d3bac",
   "metadata": {},
   "outputs": [],
   "source": []
  }
 ],
 "metadata": {
  "kernelspec": {
   "display_name": "Python 3 (ipykernel)",
   "language": "python",
   "name": "python3"
  },
  "language_info": {
   "codemirror_mode": {
    "name": "ipython",
    "version": 3
   },
   "file_extension": ".py",
   "mimetype": "text/x-python",
   "name": "python",
   "nbconvert_exporter": "python",
   "pygments_lexer": "ipython3",
   "version": "3.11.7"
  }
 },
 "nbformat": 4,
 "nbformat_minor": 5
}
