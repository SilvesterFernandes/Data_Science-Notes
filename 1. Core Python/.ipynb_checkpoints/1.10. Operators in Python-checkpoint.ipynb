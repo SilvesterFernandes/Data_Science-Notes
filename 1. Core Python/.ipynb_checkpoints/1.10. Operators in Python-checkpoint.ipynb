{
 "cells": [
  {
   "cell_type": "markdown",
   "id": "c3378fd7-e8a3-46b4-b0c6-149ce98bd48d",
   "metadata": {},
   "source": [
    "***"
   ]
  },
  {
   "cell_type": "markdown",
   "id": "4954fd02-1b6b-4e4d-aa08-184a3d48be86",
   "metadata": {},
   "source": [
    "\n",
    "\n",
    "<h1 style=\"color:#0079D9; font-weight: bold;\">1.10 Operators in Python</h1>\n",
    "\n",
    "\n"
   ]
  },
  {
   "cell_type": "markdown",
   "id": "55d02e98-d505-4bb1-96d4-d34db1ebe12e",
   "metadata": {},
   "source": [
    "***"
   ]
  },
  {
   "cell_type": "markdown",
   "id": "fa5f788d-090d-42ed-8784-4d5e9794e592",
   "metadata": {},
   "source": [
    "<h3 style=\"color:#3D3297; font-weight: bold;\">Introduction :</h3> \n",
    "\n",
    "- In Python, operators are special symbols used to perform operations on variables and values. They are fundamental building blocks in programming, allowing you to manipulate data and control the flow of your programs. Operators can be categorized into several types, each serving a specific purpose.\n",
    "\n",
    "\n",
    "***\n",
    "<h4 style=\"color:#FF5733; font-weight: bold;\">Categories of Operators</h4>\n",
    "\n",
    "<h5 style=\"color:#0079D9\">1.Arithmetic Operators:</h5>\n",
    "<p>Perform mathematical operations such as addition, subtraction, multiplication, and division.</p>\n",
    "\n",
    "<h5 style=\"color:#0079D9\">2.Comparison Operators:</h5>\n",
    "<p>Compare two values and return a Boolean result (True or False). These operators are used to evaluate conditions.</p>\n",
    "\n",
    "<h5 style=\"color:#0079D9\">3.Logical Operators:</h5>\n",
    "<p>Combine Boolean values or expressions, enabling complex conditional checks.</p>\n",
    "\n",
    "<h5 style=\"color:#0079D9\">4.Assignment Operators:</h5>\n",
    "<p>Assign values to variables and can also perform operations on the assigned value.</p>\n",
    "\n",
    "<h5 style=\"color:#0079D9\">5.Bitwise Operators:</h5>\n",
    "<p>Perform operations on binary representations of integers, such as bitwise AND, OR, and XOR.</p>\n",
    "\n",
    "<h5 style=\"color:#0079D9\">6.Membership Operators:</h5>\n",
    "<p>Test for membership in sequences (like lists, tuples, or strings) to check if a value exists within a sequence.</p>\n",
    "\n",
    "<h5 style=\"color:#0079D9\">7.Identity Operators:</h5>\n",
    "<p>Compare the memory locations of two objects to determine if they are the same object in memory.</p>\n"
   ]
  },
  {
   "cell_type": "markdown",
   "id": "1dc38487-411b-4442-9841-3bec1b9f6bd0",
   "metadata": {},
   "source": [
    "***"
   ]
  },
  {
   "cell_type": "markdown",
   "id": "c48449b9-19a8-42dc-ae78-961e564d75cb",
   "metadata": {},
   "source": [
    "\n"
   ]
  },
  {
   "cell_type": "markdown",
   "id": "ac344a42-86f4-4afe-a9ba-ed7829e4f914",
   "metadata": {},
   "source": [
    "<h3 style=\"color:#0079D9; font-weight:bold\">1. Arithmetic Operators:</h3>\n",
    "<p>Arithmetic operators are used to perform mathematical operations on numerical values. They are essential for performing calculations and manipulating data in various mathematical contexts. Here are the main arithmetic operators in Python:</p>\n",
    "\n",
    "\n",
    "| Operator | Description           | Example          |\n",
    "|:--------:|:---------------------:|:----------------:|\n",
    "| **+**      | Addition              | x + y          |\n",
    "| **-**      | Subtraction           | x - y          |\n",
    "| *      | Multiplication        | x * y          |\n",
    "| **/**      | Division              | x / y         |\n",
    "| **%**      | Modulus (remainder)   | x % y          |\n",
    "| **     | Exponentiation        | x ** y        |\n",
    "|**//**     | Floor Division        | x // y         |\n",
    "\n",
    "<ul>\n",
    "  <li><strong>Addition ( + )</strong>: Adds two values. For example, <code>5 + 3</code> results in <code>8</code>.</li>\n",
    "    \n",
    "  <li><strong>Subtraction ( - )</strong>: Subtracts one value from another. For example, <code>5 - 3</code> results in <code>2</code>.</li>\n",
    "  \n",
    "  <li><strong>Multiplication ( * )</strong>: Multiplies two values. For example, <code>5 * 3</code> results in <code>15</code>.</li>\n",
    "  \n",
    "  <li><strong>Division ( / )</strong>: Divides one value by another. This operator always returns a float. For example, <code>5 / 3</code> results in <code>1.6666666666666667</code>.</li>\n",
    "  \n",
    "  <li><strong>Floor Division ( // )</strong>: |Divides one value by another and rounds down to the nearest integer. For example, <code>5 // 3</code> \n",
    "results in <code>1</code>.</li>\n",
    "\n",
    "  <li><strong>Modulus ( % )</strong>: Returns the remainder of the division. For example, <code>5 % 3</code> results in <code>2</code>.</li>\n",
    "  \n",
    "  <li><strong>Exponentiation ( ** )</strong>: Raises one value to the power of another. For example, <code>5 ** 3</code> results in <code>125</code>.</li>\n",
    "</ul>\n",
    "\n",
    "***\n",
    "\n",
    "\n",
    "<h5 style=\"color:#CD5C5C; font-weight:bold\">Arithmetic Operators Precedence:</h5>\r\n",
    "\r\n",
    "1. **Parentheses (`()`)** - Highest precedence.\r\n",
    "2. **Exponentiation (`**`)** - Next highest precedence.\r\n",
    "3. **Unary plus and minus (`+x`, `-x`)** - After exponentiation.\r\n",
    "4. **Multiplication (`*`), Division (`/`), Floor Division (`//`), and Modulus (`%`)** - Same precedence, evaluated left to right.\r\n",
    "5. **Addition (`+`) and Subtraction (`-`)** - Lowest precedence, evaluated left to right.\r\n",
    "\r\n",
    "This order determines how Python evaluates expressions with multiple arithmetic operators.\r\n"
   ]
  },
  {
   "cell_type": "markdown",
   "id": "31500c4e-6007-47b5-970c-1aea75e8b1ad",
   "metadata": {},
   "source": [
    "**Examples :**"
   ]
  },
  {
   "cell_type": "markdown",
   "id": "746e8f08-41ff-4bfa-b9a8-08a453dfa4f6",
   "metadata": {},
   "source": [
    "**i) Addition ( + ) :**"
   ]
  },
  {
   "cell_type": "code",
   "execution_count": 11,
   "id": "b487b47e-efef-4f83-aaa6-92c32d4c9c98",
   "metadata": {},
   "outputs": [
    {
     "data": {
      "text/plain": [
       "15"
      ]
     },
     "execution_count": 11,
     "metadata": {},
     "output_type": "execute_result"
    }
   ],
   "source": [
    "10+5"
   ]
  },
  {
   "cell_type": "markdown",
   "id": "4749d780-91ca-4110-b67a-73583040bff0",
   "metadata": {},
   "source": [
    "**ii) Substraction ( - ) :**"
   ]
  },
  {
   "cell_type": "code",
   "execution_count": 13,
   "id": "d0962cf9-91b8-414c-b09b-201b6af39107",
   "metadata": {},
   "outputs": [
    {
     "data": {
      "text/plain": [
       "10"
      ]
     },
     "execution_count": 13,
     "metadata": {},
     "output_type": "execute_result"
    }
   ],
   "source": [
    "20-10"
   ]
  },
  {
   "cell_type": "markdown",
   "id": "6cbb4d74-3b2e-4db8-a11c-ef84a3457967",
   "metadata": {},
   "source": [
    "**iii) Multiplication ( * ) :**"
   ]
  },
  {
   "cell_type": "code",
   "execution_count": 15,
   "id": "d6aa0b31-0eb1-41eb-8663-809ba9620e87",
   "metadata": {},
   "outputs": [
    {
     "data": {
      "text/plain": [
       "100"
      ]
     },
     "execution_count": 15,
     "metadata": {},
     "output_type": "execute_result"
    }
   ],
   "source": [
    "25*4"
   ]
  },
  {
   "cell_type": "markdown",
   "id": "fd436163-b2f1-4564-90e5-45d3c4733d1f",
   "metadata": {},
   "source": [
    "**iv) Division ( / ):**\n",
    "\n",
    "Always Give a output as a float."
   ]
  },
  {
   "cell_type": "code",
   "execution_count": 17,
   "id": "503af663-e89f-4200-9ce9-62dea64a91b0",
   "metadata": {},
   "outputs": [
    {
     "name": "stdout",
     "output_type": "stream",
     "text": [
      "2.5\n",
      "4.0\n"
     ]
    }
   ],
   "source": [
    "a=5/2\n",
    "print(a)\n",
    "b= 8/2\n",
    "print(b)"
   ]
  },
  {
   "cell_type": "markdown",
   "id": "80554da8-41ab-4d17-a0b1-5674ec5a927d",
   "metadata": {},
   "source": [
    "**v) Floor Division ( // ):**\n",
    "\n",
    "Computes only Quotient"
   ]
  },
  {
   "cell_type": "code",
   "execution_count": 19,
   "id": "83a651fd-22a8-400e-905b-ba2ded242a5c",
   "metadata": {},
   "outputs": [
    {
     "data": {
      "text/plain": [
       "4"
      ]
     },
     "execution_count": 19,
     "metadata": {},
     "output_type": "execute_result"
    }
   ],
   "source": [
    "22//5"
   ]
  },
  {
   "cell_type": "markdown",
   "id": "5d6125c7-abbc-41b5-9e98-dcbf735bfa3b",
   "metadata": {},
   "source": [
    "**vi) Modulus ( % ) :**\n",
    "\n",
    "Computes only remainder"
   ]
  },
  {
   "cell_type": "code",
   "execution_count": 21,
   "id": "95f97fb3-b4fd-4481-b892-e647d1b64d75",
   "metadata": {},
   "outputs": [
    {
     "data": {
      "text/plain": [
       "1"
      ]
     },
     "execution_count": 21,
     "metadata": {},
     "output_type": "execute_result"
    }
   ],
   "source": [
    "26 % 5"
   ]
  },
  {
   "cell_type": "markdown",
   "id": "50b31d6b-5352-4467-9d90-ea67c0fe2340",
   "metadata": {},
   "source": [
    "**vii) Exponent ( ** ) :**\n",
    "\n",
    "Calculates the Power"
   ]
  },
  {
   "cell_type": "code",
   "execution_count": 23,
   "id": "ce1e29cc-01e5-4577-b320-51c9e99f45a6",
   "metadata": {},
   "outputs": [
    {
     "data": {
      "text/plain": [
       "100"
      ]
     },
     "execution_count": 23,
     "metadata": {},
     "output_type": "execute_result"
    }
   ],
   "source": [
    " 10 ** 2"
   ]
  },
  {
   "cell_type": "code",
   "execution_count": 54,
   "id": "fc7b3bae-651b-4d83-bafa-820130702545",
   "metadata": {},
   "outputs": [
    {
     "data": {
      "text/plain": [
       "1000"
      ]
     },
     "execution_count": 54,
     "metadata": {},
     "output_type": "execute_result"
    }
   ],
   "source": [
    "10 ** 3"
   ]
  },
  {
   "cell_type": "markdown",
   "id": "93682bef-a950-40c1-84d1-29ced52b70ff",
   "metadata": {},
   "source": [
    "<h5 style=\"color:#615BAE; font-weight:bold\"> Example of Arithmatic Operator Precendence :</h5>"
   ]
  },
  {
   "cell_type": "markdown",
   "id": "5f0804b1-068c-4ede-98b6-9c83ea0dd813",
   "metadata": {},
   "source": [
    "\n",
    "**Consider the following expression:**\n",
    "\n",
    "**8 / 2 * (2 + 2) - 3 ** 2 + 1**"
   ]
  },
  {
   "cell_type": "markdown",
   "id": "32842852-3240-4d7f-84e4-c5e167194a20",
   "metadata": {},
   "source": [
    "Let's break it down step by step according to the operator precedence:"
   ]
  },
  {
   "cell_type": "markdown",
   "id": "40bb7360-3801-4996-bbc3-e0e634354993",
   "metadata": {},
   "source": [
    "**i) Parentheses**: \n",
    "\n",
    "Perform operations inside parentheses first.\n",
    " \n",
    "   \\[ (2 + 2) = 4 \\]"
   ]
  },
  {
   "cell_type": "markdown",
   "id": "5bd6c970-035d-44ac-9537-a4531aa93ef6",
   "metadata": {},
   "source": [
    "\n",
    "Now,\n",
    "\n",
    "8/2*4-3**2+1"
   ]
  },
  {
   "cell_type": "markdown",
   "id": "2aaf77ac-0cdd-415c-8b5c-ac5b5f2cdbb9",
   "metadata": {},
   "source": [
    "**ii) Exponentiation**: \n",
    "\n",
    "Compute the exponentiation next.\n",
    "   \n",
    "   \\[ 3 ** 2 = 9 \\]"
   ]
  },
  {
   "cell_type": "markdown",
   "id": "0882eb15-68f9-4d21-b269-0fe8218cbbeb",
   "metadata": {},
   "source": [
    "Now,\n",
    "\n",
    "8/2*4-9+1"
   ]
  },
  {
   "cell_type": "markdown",
   "id": "67e9e87f-4d1f-41a1-83a5-db1c29a31e0b",
   "metadata": {},
   "source": [
    "**iii) Multiplication and Division**: \n",
    "\n",
    "Perform multiplication and division from left to right.\n",
    "   \n",
    "   \\[ 8 / 2 = 4 \\]\n",
    "  \n",
    "   \\[ 4 * 4 = 16 \\]"
   ]
  },
  {
   "cell_type": "markdown",
   "id": "06271b25-4006-4e8b-8da8-844b6ce12fcd",
   "metadata": {},
   "source": [
    "4*4-9+1\n",
    "\n",
    "Now,\n",
    "\n",
    "16-9+1\n"
   ]
  },
  {
   "cell_type": "markdown",
   "id": "5d6e080f-e776-4f45-be4d-e1f6ef36551c",
   "metadata": {},
   "source": [
    "**iv) Addition and Subtraction**: \n",
    "\n",
    "Finally, perform addition and subtraction from left to right.\n",
    "  \n",
    "   \\[ 16 - 9 = 7 \\]\n",
    "   \n",
    "   \\[ 7 + 1 = 8 \\]\n"
   ]
  },
  {
   "cell_type": "code",
   "execution_count": 34,
   "id": "32d28fba-a3e3-4c75-9eca-d530557a10d6",
   "metadata": {},
   "outputs": [
    {
     "data": {
      "text/plain": [
       "8.0"
      ]
     },
     "execution_count": 34,
     "metadata": {},
     "output_type": "execute_result"
    }
   ],
   "source": [
    "8 / 2 * (2 + 2) - 3 ** 2 + 1"
   ]
  },
  {
   "cell_type": "markdown",
   "id": "2e005b59-a3a7-4793-80ab-6c927727a34c",
   "metadata": {},
   "source": [
    "So, the result of the expression \\( 8 / 2 * (2 + 2) - 3 ** 2 + 1 \\) is **8**."
   ]
  },
  {
   "cell_type": "markdown",
   "id": "abef87a9-3cee-4b79-bbfb-b0fb952ebc3f",
   "metadata": {},
   "source": [
    "_______________________________________"
   ]
  },
  {
   "cell_type": "markdown",
   "id": "c87de622-5b51-4e7e-9816-f84a488317fd",
   "metadata": {},
   "source": [
    "**Note: When we use Arithmatic operators the Bolean values automatically converts to int.**\n",
    "\n",
    "- In Python, when you use arithmetic operators with boolean values, True is automatically converted to 1 and False is converted to 0. This implicit conversion allows you to perform arithmetic operations with boolean values."
   ]
  },
  {
   "cell_type": "code",
   "execution_count": 38,
   "id": "0fd70209-c78a-400f-97d7-6b83667ed837",
   "metadata": {},
   "outputs": [
    {
     "name": "stdout",
     "output_type": "stream",
     "text": [
      "1\n"
     ]
    }
   ],
   "source": [
    "# Addition with boolean values\n",
    "result = True + False  # True is 1, False is 0\n",
    "print(result)  # Output: 1"
   ]
  },
  {
   "cell_type": "code",
   "execution_count": 39,
   "id": "5089b21a-217d-4fad-abce-7687426ffd12",
   "metadata": {},
   "outputs": [
    {
     "name": "stdout",
     "output_type": "stream",
     "text": [
      "0\n"
     ]
    }
   ],
   "source": [
    "# Multiplication with boolean values\n",
    "result = True * False  # True is 1, False is 0\n",
    "print(result)  # Output: 0"
   ]
  },
  {
   "cell_type": "code",
   "execution_count": 40,
   "id": "4874a550-d12f-4488-a9fb-8939a2a4b4cc",
   "metadata": {},
   "outputs": [
    {
     "name": "stdout",
     "output_type": "stream",
     "text": [
      "1\n"
     ]
    }
   ],
   "source": [
    "# Subtraction with boolean values\n",
    "result = True - False  # True is 1, False is 0\n",
    "print(result)  # Output: 1"
   ]
  },
  {
   "cell_type": "code",
   "execution_count": 41,
   "id": "3c58a6fd-25b8-4842-863b-fb6c937efe01",
   "metadata": {},
   "outputs": [
    {
     "name": "stdout",
     "output_type": "stream",
     "text": [
      "5\n"
     ]
    }
   ],
   "source": [
    "# Multiplying True by an integer\n",
    "result = True * 5  # True is 1, so 1 * 5 = 5\n",
    "print(result)  # Output: 5"
   ]
  },
  {
   "cell_type": "code",
   "execution_count": 42,
   "id": "3e0c1272-67a9-4dda-82c8-f3e66f98ba5d",
   "metadata": {},
   "outputs": [
    {
     "ename": "ZeroDivisionError",
     "evalue": "division by zero",
     "output_type": "error",
     "traceback": [
      "\u001b[1;31m---------------------------------------------------------------------------\u001b[0m",
      "\u001b[1;31mZeroDivisionError\u001b[0m                         Traceback (most recent call last)",
      "Cell \u001b[1;32mIn[42], line 2\u001b[0m\n\u001b[0;32m      1\u001b[0m \u001b[38;5;66;03m# Division with boolean values\u001b[39;00m\n\u001b[1;32m----> 2\u001b[0m result \u001b[38;5;241m=\u001b[39m \u001b[38;5;28;01mTrue\u001b[39;00m \u001b[38;5;241m/\u001b[39m \u001b[38;5;28;01mFalse\u001b[39;00m\n",
      "\u001b[1;31mZeroDivisionError\u001b[0m: division by zero"
     ]
    }
   ],
   "source": [
    "# Division with boolean values\n",
    "result = True / False  # Division by zero will raise an error\n",
    "# Output: ZeroDivisionError: division by zero"
   ]
  },
  {
   "cell_type": "markdown",
   "id": "4fe4d5e3-d827-4aee-90da-4653d86dae27",
   "metadata": {},
   "source": [
    "**Important note:**\n",
    "When performing division where the denominator is False, you'll get a ZeroDivisionError because False is treated as 0."
   ]
  },
  {
   "cell_type": "code",
   "execution_count": 52,
   "id": "5d5578fb-074a-4cf2-9a67-b90cd1ab7009",
   "metadata": {},
   "outputs": [
    {
     "name": "stdout",
     "output_type": "stream",
     "text": [
      "6\n"
     ]
    }
   ],
   "source": [
    "# Adding booleans to integers\n",
    "result = 5 + True  # 5 + 1 = 6\n",
    "print(result)  # Output: 6"
   ]
  },
  {
   "cell_type": "code",
   "execution_count": 50,
   "id": "ff648527-2782-4219-be15-142b202a1562",
   "metadata": {},
   "outputs": [
    {
     "name": "stdout",
     "output_type": "stream",
     "text": [
      "10\n"
     ]
    }
   ],
   "source": [
    "result = 10 - False  # 10 - 0 = 10\n",
    "print(result)  # Output: 10"
   ]
  },
  {
   "cell_type": "markdown",
   "id": "185130ee-6fce-41a4-bc02-06346fdba2ed",
   "metadata": {},
   "source": [
    "__________________________"
   ]
  },
  {
   "cell_type": "markdown",
   "id": "69170dd2-38c1-4c40-8199-def355f604e8",
   "metadata": {},
   "source": [
    "<h3 style=\"color:#0079D9; font-weight:bold\">2. Comparison Operators:</h3>\n",
    "\n",
    "**Compare two values and return a Boolean result (True or False). These operators are used to evaluate conditions**\n",
    "\n",
    "- Comparison operators are used to compare two values and return a boolean value (`True` or `False`). They are essential for controlling the flow of programs and making decisions based on conditions. Here are the main comparison operators in Python:\n",
    "\n",
    "| Operator | Description           | Example        |\n",
    "|:--------:|:---------------------:|:--------------:|\n",
    "| `==`     | Equal to              | `x == y`       |\n",
    "| `!=`     | Not equal to          | `x != y`       |\n",
    "| `>`      | Greater than          | `x > y`        |\n",
    "| `<`      | Less than             | `x < y`        |\n",
    "| `>=`     | Greater than or equal to | `x >= y` |\n",
    "| `<=`     | Less than or equal to    | `x <= y` |\n",
    "\n",
    "- **Equal to ( == )**: Compares two values and returns `True` if they are equal, otherwise `False`.\n",
    "    ```python\n",
    "    5 == 5  # Output: True\n",
    "    ```\n",
    "\n",
    "- **Not equal to ( != )**: Compares two values and returns `True` if they are not equal, otherwise `False`.\n",
    "    ```python\n",
    "    5 != 3  # Output: True\n",
    "    ```\n",
    "\n",
    "- **Greater than ( > )**: Compares two values and returns `True` if the first value is greater than the second, otherwise `False`.\n",
    "    ```python\n",
    "    5 > 3  # Output: True\n",
    "    ```\n",
    "\n",
    "- **Less than ( < )**: Compares two values and returns `True` if the first value is less than the second, otherwise `False`.\n",
    "    ```python\n",
    "    5 < 3  # Output: False\n",
    "    ```\n",
    "\n",
    "- **Greater than or equal to ( >= )**: Compares two values and returns `True` if the first value is greater than or equal to the second, otherwise `False`.\n",
    "    ```python\n",
    "    5 >= 3  # Output: True\n",
    "    ```|\n",
    "\n",
    "- **Less than or equal to ( <= )**: Compares two values and returns `True` if the first value is less than or equal to the second, otherwise `False`.\n",
    "    ```python\n",
    "    5 <= 3  # Output: False\n",
    "    ```\n",
    "\n",
    "---\n",
    "\n",
    "<h5 style=\"color:#CD5C5C; font-weight:bold\">Comaprison Operators Precedence:</h5>\n",
    "\n",
    "\n",
    "1. **Parentheses (`()`)** - Highest precedence.\n",
    "2. **Unary plus and minus (`+x`, `-x`)** - After parentheses.\n",
    "3. **Greater than (`>`), Less than (`<`), Greater than or equal to (`>=`), Less than or equal to (`<=`)** - Same precedence, evaluated left to right.\n",
    "4. **Equal to (`==`), Not equal to (`!=`)** - Same precedence, evaluated after the previous group.\n",
    "\n",
    "This precedence order is used to evaluate expressions with multiple comparison operators. \n"
   ]
  },
  {
   "cell_type": "markdown",
   "id": "68426fdd-270b-4866-97cd-b1e4546dad93",
   "metadata": {},
   "source": [
    "__________"
   ]
  },
  {
   "cell_type": "markdown",
   "id": "614fa00c-5e09-400f-b559-45dfa750de55",
   "metadata": {},
   "source": [
    "### **i) Equal to ( == ) :**\n",
    "\n",
    "- The **(Equal to ==)** operator is used to compare two values.\n",
    "- It returns `True` if the values on both sides of the operator are equal, otherwise `False` "
   ]
  },
  {
   "cell_type": "markdown",
   "id": "6f0de3c1-151d-48af-9c82-cb5789e40855",
   "metadata": {},
   "source": [
    "**int:**"
   ]
  },
  {
   "cell_type": "code",
   "execution_count": 184,
   "id": "0e0e8ce9-32ce-478f-b9f6-57ef3da824f7",
   "metadata": {},
   "outputs": [
    {
     "name": "stdout",
     "output_type": "stream",
     "text": [
      "Equal Integer comparison result: True\n",
      "Unequal Integer comparison result: False\n"
     ]
    }
   ],
   "source": [
    "# Comparing two equal integers\n",
    "result_int_equal = 5 == 5  # Output: True\n",
    "# Comparing two unequal integers\n",
    "result_int_unequal = 5 == 10  # Output: False\n",
    "\n",
    "print(\"Equal Integer comparison result:\", result_int_equal)   # Output: True\n",
    "print(\"Unequal Integer comparison result:\", result_int_unequal)  # Output: False"
   ]
  },
  {
   "cell_type": "markdown",
   "id": "cc26a1a2-9a18-4301-a017-41098215bf4e",
   "metadata": {},
   "source": [
    "**float:**"
   ]
  },
  {
   "cell_type": "code",
   "execution_count": 186,
   "id": "5df3968f-0dd5-4162-acf0-9521e55e46c1",
   "metadata": {},
   "outputs": [
    {
     "name": "stdout",
     "output_type": "stream",
     "text": [
      "Equal Float comparison result: True\n",
      "Unequal Float comparison result: False\n"
     ]
    }
   ],
   "source": [
    "# Comparing two equal floats\n",
    "result_float_equal = 45.0 == 45.00  # Output: True\n",
    "# Comparing two unequal floats\n",
    "result_float_unequal = 3.14 == 2.71  # Output: False\n",
    "\n",
    "print(\"Equal Float comparison result:\", result_float_equal)     # Output: True\n",
    "print(\"Unequal Float comparison result:\", result_float_unequal)   # Output: False"
   ]
  },
  {
   "cell_type": "markdown",
   "id": "0379e574-dc23-40b1-bebc-7ef05c86ead8",
   "metadata": {},
   "source": [
    "**strings:**"
   ]
  },
  {
   "cell_type": "code",
   "execution_count": 188,
   "id": "f2922b12-5ce5-4793-abf6-a2fe2a31a10c",
   "metadata": {},
   "outputs": [
    {
     "name": "stdout",
     "output_type": "stream",
     "text": [
      "Equal String comparison result: True\n",
      "Unequal String comparison result: False\n"
     ]
    }
   ],
   "source": [
    "# Comparing two equal strings\n",
    "result_str_equal = \"hello\" == \"hello\"  # Output: True\n",
    "# Comparing two unequal strings\n",
    "result_str_unequal = \"hello\" == \"world\"  # Output: False\n",
    "\n",
    "print(\"Equal String comparison result:\", result_str_equal)     # Output: True\n",
    "print(\"Unequal String comparison result:\", result_str_unequal)   # Output: False"
   ]
  },
  {
   "cell_type": "markdown",
   "id": "fc6b4679-f30e-4ccf-905c-1782c9ae88d5",
   "metadata": {},
   "source": [
    "**boolean:**"
   ]
  },
  {
   "cell_type": "code",
   "execution_count": 190,
   "id": "2886860f-39cb-4f48-adaf-8bbd0165800f",
   "metadata": {},
   "outputs": [
    {
     "name": "stdout",
     "output_type": "stream",
     "text": [
      "Equal Boolean comparison result: True\n",
      "Unequal Boolean comparison result: False\n"
     ]
    }
   ],
   "source": [
    "# Comparing two equal booleans\n",
    "result_bool_equal = True == True  # Output: True\n",
    "# Comparing two unequal booleans\n",
    "result_bool_unequal = True == False  # Output: False\n",
    "\n",
    "print(\"Equal Boolean comparison result:\", result_bool_equal)   # Output: True\n",
    "print(\"Unequal Boolean comparison result:\", result_bool_unequal)  # Output: False"
   ]
  },
  {
   "cell_type": "markdown",
   "id": "42bf9fa1-3e37-4b87-b378-1f56f094e97d",
   "metadata": {},
   "source": [
    "**list:**"
   ]
  },
  {
   "cell_type": "code",
   "execution_count": 192,
   "id": "a8b92f12-f936-4f19-85fb-911ac9c423ca",
   "metadata": {},
   "outputs": [
    {
     "name": "stdout",
     "output_type": "stream",
     "text": [
      "Equal List comparison result: True\n",
      "Unequal List comparison result: False\n"
     ]
    }
   ],
   "source": [
    "# Comparing two equal lists\n",
    "result_list_equal = [1, 2, 3] == [1, 2, 3]  # Output: True\n",
    "# Comparing two unequal lists\n",
    "result_list_unequal = [1, 2, 3] == [1, 2, 4]  # Output: False\n",
    "\n",
    "print(\"Equal List comparison result:\", result_list_equal)      # Output: True\n",
    "print(\"Unequal List comparison result:\", result_list_unequal)    # Output: False"
   ]
  },
  {
   "cell_type": "markdown",
   "id": "3c057780-156c-40fb-bea4-743cfb1d258d",
   "metadata": {},
   "source": [
    "**tuple:**"
   ]
  },
  {
   "cell_type": "code",
   "execution_count": 194,
   "id": "b0bd22e9-0d2e-4ed7-a8a2-11cfa1922664",
   "metadata": {},
   "outputs": [
    {
     "name": "stdout",
     "output_type": "stream",
     "text": [
      "Equal Tuple comparison result: True\n",
      "Unequal Tuple comparison result: False\n"
     ]
    }
   ],
   "source": [
    "# Comparing two equal tuples\n",
    "result_tuple_equal = (1, 2, 3) == (1, 2, 3)  # Output: True\n",
    "# Comparing two unequal tuples\n",
    "result_tuple_unequal = (1, 2, 3) == (3, 2, 1)  # Output: False\n",
    "\n",
    "print(\"Equal Tuple comparison result:\", result_tuple_equal)    # Output: True\n",
    "print(\"Unequal Tuple comparison result:\", result_tuple_unequal)  # Output: False"
   ]
  },
  {
   "cell_type": "markdown",
   "id": "d6444e42-e1c2-43f6-9d04-863804cc26c2",
   "metadata": {},
   "source": [
    "**dictionary:**"
   ]
  },
  {
   "cell_type": "code",
   "execution_count": 196,
   "id": "96d3c91f-7476-45ac-a45f-9bef6fce6d2b",
   "metadata": {},
   "outputs": [
    {
     "name": "stdout",
     "output_type": "stream",
     "text": [
      "Equal Dictionary comparison result: True\n",
      "Unequal Dictionary comparison result: False\n"
     ]
    }
   ],
   "source": [
    "# Comparing two equal dictionaries\n",
    "result_dict_equal = {'a': 1, 'b': 2} == {'a': 1, 'b': 2}  # Output: True\n",
    "# Comparing two unequal dictionaries\n",
    "result_dict_unequal = {'a': 1, 'b': 2} == {'a': 1, 'b': 3}  # Output: False\n",
    "\n",
    "print(\"Equal Dictionary comparison result:\", result_dict_equal) # Output: True\n",
    "print(\"Unequal Dictionary comparison result:\", result_dict_unequal)  # Output: False"
   ]
  },
  {
   "cell_type": "markdown",
   "id": "6acc1fbd-5ace-484e-98a6-2771302fd7e0",
   "metadata": {},
   "source": [
    "**None:**"
   ]
  },
  {
   "cell_type": "code",
   "execution_count": 198,
   "id": "1b6d6eac-b8d9-4d18-a71a-f0dad9cf09db",
   "metadata": {},
   "outputs": [
    {
     "name": "stdout",
     "output_type": "stream",
     "text": [
      "Equal None comparison result: True\n",
      "Unequal None comparison result: False\n"
     ]
    }
   ],
   "source": [
    "# Comparing two None values\n",
    "result_none_equal = None == None  # Output: True\n",
    "# Comparing None with a value\n",
    "result_none_unequal = None == \"value\"  # Output: False\n",
    "\n",
    "print(\"Equal None comparison result:\", result_none_equal)      # Output: True\n",
    "print(\"Unequal None comparison result:\", result_none_unequal)  # Output: False"
   ]
  },
  {
   "cell_type": "markdown",
   "id": "9793bff3-0d57-4e7b-aa29-b8faaaec6821",
   "metadata": {},
   "source": [
    "____________________________________________"
   ]
  },
  {
   "cell_type": "markdown",
   "id": "fc7b7954-9631-44af-b8d2-96dd16fed767",
   "metadata": {},
   "source": [
    "### **ii) Not equal to ( != ) :** \n",
    "- Compares two values and returns `True` if they are not equal, otherwise `False`."
   ]
  },
  {
   "cell_type": "markdown",
   "id": "97321fc0-82f1-435f-881c-777bd58cac33",
   "metadata": {},
   "source": [
    "**int:**"
   ]
  },
  {
   "cell_type": "code",
   "execution_count": 223,
   "id": "59eea74a-702c-4a9f-a576-cf4cc45b5fad",
   "metadata": {},
   "outputs": [
    {
     "name": "stdout",
     "output_type": "stream",
     "text": [
      "Unequal Integer comparison result: True\n",
      "Equal Integer comparison result: False\n"
     ]
    }
   ],
   "source": [
    "# Comparing two unequal and equal integers\n",
    "result_int_unequal = 10 != 5  # True\n",
    "result_int_equal = 10 != 10  # False\n",
    "\n",
    "print(\"Unequal Integer comparison result:\", result_int_unequal)     # True\n",
    "print(\"Equal Integer comparison result:\", result_int_equal)         # False"
   ]
  },
  {
   "cell_type": "markdown",
   "id": "f0aba0c9-f2d6-4ae8-8124-9796fd8be871",
   "metadata": {},
   "source": [
    "**float:**"
   ]
  },
  {
   "cell_type": "code",
   "execution_count": 226,
   "id": "f7c53d19-9f2e-4060-badd-e2fa5a545fff",
   "metadata": {},
   "outputs": [
    {
     "name": "stdout",
     "output_type": "stream",
     "text": [
      "Unequal Float comparison result: True\n",
      "Equal Float comparison result: False\n"
     ]
    }
   ],
   "source": [
    "# Comparing two unequal and equal floats\n",
    "result_float_unequal = 3.14 != 2.71  # True\n",
    "result_float_equal = 3.14 != 3.14  # False\n",
    "\n",
    "print(\"Unequal Float comparison result:\", result_float_unequal)     # True\n",
    "print(\"Equal Float comparison result:\", result_float_equal)         # False"
   ]
  },
  {
   "cell_type": "markdown",
   "id": "fec69d41-89ea-445c-b7de-9b4bfe5ef446",
   "metadata": {},
   "source": [
    "**strings:**"
   ]
  },
  {
   "cell_type": "code",
   "execution_count": 228,
   "id": "8a54461c-aaa0-4adc-9f28-d8d0109f0b7f",
   "metadata": {},
   "outputs": [
    {
     "name": "stdout",
     "output_type": "stream",
     "text": [
      "Unequal String comparison result: True\n",
      "Equal String comparison result: False\n"
     ]
    }
   ],
   "source": [
    "# Comparing two unequal and equal strings\n",
    "result_str_unequal = \"hello\" != \"world\"  # True\n",
    "result_str_equal = \"hello\" != \"hello\"  # False\n",
    "\n",
    "print(\"Unequal String comparison result:\", result_str_unequal)      # True\n",
    "print(\"Equal String comparison result:\", result_str_equal)          # False"
   ]
  },
  {
   "cell_type": "markdown",
   "id": "1f34a026-28d9-4a91-b4f4-e05651c35894",
   "metadata": {},
   "source": [
    "**boolean:**"
   ]
  },
  {
   "cell_type": "code",
   "execution_count": 230,
   "id": "0ac8b36e-eddc-42f6-9b1e-4650b9dad21f",
   "metadata": {},
   "outputs": [
    {
     "name": "stdout",
     "output_type": "stream",
     "text": [
      "Unequal Boolean comparison result: True\n",
      "Equal Boolean comparison result: False\n"
     ]
    }
   ],
   "source": [
    "# Comparing two unequal and equal booleans\n",
    "result_bool_unequal = True != False  # True\n",
    "result_bool_equal = True != True  # False\n",
    "\n",
    "print(\"Unequal Boolean comparison result:\", result_bool_unequal)    # True\n",
    "print(\"Equal Boolean comparison result:\", result_bool_equal)        # False"
   ]
  },
  {
   "cell_type": "markdown",
   "id": "076dba84-901b-480d-b25d-4480966bcc93",
   "metadata": {},
   "source": [
    "**list:**"
   ]
  },
  {
   "cell_type": "code",
   "execution_count": 232,
   "id": "4e0ccf8f-a193-4579-a994-b6a220a4a7c6",
   "metadata": {},
   "outputs": [
    {
     "name": "stdout",
     "output_type": "stream",
     "text": [
      "Unequal List comparison result: True\n",
      "Equal List comparison result: False\n"
     ]
    }
   ],
   "source": [
    "# Comparing two unequal and equal lists\n",
    "result_list_unequal = [1, 2, 3] != [1, 2, 4]  # True\n",
    "result_list_equal = [1, 2, 3] != [1, 2, 3]  # False\n",
    "\n",
    "print(\"Unequal List comparison result:\", result_list_unequal)       # True\n",
    "print(\"Equal List comparison result:\", result_list_equal)           # False"
   ]
  },
  {
   "cell_type": "markdown",
   "id": "3a495661-28c9-48b0-aaad-f87306088c8d",
   "metadata": {},
   "source": [
    "**tuple:**"
   ]
  },
  {
   "cell_type": "code",
   "execution_count": 234,
   "id": "b23da5ef-ddbc-4bd0-9136-b0f947bddd64",
   "metadata": {},
   "outputs": [
    {
     "name": "stdout",
     "output_type": "stream",
     "text": [
      "Unequal Tuple comparison result: True\n",
      "Equal Tuple comparison result: False\n"
     ]
    }
   ],
   "source": [
    "# Comparing two unequal and equal tuples\n",
    "result_tuple_unequal = (1, 2, 3) != (3, 2, 1)  # True\n",
    "result_tuple_equal = (1, 2, 3) != (1, 2, 3)  # False\n",
    "\n",
    "\n",
    "print(\"Unequal Tuple comparison result:\", result_tuple_unequal)     # True\n",
    "print(\"Equal Tuple comparison result:\", result_tuple_equal)         # False"
   ]
  },
  {
   "cell_type": "markdown",
   "id": "84f5ba48-6377-4c0e-89ce-a04449f843e4",
   "metadata": {},
   "source": [
    "**dictionary:**"
   ]
  },
  {
   "cell_type": "code",
   "execution_count": 236,
   "id": "e3e491aa-5cbc-4c81-a94c-43c5080d69a0",
   "metadata": {},
   "outputs": [
    {
     "name": "stdout",
     "output_type": "stream",
     "text": [
      "Unequal Dictionary comparison result: True\n",
      "Equal Dictionary comparison result: False\n"
     ]
    }
   ],
   "source": [
    "# Comparing two unequal and equal dictionaries\n",
    "result_dict_unequal = {'a': 1, 'b': 2} != {'a': 1, 'b': 3}  # True\n",
    "result_dict_equal = {'a': 1, 'b': 2} != {'a': 1, 'b': 2}  # False\n",
    "\n",
    "print(\"Unequal Dictionary comparison result:\", result_dict_unequal) # True\n",
    "print(\"Equal Dictionary comparison result:\", result_dict_equal)     # False"
   ]
  },
  {
   "cell_type": "markdown",
   "id": "26dc1900-7acf-4388-b1ba-7fafa244ed00",
   "metadata": {},
   "source": [
    "**None:**"
   ]
  },
  {
   "cell_type": "code",
   "execution_count": 240,
   "id": "f1543e17-2443-4f37-917d-652f82baa3f4",
   "metadata": {},
   "outputs": [
    {
     "name": "stdout",
     "output_type": "stream",
     "text": [
      "Unequal None comparison result: True\n",
      "Equal None comparison result: False\n"
     ]
    }
   ],
   "source": [
    "# Comparing None with a string and None with None\n",
    "result_none_unequal = None != \"value\"  # True\n",
    "result_none_equal = None != None  # False\n",
    "\n",
    "print(\"Unequal None comparison result:\", result_none_unequal)       # True\n",
    "print(\"Equal None comparison result:\", result_none_equal)           # False"
   ]
  },
  {
   "cell_type": "markdown",
   "id": "ff64a750-e3d7-444e-bb13-b561039c46fa",
   "metadata": {},
   "source": [
    "______________________"
   ]
  },
  {
   "cell_type": "markdown",
   "id": "e959ed7a-d6c4-4df6-af1e-df755cc26645",
   "metadata": {},
   "source": [
    "### **iii) Greater than ( > ) :**\n",
    "- Compares two values and returns `True` if the first value is greater than the second, otherwise `False`"
   ]
  },
  {
   "cell_type": "markdown",
   "id": "275d890b-2d3e-4af7-950d-b801b9fc039f",
   "metadata": {},
   "source": [
    "**int :**"
   ]
  },
  {
   "cell_type": "code",
   "execution_count": 170,
   "id": "b75f4e90-fb5c-4d14-9a21-833ea0487940",
   "metadata": {},
   "outputs": [
    {
     "name": "stdout",
     "output_type": "stream",
     "text": [
      "Equal Integer comparison result: False\n",
      "Unequal Integer comparison result: True\n"
     ]
    }
   ],
   "source": [
    "# Comparing two equal integers\n",
    "result_int_equal = 5 > 5  # False\n",
    "# Comparing two unequal integers\n",
    "result_int_unequal = 10 > 5  # True\n",
    "\n",
    "print(\"Equal Integer comparison result:\", result_int_equal)     # False\n",
    "print(\"Unequal Integer comparison result:\", result_int_unequal)     # True"
   ]
  },
  {
   "cell_type": "markdown",
   "id": "776b90c1-887c-4e42-a214-75f08184db25",
   "metadata": {},
   "source": [
    "**float :**"
   ]
  },
  {
   "cell_type": "code",
   "execution_count": 173,
   "id": "e7059f2c-ed25-4ed9-8f9a-b7ae0c09a978",
   "metadata": {},
   "outputs": [
    {
     "name": "stdout",
     "output_type": "stream",
     "text": [
      "Equal Float comparison result: False\n",
      "Unequal Float comparison result: True\n"
     ]
    }
   ],
   "source": [
    "# Comparing two equal floats\n",
    "result_float_equal = 3.14 > 3.14  # False\n",
    "\n",
    "# Comparing two unequal floats\n",
    "result_float_unequal = 3.14 > 2.71  # True\n",
    "\n",
    "print(\"Equal Float comparison result:\", result_float_equal)       # False\n",
    "print(\"Unequal Float comparison result:\", result_float_unequal)       # True"
   ]
  },
  {
   "cell_type": "markdown",
   "id": "bce6bc38-3449-4ec9-9cf1-9cc5d81d2cfc",
   "metadata": {},
   "source": [
    "**strings :**"
   ]
  },
  {
   "cell_type": "code",
   "execution_count": 176,
   "id": "e4eb1167-cb86-443b-bb6a-3e2d69a4f3ec",
   "metadata": {},
   "outputs": [
    {
     "name": "stdout",
     "output_type": "stream",
     "text": [
      "Equal String comparison result: False\n",
      "Unequal String comparison result: True\n"
     ]
    }
   ],
   "source": [
    "# Comparing two equal strings\n",
    "result_str_equal = \"apple\" > \"apple\"  # False\n",
    "\n",
    "# Comparing two unequal strings\n",
    "result_str_unequal = \"banana\" > \"apple\"  # True\n",
    "\n",
    "print(\"Equal String comparison result:\", result_str_equal)       # False\n",
    "print(\"Unequal String comparison result:\", result_str_unequal)       # True"
   ]
  },
  {
   "cell_type": "markdown",
   "id": "40733bbe-bd43-4265-a8cc-5900f311246a",
   "metadata": {},
   "source": [
    "**boolean:**"
   ]
  },
  {
   "cell_type": "code",
   "execution_count": 179,
   "id": "117710da-23ee-4c89-afb8-fd52c7771bd5",
   "metadata": {},
   "outputs": [
    {
     "name": "stdout",
     "output_type": "stream",
     "text": [
      "Equal Boolean comparison result: False\n",
      "Unequal Boolean comparison result: True\n"
     ]
    }
   ],
   "source": [
    "# Comparing two equal booleans\n",
    "result_bool_equal = True > True  # False\n",
    "\n",
    "# Comparing two unequal booleans\n",
    "result_bool_unequal = True > False  # True\n",
    "\n",
    "print(\"Equal Boolean comparison result:\", result_bool_equal)     # False\n",
    "print(\"Unequal Boolean comparison result:\", result_bool_unequal)     # True"
   ]
  },
  {
   "cell_type": "markdown",
   "id": "92f42a3a-d849-475a-98a2-e18e6ffde645",
   "metadata": {},
   "source": [
    "**list:**"
   ]
  },
  {
   "cell_type": "code",
   "execution_count": 182,
   "id": "a5ddd848-e056-4765-a8cf-283eca0d9dc1",
   "metadata": {},
   "outputs": [
    {
     "name": "stdout",
     "output_type": "stream",
     "text": [
      "Equal List comparison result: False\n",
      "Unequal List comparison result: True\n"
     ]
    }
   ],
   "source": [
    "# Comparing two equal lists (using lengths for comparison)\n",
    "result_list_equal = len([1, 2, 3]) > len([1, 2, 3])  # False\n",
    "\n",
    "# Comparing two unequal lists (using lengths for comparison)\n",
    "result_list_unequal = len([1, 2, 3]) > len([1, 2])  # True\n",
    "\n",
    "print(\"Equal List comparison result:\", result_list_equal)        # False\n",
    "print(\"Unequal List comparison result:\", result_list_unequal)        # True"
   ]
  },
  {
   "cell_type": "markdown",
   "id": "69b6e2ac-7645-41c8-8d79-12cd59ac76c8",
   "metadata": {},
   "source": [
    "**tuple:**"
   ]
  },
  {
   "cell_type": "code",
   "execution_count": 168,
   "id": "047f42cd-2c83-4a63-ab43-760d09924aba",
   "metadata": {},
   "outputs": [
    {
     "name": "stdout",
     "output_type": "stream",
     "text": [
      "Equal Tuple comparison result: False\n",
      "Unequal Tuple comparison result: False\n"
     ]
    }
   ],
   "source": [
    "# Comparing two equal tuples (using lengths for comparison)\n",
    "result_tuple_equal = len((1, 2)) > len((1, 2))  # False\n",
    "\n",
    "# Comparing two unequal tuples (using lengths for comparison)\n",
    "result_tuple_unequal = len((1, 2)) > len((1, 2, 3))  # False\n",
    "\n",
    "print(\"Equal Tuple comparison result:\", result_tuple_equal)      # False\n",
    "print(\"Unequal Tuple comparison result:\", result_tuple_unequal)      # False"
   ]
  },
  {
   "cell_type": "markdown",
   "id": "84155f98-97fa-4091-854f-9ff288ca8941",
   "metadata": {},
   "source": [
    "_______________________________"
   ]
  },
  {
   "cell_type": "markdown",
   "id": "00eb408d-6db4-4bae-86f4-24c0ac865a86",
   "metadata": {},
   "source": [
    "### **iv) Less than ( < ):** \n",
    "- Compares two values and returns `True` if the first value is less than the second, otherwise `False`"
   ]
  },
  {
   "cell_type": "markdown",
   "id": "b85a75d6-68c8-444c-b7b5-bef7077345bb",
   "metadata": {},
   "source": [
    "**int :**"
   ]
  },
  {
   "cell_type": "code",
   "execution_count": null,
   "id": "3320920c-593f-4bbb-b813-a73705cbd898",
   "metadata": {},
   "outputs": [],
   "source": [
    "# Comparing two integers\n",
    "result_int_less = 3 < 5  # True\n",
    "result_int_not_less = 5 < 3  # False\n",
    "\n",
    "print(\"Less than Integer comparison result:\", result_int_less)     # True\n",
    "print(\"Not less than Integer comparison result:\", result_int_not_less)  # False"
   ]
  },
  {
   "cell_type": "markdown",
   "id": "5cd12a49-1884-428f-b7b3-8a88b68aba51",
   "metadata": {},
   "source": [
    "**float :**"
   ]
  },
  {
   "cell_type": "code",
   "execution_count": 8,
   "id": "95058dcd-945d-4327-9079-03b1f33ba54c",
   "metadata": {},
   "outputs": [],
   "source": [
    "# Comparing two floats\n",
    "result_float_less = 2.5 < 3.14  # True\n",
    "result_float_not_less = 3.14 < 2.5  # False\n",
    "\n",
    "print(\"Less than Float comparison result:\", result_float_less)     # True\n",
    "print(\"Not less than Float comparison result:\", result_float_not_less)  # False"
   ]
  },
  {
   "cell_type": "markdown",
   "id": "102416cb-3ff4-4087-b44c-e07fb0d863d0",
   "metadata": {},
   "source": [
    "**strings :**"
   ]
  },
  {
   "cell_type": "code",
   "execution_count": 11,
   "id": "c0e04e79-e285-4f63-8f83-8c0ce75597e5",
   "metadata": {},
   "outputs": [],
   "source": [
    "# Comparing two strings (lexicographically)\n",
    "result_str_less = \"apple\" < \"banana\"  # True\n",
    "result_str_not_less = \"banana\" < \"apple\"  # False\n",
    "\n",
    "print(\"Less than String comparison result:\", result_str_less)      # True\n",
    "print(\"Not less than String comparison result:\", result_str_not_less)  # False"
   ]
  },
  {
   "cell_type": "markdown",
   "id": "799c70b7-4cf9-4f59-a6b7-c0adfe1566a1",
   "metadata": {},
   "source": [
    "**lists :**"
   ]
  },
  {
   "cell_type": "code",
   "execution_count": null,
   "id": "1010fb3d-b7d9-4a97-9c82-109b38963290",
   "metadata": {},
   "outputs": [],
   "source": [
    "# Comparing two lists (based on lexicographical order of elements)\n",
    "result_list_less = [1, 2] < [2, 3]  # True\n",
    "result_list_not_less = [2, 3] < [1, 2]  # False\n",
    "\n",
    "print(\"Less than List comparison result:\", result_list_less)       # True\n",
    "print(\"Not less than List comparison result:\", result_list_not_less)   # False"
   ]
  },
  {
   "cell_type": "markdown",
   "id": "3f8f3779-7606-4630-9911-16e90e4f6637",
   "metadata": {},
   "source": [
    "**tuples :**"
   ]
  },
  {
   "cell_type": "code",
   "execution_count": null,
   "id": "855ba43d-931f-4f35-bd1a-d2e6bdc0e18c",
   "metadata": {},
   "outputs": [],
   "source": [
    "# Comparing two tuples (based on lexicographical order of elements)\n",
    "result_tuple_less = (1, 2) < (2, 3)  # True\n",
    "result_tuple_not_less = (2, 3) < (1, 2)  # False\n",
    "\n",
    "\n",
    "print(\"Less than Tuple comparison result:\", result_tuple_less)     # True\n",
    "print(\"Not less than Tuple comparison result:\", result_tuple_not_less)   # False"
   ]
  },
  {
   "cell_type": "markdown",
   "id": "062419d6-7f6f-4f6c-a409-837fd18210be",
   "metadata": {},
   "source": [
    "_____"
   ]
  },
  {
   "cell_type": "markdown",
   "id": "7bbcb0d8-e7c3-4fe2-8c31-5d81672aed25",
   "metadata": {},
   "source": [
    "### **v) Greater than or equal to ( >= ):** \n",
    "- Compares two values and returns `True` if the first value is greater than or equal to the second, otherwise `False`."
   ]
  },
  {
   "cell_type": "markdown",
   "id": "e92b3a41-0ffd-4d5a-bce2-f73ecbe9a536",
   "metadata": {},
   "source": [
    "**int:**"
   ]
  },
  {
   "cell_type": "code",
   "execution_count": 18,
   "id": "0e4930d8-396b-4081-b893-51de449a364f",
   "metadata": {},
   "outputs": [
    {
     "name": "stdout",
     "output_type": "stream",
     "text": [
      "Greater or equal Integer comparison result: True\n",
      "Not greater or equal Integer comparison result: False\n"
     ]
    }
   ],
   "source": [
    "# Comparing two integers\n",
    "result_int_greater_equal = 5 >= 3  # True\n",
    "result_int_not_greater_equal = 3 >= 5  # False\n",
    "\n",
    "print(\"Greater or equal Integer comparison result:\", result_int_greater_equal)   # True\n",
    "print(\"Not greater or equal Integer comparison result:\", result_int_not_greater_equal)  # False"
   ]
  },
  {
   "cell_type": "markdown",
   "id": "b9eb8225-439f-4b3b-8121-e68d454da21e",
   "metadata": {},
   "source": [
    "**float:**"
   ]
  },
  {
   "cell_type": "code",
   "execution_count": 21,
   "id": "4a29a8e5-0f72-4101-83cd-c86cc910013b",
   "metadata": {},
   "outputs": [
    {
     "name": "stdout",
     "output_type": "stream",
     "text": [
      "Greater or equal Float comparison result: True\n",
      "Not greater or equal Float comparison result: False\n"
     ]
    }
   ],
   "source": [
    "# Comparing two floats\n",
    "result_float_greater_equal = 3.14 >= 2.5  # True\n",
    "result_float_not_greater_equal = 2.5 >= 3.14  # False\n",
    "\n",
    "print(\"Greater or equal Float comparison result:\", result_float_greater_equal)   # True\n",
    "print(\"Not greater or equal Float comparison result:\", result_float_not_greater_equal)  # False"
   ]
  },
  {
   "cell_type": "markdown",
   "id": "9f48deed-3bea-4edd-aaac-1dc84d99a4d8",
   "metadata": {},
   "source": [
    "**strings:**"
   ]
  },
  {
   "cell_type": "code",
   "execution_count": 24,
   "id": "bf5a4494-50a1-49b7-8fe3-39a2bc9fe160",
   "metadata": {},
   "outputs": [
    {
     "name": "stdout",
     "output_type": "stream",
     "text": [
      "Greater or equal String comparison result: True\n",
      "Not greater or equal String comparison result: False\n"
     ]
    }
   ],
   "source": [
    "# Comparing two strings (lexicographically)\n",
    "result_str_greater_equal = \"banana\" >= \"apple\"  # True\n",
    "result_str_not_greater_equal = \"apple\" >= \"banana\"  # False\n",
    "\n",
    "print(\"Greater or equal String comparison result:\", result_str_greater_equal)    # True\n",
    "print(\"Not greater or equal String comparison result:\", result_str_not_greater_equal)  # False"
   ]
  },
  {
   "cell_type": "markdown",
   "id": "05d7beaf-902e-4e96-bb11-c1c5413ac42a",
   "metadata": {},
   "source": [
    "**lists:**"
   ]
  },
  {
   "cell_type": "code",
   "execution_count": 27,
   "id": "725008ab-7b0c-48c5-84e1-7395210287e5",
   "metadata": {},
   "outputs": [
    {
     "name": "stdout",
     "output_type": "stream",
     "text": [
      "Greater or equal List comparison result: True\n",
      "Not greater or equal List comparison result: False\n"
     ]
    }
   ],
   "source": [
    "# Comparing two lists (based on lexicographical order of elements)\n",
    "result_list_greater_equal = [2, 3] >= [1, 2]  # True\n",
    "result_list_not_greater_equal = [1, 2] >= [2, 3]  # False\n",
    "\n",
    "print(\"Greater or equal List comparison result:\", result_list_greater_equal)     # True\n",
    "print(\"Not greater or equal List comparison result:\", result_list_not_greater_equal)  # False"
   ]
  },
  {
   "cell_type": "markdown",
   "id": "d4883e85-0148-4b30-9562-a42e789cf96a",
   "metadata": {},
   "source": [
    "**tuples:**"
   ]
  },
  {
   "cell_type": "code",
   "execution_count": 30,
   "id": "0dfee57e-fe82-4694-84b8-7150a7143303",
   "metadata": {},
   "outputs": [
    {
     "name": "stdout",
     "output_type": "stream",
     "text": [
      "Greater or equal Tuple comparison result: True\n",
      "Not greater or equal Tuple comparison result: False\n"
     ]
    }
   ],
   "source": [
    "# Comparing two tuples (based on lexicographical order of elements)\n",
    "result_tuple_greater_equal = (2, 3) >= (1, 2)  # True\n",
    "result_tuple_not_greater_equal = (1, 2) >= (2, 3)  # False\n",
    "\n",
    "print(\"Greater or equal Tuple comparison result:\", result_tuple_greater_equal)   # True\n",
    "print(\"Not greater or equal Tuple comparison result:\", result_tuple_not_greater_equal)  # False"
   ]
  },
  {
   "cell_type": "markdown",
   "id": "6a1fd44b-3c3f-4eae-8865-a44d28270a72",
   "metadata": {},
   "source": [
    "____________________"
   ]
  },
  {
   "cell_type": "markdown",
   "id": "1f069fe4-0a80-4030-8bd3-38d255726532",
   "metadata": {},
   "source": [
    "### **vi) Less than or equal to ( <= ):**\n",
    "- Compares two values and returns True if the first value is less than or equal to the second, otherwise False."
   ]
  },
  {
   "cell_type": "code",
   "execution_count": null,
   "id": "dee2b491-d870-4568-b4d2-709391601eed",
   "metadata": {},
   "outputs": [],
   "source": []
  },
  {
   "cell_type": "code",
   "execution_count": null,
   "id": "2616efcd-8788-4578-ac1c-28c24211542b",
   "metadata": {},
   "outputs": [],
   "source": [
    "# Comparing two integers\n",
    "result_int_less_equal = 3 <= 5  # True\n",
    "result_int_not_less_equal = 5 <= 3  # False\n"
   ]
  },
  {
   "cell_type": "code",
   "execution_count": null,
   "id": "ec915794-4c84-426e-bbce-8035ede0ecdd",
   "metadata": {},
   "outputs": [],
   "source": []
  },
  {
   "cell_type": "code",
   "execution_count": null,
   "id": "6fa29b4e-92d4-44c5-b7e2-2374294aadc0",
   "metadata": {},
   "outputs": [],
   "source": [
    "# Comparing two floats\n",
    "result_float_less_equal = 3.14 <= 3.14  # True\n",
    "result_float_not_less_equal = 3.14 <= 2.71  # False\n"
   ]
  }
 ],
 "metadata": {
  "kernelspec": {
   "display_name": "Python 3 (ipykernel)",
   "language": "python",
   "name": "python3"
  },
  "language_info": {
   "codemirror_mode": {
    "name": "ipython",
    "version": 3
   },
   "file_extension": ".py",
   "mimetype": "text/x-python",
   "name": "python",
   "nbconvert_exporter": "python",
   "pygments_lexer": "ipython3",
   "version": "3.11.7"
  }
 },
 "nbformat": 4,
 "nbformat_minor": 5
}
