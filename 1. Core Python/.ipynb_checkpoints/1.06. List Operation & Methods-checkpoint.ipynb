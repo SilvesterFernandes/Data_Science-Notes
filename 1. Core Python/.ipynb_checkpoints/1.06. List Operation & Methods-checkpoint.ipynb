{
 "cells": [
  {
   "cell_type": "markdown",
   "id": "154587f6-b2e8-4ec3-9132-d44ab4033058",
   "metadata": {},
   "source": [
    "______________________________________________________________________________________________\n",
    "<h1 style=\"color:#8A2BE2; font-weight: bold;\">Class - 1.5 : List & List Methods</h1>\n",
    "\n",
    "**Day & Date :** \n",
    "\n",
    "______________________________________________________________________________________________"
   ]
  },
  {
   "cell_type": "markdown",
   "id": "0463a937-e1d4-4525-ae30-35964db26ec7",
   "metadata": {},
   "source": [
    "<h2 style=\"color:#FF7F50; font-weight: bold;\">Introduction :</h2>\n",
    "\n",
    "**Lists:**\n",
    "- In Python, a **list is a versatile data type that allows you to store an ordered collection of items.**\n",
    "- **Lists can contain elements of different types, including integers, floats, strings, and even other lists.**\n",
    "-  They are **mutable**, which means you can change their content without changing their identity.\n",
    "\n",
    "Here are some key points about lists in Python:\n",
    "- **Ordered**:\n",
    "  Lists maintain the order of elements as they are added.\n",
    "- **Indexable:**\n",
    "  You can access elements in a list using their index (position).\n",
    "- **Mutable:**\n",
    "  Lists can be modified after their creation (elements can be added, removed, or changed).\n",
    "- **Dynamic:**\n",
    "  Lists can grow or shrink in size as needed.\n",
    "\n",
    "**Note :**\n",
    "- Lists are created using square brackets [] with elements separated by commas.\n",
    "- Lists can be heterogeneous\n"
   ]
  },
  {
   "cell_type": "markdown",
   "id": "25c6f4a3-138f-4b8e-a14c-2846d999dd10",
   "metadata": {},
   "source": [
    "________________________________________________________________________________________________________________________________________________________"
   ]
  },
  {
   "cell_type": "markdown",
   "id": "b6453964-e205-4d6c-aa4f-5e8dd3adc53c",
   "metadata": {},
   "source": [
    "**Creating an Empty List :**\n"
   ]
  },
  {
   "cell_type": "code",
   "execution_count": 6,
   "id": "d0320861-15ec-4b64-b551-374cbfdc2982",
   "metadata": {},
   "outputs": [
    {
     "name": "stdout",
     "output_type": "stream",
     "text": [
      "[]\n"
     ]
    },
    {
     "data": {
      "text/plain": [
       "list"
      ]
     },
     "execution_count": 6,
     "metadata": {},
     "output_type": "execute_result"
    }
   ],
   "source": [
    "# First Way \n",
    "empty_list=[]\n",
    "print(empty_list)\n",
    "type(empty_list)"
   ]
  },
  {
   "cell_type": "code",
   "execution_count": 7,
   "id": "aadb8d16-a94f-4747-b4e2-4088beeb96b2",
   "metadata": {},
   "outputs": [
    {
     "name": "stdout",
     "output_type": "stream",
     "text": [
      "[]\n"
     ]
    },
    {
     "data": {
      "text/plain": [
       "list"
      ]
     },
     "execution_count": 7,
     "metadata": {},
     "output_type": "execute_result"
    }
   ],
   "source": [
    "# Second way\n",
    "empty_list_2=list()\n",
    "print(empty_list_2)\n",
    "type(empty_list_2)"
   ]
  },
  {
   "cell_type": "code",
   "execution_count": 8,
   "id": "88390b05-cd54-4278-9e97-e01780579a70",
   "metadata": {},
   "outputs": [
    {
     "name": "stdout",
     "output_type": "stream",
     "text": [
      "[12, 5.0, True, 'Python']\n"
     ]
    }
   ],
   "source": [
    "#heterogeneous List\n",
    "\n",
    "list= [12,5.0,True,'Python']\n",
    "\n",
    "print(list)"
   ]
  },
  {
   "cell_type": "code",
   "execution_count": null,
   "id": "872dd16e-079c-4d3c-979d-1f4d4e7ad0e3",
   "metadata": {},
   "outputs": [],
   "source": []
  },
  {
   "cell_type": "markdown",
   "id": "486e349f-f551-4a10-b963-f943db9f7bcd",
   "metadata": {},
   "source": [
    "## **Basic Opeartions on List**"
   ]
  },
  {
   "cell_type": "code",
   "execution_count": 10,
   "id": "670a2b53-8117-4259-b8a2-6b35feac67e9",
   "metadata": {},
   "outputs": [
    {
     "name": "stdout",
     "output_type": "stream",
     "text": [
      "['Silvester', 12, 25, 30, 1999, 200.5, True, 'Python']\n"
     ]
    }
   ],
   "source": [
    "#Example of List\n",
    "My_List=['Silvester',12,25,30,1999,200.5,True,'Python']\n",
    "print(My_List)"
   ]
  },
  {
   "cell_type": "markdown",
   "id": "415aeb7a-6ddf-46b5-95c8-d1bec20f8025",
   "metadata": {},
   "source": [
    "## **Indexing :**\n",
    "**Zero-Based Indexing:**                                                                                                                           \n",
    "- The first element in a list is accessed with index 0, the second with index 1, and so on.\n",
    "\n",
    "**Negative Indexing:** \n",
    "- Elements can also be accessed from the end of the list using negative indices, where -1 refers to the last element, -2 to the second-to-last, and so on."
   ]
  },
  {
   "cell_type": "code",
   "execution_count": 12,
   "id": "39e68a54-9c8e-4cb8-a3dd-cb4910d21bf2",
   "metadata": {},
   "outputs": [
    {
     "name": "stdout",
     "output_type": "stream",
     "text": [
      "['Silvester', 12, 25, 30, 1999, 200.5, True, 'Python']\n"
     ]
    }
   ],
   "source": [
    "My_List=['Silvester',12,25,30,1999,200.5,True,'Python']\n",
    "\n",
    "print(My_List)"
   ]
  },
  {
   "cell_type": "code",
   "execution_count": 13,
   "id": "e4f12da6-fd42-49c9-b93d-a48be8d09bdd",
   "metadata": {},
   "outputs": [
    {
     "data": {
      "text/plain": [
       "'Silvester'"
      ]
     },
     "execution_count": 13,
     "metadata": {},
     "output_type": "execute_result"
    }
   ],
   "source": [
    "My_List[0] "
   ]
  },
  {
   "cell_type": "code",
   "execution_count": 14,
   "id": "209323ce-1032-445c-b0ac-1a8b826ad3bd",
   "metadata": {},
   "outputs": [
    {
     "data": {
      "text/plain": [
       "12"
      ]
     },
     "execution_count": 14,
     "metadata": {},
     "output_type": "execute_result"
    }
   ],
   "source": [
    "My_List[1]"
   ]
  },
  {
   "cell_type": "code",
   "execution_count": 15,
   "id": "4041c197-9a54-47cd-b66a-cb691c2e6846",
   "metadata": {},
   "outputs": [
    {
     "data": {
      "text/plain": [
       "25"
      ]
     },
     "execution_count": 15,
     "metadata": {},
     "output_type": "execute_result"
    }
   ],
   "source": [
    "My_List[2]"
   ]
  },
  {
   "cell_type": "code",
   "execution_count": 16,
   "id": "aae26b58-907e-4b7e-be3e-eec1fad063fe",
   "metadata": {},
   "outputs": [
    {
     "data": {
      "text/plain": [
       "'Python'"
      ]
     },
     "execution_count": 16,
     "metadata": {},
     "output_type": "execute_result"
    }
   ],
   "source": [
    "My_List[-1]"
   ]
  },
  {
   "cell_type": "code",
   "execution_count": 17,
   "id": "e2e82a71-0e7a-4a82-ae51-48265aa27984",
   "metadata": {},
   "outputs": [
    {
     "data": {
      "text/plain": [
       "30"
      ]
     },
     "execution_count": 17,
     "metadata": {},
     "output_type": "execute_result"
    }
   ],
   "source": [
    "My_List[-5]"
   ]
  },
  {
   "cell_type": "markdown",
   "id": "190848ea-89b4-4be5-b9ce-71f153945104",
   "metadata": {},
   "source": [
    "## **Slicing :**\n",
    "- The syntax for list slicing is **list[start:stop:step]**\n",
    "\n",
    "where:\n",
    "\n",
    "\n",
    "- **start (optional):** The index where the slice **begins (inclusive).** Defaults to the beginning of the list if omitted.\n",
    "- **stop (optional):** The index where the slice ends (exclusive). Defaults to the end of the list if omitted.\n",
    "- **step (optional):** The number of steps to take between each element. Defaults to 1 if omitted."
   ]
  },
  {
   "cell_type": "code",
   "execution_count": 19,
   "id": "481a7946-1e12-412e-a26d-a85a89e39069",
   "metadata": {},
   "outputs": [
    {
     "name": "stdout",
     "output_type": "stream",
     "text": [
      "['Silvester', 12, 25, 30, 1999, 200.5, True, 'Python']\n"
     ]
    }
   ],
   "source": [
    "My_List=['Silvester',12,25,30,1999,200.5,True,'Python']\n",
    "\n",
    "print(My_List)"
   ]
  },
  {
   "cell_type": "code",
   "execution_count": 20,
   "id": "f7859b52-9be7-4577-9599-8c47b4e503dd",
   "metadata": {},
   "outputs": [
    {
     "data": {
      "text/plain": [
       "['Silvester', 12]"
      ]
     },
     "execution_count": 20,
     "metadata": {},
     "output_type": "execute_result"
    }
   ],
   "source": [
    "My_List[0:2]"
   ]
  },
  {
   "cell_type": "code",
   "execution_count": 21,
   "id": "97dda71f-b60d-4bc1-ad07-657b933701f0",
   "metadata": {},
   "outputs": [
    {
     "data": {
      "text/plain": [
       "['Silvester', 12, 25, 30, 1999, 200.5, True]"
      ]
     },
     "execution_count": 21,
     "metadata": {},
     "output_type": "execute_result"
    }
   ],
   "source": [
    "My_List[:-1]"
   ]
  },
  {
   "cell_type": "code",
   "execution_count": 22,
   "id": "2a1b0358-7c2f-4dec-a437-1e90d4d62803",
   "metadata": {},
   "outputs": [
    {
     "data": {
      "text/plain": [
       "['Silvester', 12, 25, 30]"
      ]
     },
     "execution_count": 22,
     "metadata": {},
     "output_type": "execute_result"
    }
   ],
   "source": [
    "My_List[:4]"
   ]
  },
  {
   "cell_type": "code",
   "execution_count": 23,
   "id": "6bb04744-5b5e-4bba-8fa7-9458eb4b4a51",
   "metadata": {},
   "outputs": [
    {
     "data": {
      "text/plain": [
       "[1999, 200.5, True]"
      ]
     },
     "execution_count": 23,
     "metadata": {},
     "output_type": "execute_result"
    }
   ],
   "source": [
    "My_List[-4:-1]"
   ]
  },
  {
   "cell_type": "code",
   "execution_count": 24,
   "id": "80ca4aca-cf39-4e48-afaa-01c36d222cf3",
   "metadata": {},
   "outputs": [
    {
     "data": {
      "text/plain": [
       "12"
      ]
     },
     "execution_count": 24,
     "metadata": {},
     "output_type": "execute_result"
    }
   ],
   "source": [
    "My_List[1]"
   ]
  },
  {
   "cell_type": "markdown",
   "id": "e59655ae-2a08-43c3-bc74-29c5f379bb01",
   "metadata": {},
   "source": [
    "**Another Example:-**"
   ]
  },
  {
   "cell_type": "code",
   "execution_count": 26,
   "id": "796628b2-4d52-4c7f-857f-d91ee68978f6",
   "metadata": {},
   "outputs": [
    {
     "name": "stdout",
     "output_type": "stream",
     "text": [
      "['b', 'c', 'd']\n"
     ]
    }
   ],
   "source": [
    "my_list = ['a', 'b', 'c', 'd', 'e']\n",
    "\n",
    "# Slicing from index 1 to 3\n",
    "\n",
    "print(my_list[1:4])  # Output: ['b', 'c', 'd']"
   ]
  },
  {
   "cell_type": "code",
   "execution_count": 27,
   "id": "4eb6a7fa-2f97-41e6-94ca-8aae16edf4ad",
   "metadata": {},
   "outputs": [
    {
     "name": "stdout",
     "output_type": "stream",
     "text": [
      "['a', 'b', 'c']\n"
     ]
    }
   ],
   "source": [
    "# Slicing from the beginning to index 2\n",
    "\n",
    "print(my_list[:3])   # Output: ['a', 'b', 'c']"
   ]
  },
  {
   "cell_type": "code",
   "execution_count": 28,
   "id": "6d066d86-ac47-43a5-a1de-0dbbc8b5d0de",
   "metadata": {},
   "outputs": [
    {
     "name": "stdout",
     "output_type": "stream",
     "text": [
      "['c', 'd', 'e']\n"
     ]
    }
   ],
   "source": [
    "# Slicing from index 2 to the end\n",
    "\n",
    "print(my_list[2:])   # Output: ['c', 'd', 'e']"
   ]
  },
  {
   "cell_type": "code",
   "execution_count": 29,
   "id": "9029eca8-dbfb-419d-9577-61382936195c",
   "metadata": {},
   "outputs": [
    {
     "name": "stdout",
     "output_type": "stream",
     "text": [
      "['a', 'b', 'c', 'd', 'e']\n"
     ]
    }
   ],
   "source": [
    "# Slicing the entire list\n",
    "\n",
    "print(my_list[:])    # Output: ['a', 'b', 'c', 'd', 'e']"
   ]
  },
  {
   "cell_type": "code",
   "execution_count": 30,
   "id": "822a4bf4-9487-45fd-aa29-8a9c204bf5ef",
   "metadata": {},
   "outputs": [
    {
     "name": "stdout",
     "output_type": "stream",
     "text": [
      "['a', 'c', 'e']\n"
     ]
    }
   ],
   "source": [
    "# Slicing with a step of 2\n",
    "\n",
    "print(my_list[::2])  # Output: ['a', 'c', 'e']\n"
   ]
  },
  {
   "cell_type": "code",
   "execution_count": 31,
   "id": "9f0aeda6-430a-4aaa-a742-900e787253d5",
   "metadata": {},
   "outputs": [
    {
     "name": "stdout",
     "output_type": "stream",
     "text": [
      "['b', 'c', 'd']\n"
     ]
    }
   ],
   "source": [
    "# Slicing with negative indices from -4 to -1\n",
    "\n",
    "print(my_list[-4:-1])  # Output: ['b', 'c', 'd']"
   ]
  },
  {
   "cell_type": "code",
   "execution_count": 32,
   "id": "37e7bb46-9ace-4cc6-997a-4961f5fa202a",
   "metadata": {},
   "outputs": [
    {
     "name": "stdout",
     "output_type": "stream",
     "text": [
      "['e', 'd', 'c', 'b', 'a']\n"
     ]
    }
   ],
   "source": [
    "# Slicing with a negative step to reverse the list\n",
    "\n",
    "print(my_list[::-1])   # Output: ['e', 'd', 'c', 'b', 'a']"
   ]
  },
  {
   "cell_type": "markdown",
   "id": "84920684-bf0a-498e-82a2-1cb6e1740544",
   "metadata": {},
   "source": [
    "<h2 style=\"color:orange; font-weight: bold;\">Methods:</h2>"
   ]
  },
  {
   "cell_type": "markdown",
   "id": "35e259ef-8e67-43d6-b992-db5b37f5f391",
   "metadata": {},
   "source": [
    "<h3 style=\"color: #3CB371; font-weight: bold;\">1. len() :</h3>\n",
    "\n",
    "- **Returns the length of a List.**"
   ]
  },
  {
   "cell_type": "code",
   "execution_count": 35,
   "id": "44511c3a-c212-401b-920a-2c2b284e844f",
   "metadata": {},
   "outputs": [
    {
     "data": {
      "text/plain": [
       "8"
      ]
     },
     "execution_count": 35,
     "metadata": {},
     "output_type": "execute_result"
    }
   ],
   "source": [
    "My_List=['Silvester',12,25,30,1999,200.5,True,'Python']\n",
    "\n",
    "len(My_List)"
   ]
  },
  {
   "cell_type": "code",
   "execution_count": null,
   "id": "94ccdf19-e9b2-4311-9274-650593cbfd7a",
   "metadata": {},
   "outputs": [],
   "source": []
  },
  {
   "cell_type": "markdown",
   "id": "948cffa4-bf93-4fa4-a8f6-811b601fed15",
   "metadata": {},
   "source": [
    "<h3 style=\"color: #3CB371; font-weight: bold;\">2.append() :</h3>\n",
    "\n",
    "\n",
    "\n",
    "- **Adds an element to the end of the list.**\n",
    "- **Used to add Only One item at the end of list.**\n",
    "- **item Can be either int,float,str,bool,list**\n",
    "\n",
    "- **Syntax :** **list_name.append(item to be inserted)**"
   ]
  },
  {
   "cell_type": "code",
   "execution_count": 37,
   "id": "4d171c81-03c6-490d-9bd1-461d8bf09131",
   "metadata": {},
   "outputs": [
    {
     "name": "stdout",
     "output_type": "stream",
     "text": [
      "['Silvester', 12, 25, 30, 1999, 200.5, True, 'Python', 5]\n"
     ]
    }
   ],
   "source": [
    "My_List=['Silvester',12,25,30,1999,200.5,True,'Python']\n",
    "\n",
    "My_List.append(5)\n",
    "\n",
    "print(My_List)"
   ]
  },
  {
   "cell_type": "code",
   "execution_count": null,
   "id": "2d48b192-090d-4c4c-9bc4-f3040f36108a",
   "metadata": {},
   "outputs": [],
   "source": []
  },
  {
   "cell_type": "markdown",
   "id": "ad95c99a-b1a3-4108-b6ca-22bcde0b47b8",
   "metadata": {},
   "source": [
    "**append List into List :**"
   ]
  },
  {
   "cell_type": "code",
   "execution_count": 39,
   "id": "730a138c-7445-4811-90fa-b2dd8fca7cd7",
   "metadata": {},
   "outputs": [
    {
     "name": "stdout",
     "output_type": "stream",
     "text": [
      "['Silvester', 12, 25, 30, 1999, 200.5, True, 'Python', 5, ['Apple', 'Mango']]\n"
     ]
    }
   ],
   "source": [
    "My_List.append(['Apple','Mango'])\n",
    "\n",
    "print(My_List)"
   ]
  },
  {
   "cell_type": "code",
   "execution_count": null,
   "id": "8d0e952e-7bec-466d-89f4-9dd41968df0b",
   "metadata": {},
   "outputs": [],
   "source": []
  },
  {
   "cell_type": "markdown",
   "id": "fff1790b-b0cb-4b37-b48d-326b578aaef3",
   "metadata": {},
   "source": [
    "<h3 style=\"color: #3CB371; font-weight: bold;\">3.extend() :</h3>\n",
    "\n",
    "- **Extends the list by appending all elements from another list (or any iterable).**\n",
    "- **Used to add multiple items in a list**\n",
    "- **It adds each item individually at the end**"
   ]
  },
  {
   "cell_type": "code",
   "execution_count": 41,
   "id": "390d6c47-ee69-42a5-8e71-a3190d73db4d",
   "metadata": {},
   "outputs": [
    {
     "name": "stdout",
     "output_type": "stream",
     "text": [
      "[1, 2, 55.6, 'True', 'Python', 5, 6, 'Apple']\n"
     ]
    }
   ],
   "source": [
    "New_List=[1,2,55.6,'True','Python']\n",
    "\n",
    "New_List.extend([5,6,\"Apple\"])\n",
    "\n",
    "print(New_List)"
   ]
  },
  {
   "cell_type": "code",
   "execution_count": null,
   "id": "7c0a6a0b-e350-4e70-b072-ace102d2fea9",
   "metadata": {},
   "outputs": [],
   "source": []
  },
  {
   "cell_type": "markdown",
   "id": "af634dec-2831-49a2-b034-a8dca1f68d1f",
   "metadata": {},
   "source": [
    "<h3 style=\"color: #3CB371; font-weight: bold;\">4.insert() :</h3>\n",
    "\n",
    "- **Inserts an individual element at a specified position.**\n",
    "- **Syntax:**   **list.insert(index, element)**"
   ]
  },
  {
   "cell_type": "code",
   "execution_count": 43,
   "id": "57845383-e672-44f8-bb70-67a80f4bea04",
   "metadata": {},
   "outputs": [
    {
     "name": "stdout",
     "output_type": "stream",
     "text": [
      "['Silvester', 1, 2, 55.6, 'True', 'Python']\n"
     ]
    }
   ],
   "source": [
    "New_List=[1,2,55.6,'True','Python']\n",
    "\n",
    "item_inserted=New_List.insert(0,\"Silvester\")\n",
    "\n",
    "print(New_List)"
   ]
  },
  {
   "cell_type": "code",
   "execution_count": null,
   "id": "a595058c-d75d-41b5-b3c8-baddf4a5c717",
   "metadata": {},
   "outputs": [],
   "source": []
  },
  {
   "cell_type": "markdown",
   "id": "3a53de1c-d04b-476d-82db-1219d337769d",
   "metadata": {},
   "source": [
    "<h3 style=\"color: #3CB371; font-weight: bold;\">5.remove() :</h3>\n",
    "\n",
    "- **Removes the first occurrence of a specified value.**\n",
    "- **Syntax:**   **list.remove(element)**"
   ]
  },
  {
   "cell_type": "code",
   "execution_count": 45,
   "id": "239b69bc-4d28-4496-a047-df968aa86a90",
   "metadata": {},
   "outputs": [
    {
     "name": "stdout",
     "output_type": "stream",
     "text": [
      "[1, 3, 2]\n"
     ]
    }
   ],
   "source": [
    "my_list = [1, 2, 3, 2]\n",
    "removed_element = my_list.remove(2) # element with value 2 is removed\n",
    "print(my_list)"
   ]
  },
  {
   "cell_type": "code",
   "execution_count": null,
   "id": "ef9ae095-75be-4f18-bbd8-e09c33da185a",
   "metadata": {},
   "outputs": [],
   "source": []
  },
  {
   "cell_type": "markdown",
   "id": "42e4b8a6-e550-4ce6-9d10-184eff2e6826",
   "metadata": {},
   "source": [
    "<h3 style=\"color: #3CB371; font-weight: bold;\">6.pop() :</h3>\n",
    "\n",
    "- **Removes and returns the element at a specified index (or the last element if no index is specified).**\n",
    "- **Syntax:**   **list_name.pop(element)**"
   ]
  },
  {
   "cell_type": "code",
   "execution_count": 47,
   "id": "866366f0-04ec-4dc2-a9dc-e6cecf94f08e",
   "metadata": {},
   "outputs": [
    {
     "name": "stdout",
     "output_type": "stream",
     "text": [
      "pop element is : 2\n",
      "[1, 3, 4, 5]\n"
     ]
    }
   ],
   "source": [
    "my_list = [1, 2, 3,4,5]\n",
    "\n",
    "element = my_list.pop(1)  # Pop element at specified index\n",
    "print(\"pop element is :\",element)  # Output: 2\n",
    "\n",
    "print(my_list)  # Output: [1, 3]"
   ]
  },
  {
   "cell_type": "code",
   "execution_count": null,
   "id": "5caa6cc1-cc6b-4197-a068-1e78f0f13648",
   "metadata": {},
   "outputs": [],
   "source": []
  },
  {
   "cell_type": "markdown",
   "id": "5f6aec46-8829-4ebd-9e96-ad80f93998c9",
   "metadata": {},
   "source": [
    "<h3 style=\"color: #3CB371; font-weight: bold;\"> 7.clear() :</h3>\n",
    "\n",
    "- **Removes all elements from list**\n",
    "- **Syntax:**   **list.clear()**"
   ]
  },
  {
   "cell_type": "code",
   "execution_count": 49,
   "id": "efb0cc12-07f5-4cef-82dd-af35cb74c7f0",
   "metadata": {},
   "outputs": [
    {
     "name": "stdout",
     "output_type": "stream",
     "text": [
      "[]\n"
     ]
    }
   ],
   "source": [
    "my_list = [1, 2, 3]\n",
    "my_list.clear()\n",
    "print(my_list)  # Output: []"
   ]
  },
  {
   "cell_type": "code",
   "execution_count": null,
   "id": "3f5f11ed-6bbd-4f44-9feb-847a6d54b2e8",
   "metadata": {},
   "outputs": [],
   "source": []
  },
  {
   "cell_type": "markdown",
   "id": "86989b1f-877b-4bae-bdda-6367c417a2f7",
   "metadata": {},
   "source": [
    "<h3 style=\"color: #3CB371; font-weight: bold;\">8.index() :</h3>\n",
    "\n",
    "- **Returns the index of the first occurrence of a specified value.**\n",
    "- **Syntax:**   **list_name.index()**"
   ]
  },
  {
   "cell_type": "code",
   "execution_count": 51,
   "id": "5038cccf-d69f-4368-b7d4-b7a152e753cc",
   "metadata": {},
   "outputs": [
    {
     "name": "stdout",
     "output_type": "stream",
     "text": [
      "5\n"
     ]
    }
   ],
   "source": [
    "my_list = [1,2,3,4,5,\"Silvester\",500.56]\n",
    "index= my_list.index('Silvester') # Return the index value of given element\n",
    "print(index)"
   ]
  },
  {
   "cell_type": "code",
   "execution_count": null,
   "id": "c62087ab-15e6-43b8-a550-d0b244bccada",
   "metadata": {},
   "outputs": [],
   "source": []
  },
  {
   "cell_type": "markdown",
   "id": "6cf3ea9e-aaf1-4631-9803-c0947a8f1de8",
   "metadata": {},
   "source": [
    "<h3 style=\"color: #3CB371; font-weight: bold;\">9.count() :</h3>\n",
    "\n",
    "- **Returns the number of occurrences of a specified value.**\n",
    "- **Syntax:**   **list_name.count()**"
   ]
  },
  {
   "cell_type": "code",
   "execution_count": 53,
   "id": "d0ae1fd3-31bb-4f08-9cde-69743c215ee3",
   "metadata": {},
   "outputs": [
    {
     "name": "stdout",
     "output_type": "stream",
     "text": [
      "5\n",
      "3\n",
      "2\n"
     ]
    }
   ],
   "source": [
    "my_list = [1, 2, 3, 2, 4, 5, 3, 2, 1, 2, 5, 6, 4, 1, 2, 3, 7, 8]\n",
    "count_2   = my_list.count(2)\n",
    "count_3 = my_list.count(3)\n",
    "count_5 = my_list.count(5)\n",
    "\n",
    "print(count_2) # element 2 comes 5 times in a list\n",
    "print(count_3) # element 3 comes 3 times.\n",
    "print(count_5) # element 5 comes 2 times."
   ]
  },
  {
   "cell_type": "code",
   "execution_count": null,
   "id": "6dd17cca-f9df-4efb-8bbf-cda4f057e9c2",
   "metadata": {},
   "outputs": [],
   "source": []
  },
  {
   "cell_type": "markdown",
   "id": "34e5f01c-5dbf-41e8-b0fe-5ec83e2cd853",
   "metadata": {},
   "source": [
    "<h3 style=\"color: #3CB371; font-weight: bold;\">10.reverse() :</h3>\n",
    "\n",
    "- **Reverses the order of elements in the list.**\n",
    "- **Syntax:**   **list_name.reverse()**"
   ]
  },
  {
   "cell_type": "code",
   "execution_count": 55,
   "id": "80cb7ee4-937a-4b22-bc17-7f1fa7daeac9",
   "metadata": {},
   "outputs": [
    {
     "name": "stdout",
     "output_type": "stream",
     "text": [
      "[3, 2, 1]\n"
     ]
    }
   ],
   "source": [
    "my_list = [1, 2, 3]\n",
    "my_list.reverse()\n",
    "print(my_list)  # Output: [3, 2, 1]"
   ]
  },
  {
   "cell_type": "code",
   "execution_count": null,
   "id": "b2a18802-8a8c-43fd-a22a-835793e22166",
   "metadata": {},
   "outputs": [],
   "source": []
  },
  {
   "cell_type": "markdown",
   "id": "cc41d09e-c7af-4876-bbc4-c1ff5ab760c7",
   "metadata": {},
   "source": [
    "<h3 style=\"color: #3CB371; font-weight: bold;\">11.sort() :</h3>\n",
    "\n",
    "- **Sorts the list in ascending order (or descending order if specified).**\n",
    "- **By defualt - Ascending order**\n",
    "- **Note : - Sort is applicable for either only aplhabet or only Numeric values.**\n",
    "- **Syntax:**   **list.sort()**"
   ]
  },
  {
   "cell_type": "code",
   "execution_count": 57,
   "id": "d56aa3e5-326b-4ba9-8853-9c4711bf1558",
   "metadata": {},
   "outputs": [
    {
     "name": "stdout",
     "output_type": "stream",
     "text": [
      "[1, 2, 3]\n",
      "[3, 2, 1]\n"
     ]
    }
   ],
   "source": [
    "my_list = [3, 1, 2]\n",
    "\n",
    "#Ascending Order :\n",
    "my_list.sort()\n",
    "print(my_list)  # Output: [1, 2, 3]\n",
    "\n",
    "# Descending Order :\n",
    "\n",
    "my_list.sort(reverse=True)\n",
    "print(my_list)  # Output: [3, 2, 1]"
   ]
  },
  {
   "cell_type": "markdown",
   "id": "0fb8f9fe-2c0e-4091-b639-64c5ee10ed8a",
   "metadata": {},
   "source": [
    "<h3 style=\"color: #3CB371; font-weight: bold;\">sorted() :</h3>\n",
    "\n",
    "- **Built-In Function:** sorted() is a built-in Python function.\n",
    "\n",
    "  \n",
    "- **Creates a New List:** sorted() returns a new list containing all elements from the original iterable, sorted.\n",
    "  \n",
    "- **Works with Any Iterable:** sorted() can accept any iterable (e.g., lists, tuples, dictionaries, strings, etc.).\n",
    "\n",
    "- **Parameters:** sorted() also accepts key and reverse parameters, similar to sort()."
   ]
  },
  {
   "cell_type": "code",
   "execution_count": 59,
   "id": "fc37f078-7958-48ed-b4ed-9402635158d5",
   "metadata": {},
   "outputs": [
    {
     "name": "stdout",
     "output_type": "stream",
     "text": [
      "[1, 1, 3, 4, 5, 9]\n",
      "[3, 1, 4, 1, 5, 9]\n",
      "[9, 5, 4, 3, 1, 1]\n"
     ]
    }
   ],
   "source": [
    "my_list = [3, 1, 4, 1, 5, 9]\n",
    "new_list = sorted(my_list)\n",
    "print(new_list)  # Output: [1, 1, 3, 4, 5, 9]\n",
    "\n",
    "print(my_list)   # Output: [3, 1, 4, 1, 5, 9]  (original list is unchanged)\n",
    "\n",
    "reversed_list = sorted(my_list, reverse=True)\n",
    "print(reversed_list)  # Output: [9, 5, 4, 3, 1, 1]"
   ]
  },
  {
   "cell_type": "markdown",
   "id": "bd7d2f8d-c22b-48a8-b2c8-18bb3382cd36",
   "metadata": {},
   "source": [
    "<h3 style=\"color: #3CB371; font-weight: bold;\">12.copy() :</h3>\n",
    "\n",
    "- **Returns a shallow copy of the list**\n",
    "- **Syntax:**   **list.copy()**"
   ]
  },
  {
   "cell_type": "code",
   "execution_count": 61,
   "id": "23d933df-9847-46bc-befb-86cf2ab8a4e3",
   "metadata": {},
   "outputs": [
    {
     "name": "stdout",
     "output_type": "stream",
     "text": [
      "[1, 2, 3]\n",
      "[1, 2, 3]\n",
      "[1, 2, 3, 4]\n"
     ]
    }
   ],
   "source": [
    "# 1.Shallow Copy - : It Indicates to Different Object.\n",
    "\n",
    "a = [1, 2, 3]\n",
    "b = a.copy()\n",
    "print(a)\n",
    "print(b)  # Output: [1, 2, 3]\n",
    "\n",
    "b.append(4)\n",
    "print(b)\n"
   ]
  },
  {
   "cell_type": "code",
   "execution_count": 62,
   "id": "02fdd66c-b47f-46ec-bb92-6ca419133b58",
   "metadata": {},
   "outputs": [
    {
     "name": "stdout",
     "output_type": "stream",
     "text": [
      "[1, 2, 3, 4]\n",
      "[1, 2, 3, 4]\n"
     ]
    }
   ],
   "source": [
    "# 2.Deep Copy - : It Indicates Same Object\n",
    "\n",
    "\n",
    "a=[1,2,3]\n",
    "b=a\n",
    "\n",
    "b.append(4)\n",
    "print(b)\n",
    "print(a)"
   ]
  },
  {
   "cell_type": "code",
   "execution_count": null,
   "id": "6ea9689b-8289-4b35-a055-47ffb0a11392",
   "metadata": {},
   "outputs": [],
   "source": []
  },
  {
   "cell_type": "markdown",
   "id": "dbd1c14a-5f93-4413-9e3d-67ec7ce78c6e",
   "metadata": {},
   "source": [
    "Remaining -----> \n",
    "1. append vs. extend\n",
    "2. Difference Sor and Sorted\n",
    "3. Shallow Copy vs Deep Copy"
   ]
  },
  {
   "cell_type": "code",
   "execution_count": null,
   "id": "502540c7-d1be-4a13-869d-d4d7ecad6653",
   "metadata": {},
   "outputs": [],
   "source": []
  }
 ],
 "metadata": {
  "kernelspec": {
   "display_name": "Python 3 (ipykernel)",
   "language": "python",
   "name": "python3"
  },
  "language_info": {
   "codemirror_mode": {
    "name": "ipython",
    "version": 3
   },
   "file_extension": ".py",
   "mimetype": "text/x-python",
   "name": "python",
   "nbconvert_exporter": "python",
   "pygments_lexer": "ipython3",
   "version": "3.11.7"
  }
 },
 "nbformat": 4,
 "nbformat_minor": 5
}
