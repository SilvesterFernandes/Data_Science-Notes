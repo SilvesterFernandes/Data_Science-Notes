{
 "cells": [
  {
   "cell_type": "markdown",
   "id": "78108d96-56a0-4d83-9082-3cf3349b3ae1",
   "metadata": {},
   "source": [
    "______________________________________________________________________________________________________________________\n",
    "<h1 style=\"color:#0d81cc;  font-weight: bold;\">1.11 : Coditional Statements</h1>\n",
    "\n",
    "\n",
    "________________________________________________________________________________________________________________________"
   ]
  },
  {
   "cell_type": "markdown",
   "id": "4a350763-0286-4f87-b1ba-c85328414b75",
   "metadata": {},
   "source": [
    "### **Decision- Making Statements :** \n",
    "- These are Called Control Flow Statements in Python\n",
    "\n",
    "**Conditional statements allow you to execute specific blocks of code based on certain conditions.**\n",
    "- The main types of conditional statements in Python are\n",
    "- **1.`if`**\n",
    "- **2.`if-else`**\n",
    "- **3.`if-elif`**\n",
    "- **4.`if-elif-else`**\n",
    "- **5.`nested if`**\n",
    "\n",
    "**Block Structure:**\n",
    "- The Code is that is executed when a specific condition is met is defined in a \"block.\"\n",
    "- Statements preceding blocks generally end with a colon(:)\n",
    "- In Python, The Block structure is signalled by changes in indentation\n",
    "- Each line of code in a certain block level must be indented equally and indented more than the surrounding scope.\n",
    "- The Standard is to use 4 Spaces for each level of block indentation\n",
    "***"
   ]
  },
  {
   "cell_type": "markdown",
   "id": "a959cd20-063d-426e-ad8c-fea339a6b59c",
   "metadata": {},
   "source": [
    "<h2 style=\"color:#0d81cc ; font-weight: bold;\">1.if :</h2>\n",
    "\n",
    "- The if statement is used to test a condition. \n",
    "- If the **condition is True**, then **code block following the if statement is executed.**\n",
    "- if Statement consists of a Boolean expression followed by one or more statements\n",
    "- only when condition is True, the if block will execute\n",
    "- if the **condition is False**, the if **block not executed**\n",
    "\n",
    "**Syntax:**\n",
    "   \n",
    "    if condition :\n",
    ">         block of code to execute if condition is True"
   ]
  },
  {
   "cell_type": "markdown",
   "id": "3756903b-dbb0-4f70-bcf0-30d0ec14f284",
   "metadata": {},
   "source": [
    "**Example 1 : Example of an `if` statement with a True condition**"
   ]
  },
  {
   "cell_type": "code",
   "execution_count": 130,
   "id": "c8519bc1-4fe4-40d4-b854-6a1f92cac7e7",
   "metadata": {},
   "outputs": [
    {
     "name": "stdout",
     "output_type": "stream",
     "text": [
      "x is greater than 5\n",
      "Google\n"
     ]
    }
   ],
   "source": [
    "# Example of a simple if statement\n",
    "x = 10\n",
    "if x > 5:\n",
    "    print(\"x is greater than 5\")\n",
    "print(\"Google\")  # This Statement is Outside of block so it will printed Without Checking Condition True or False."
   ]
  },
  {
   "cell_type": "markdown",
   "id": "2cb1cfcf-4a9f-4fff-bc38-4f98521a6507",
   "metadata": {},
   "source": [
    "**Example 2 : Example of an `if` statement with a false condition**"
   ]
  },
  {
   "cell_type": "code",
   "execution_count": 133,
   "id": "f53d8145-110c-44dd-96da-5a81ea41b7c5",
   "metadata": {},
   "outputs": [],
   "source": [
    "x = 3\n",
    "if x > 5:\n",
    "    print(\"x is greater than 5\")\n",
    "            \n",
    "# In this case, the condition x > 5 is False because 3 is not greater than 5. Therefore, the code block is not executed, and there is no output."
   ]
  },
  {
   "cell_type": "markdown",
   "id": "fa063c9a-1ef1-4cc5-ab8e-a0d5b26be698",
   "metadata": {},
   "source": [
    "**Example 3 : Example of an `if` statement with a false condition & outside block**"
   ]
  },
  {
   "cell_type": "code",
   "execution_count": 136,
   "id": "f0c1a422-c173-4637-8a4f-83df582f8c93",
   "metadata": {},
   "outputs": [
    {
     "name": "stdout",
     "output_type": "stream",
     "text": [
      "Google\n"
     ]
    }
   ],
   "source": [
    "y=20\n",
    "if y<0:\n",
    "    print(\"Python \")\n",
    "    print(\"Data Science\")\n",
    "    # Here y is greater than 0 hence Condition is false. Therefore both Statement failed\n",
    "print(\"Google\")  # This Statement is Outside of block so it will printed Without Checking Condition True or False."
   ]
  },
  {
   "cell_type": "markdown",
   "id": "8848ad01-ea3e-461e-9471-0668d2a3ab84",
   "metadata": {},
   "source": [
    "<h4 style=\"color:#219759 ; font-weight: bold;\">Comparison Operators :</h4>\n",
    "\n",
    "You can use various comparison operators to form conditions:\n",
    "\n",
    "1. `==` : equal to\n",
    "2. `!=` : not equal to\n",
    "3. `>`  : greater than\n",
    "4. `<`  : less than\n",
    "5. `>=` : Greater than or equal to\n",
    "6. `<=` : lesser than or equal to"
   ]
  },
  {
   "cell_type": "markdown",
   "id": "3c85a006-0b2c-44c0-b8f6-ccdcc64e6e1e",
   "metadata": {},
   "source": [
    "**Example 4: Using Different Comparison Operators**"
   ]
  },
  {
   "cell_type": "code",
   "execution_count": 140,
   "id": "9937c01f-334f-45a9-9eba-261a85353ef2",
   "metadata": {},
   "outputs": [
    {
     "name": "stdout",
     "output_type": "stream",
     "text": [
      "x is equal to 10\n",
      "x is not equal to 5\n",
      "x is greater than or equal to 5\n",
      "x is less than or equal to 10\n"
     ]
    }
   ],
   "source": [
    "x = 10\n",
    "\n",
    "if x == 10:\n",
    "    print(\"x is equal to 10\")\n",
    "\n",
    "if x != 5:\n",
    "    print(\"x is not equal to 5\")\n",
    "\n",
    "if x >= 5:\n",
    "    print(\"x is greater than or equal to 5\")\n",
    "\n",
    "if x <= 10:\n",
    "    print(\"x is less than or equal to 10\")"
   ]
  },
  {
   "cell_type": "markdown",
   "id": "a4d070fd-c269-41e2-90c2-dd635f66a91c",
   "metadata": {},
   "source": [
    "<h4 style=\"color:#219759 ; font-weight: bold;\">Logical Operators :</h4>\n",
    "\n",
    "- `and` : Returns `True` if both condition are `True`\n",
    "- `or`  : Returns `True` if at least one condition is `True`\n",
    "- `not` : Inverts the Boolean value of the condition\n"
   ]
  },
  {
   "cell_type": "markdown",
   "id": "66c9a5e8-a94b-4258-8d68-2c63aa465976",
   "metadata": {},
   "source": [
    "**Example 5: `if` statement Using Logical Operators**"
   ]
  },
  {
   "cell_type": "code",
   "execution_count": 144,
   "id": "250405e5-7a51-44fb-b3c6-08c197dadc27",
   "metadata": {},
   "outputs": [
    {
     "name": "stdout",
     "output_type": "stream",
     "text": [
      "Both conditions are True\n",
      "At least one condition is True\n",
      "The condition is False\n"
     ]
    }
   ],
   "source": [
    "# Examples using logical operators\n",
    "x = 10\n",
    "y = 20\n",
    "\n",
    "if x > 5 and y > 15:\n",
    "    print(\"Both conditions are True\")\n",
    "\n",
    "if x > 15 or y > 15:\n",
    "    print(\"At least one condition is True\")\n",
    "\n",
    "if not x > 15:\n",
    "    print(\"The condition is False\")"
   ]
  },
  {
   "cell_type": "markdown",
   "id": "8d73e9c2-d363-47d4-874f-11fe64ad0412",
   "metadata": {},
   "source": [
    "**Example 6: Nested `if` Statements**\n",
    "- nest if statements inside other if statements to check multiple conditions sequentially."
   ]
  },
  {
   "cell_type": "code",
   "execution_count": 147,
   "id": "7e05c48a-9c69-493e-a58d-7b47b4213e6d",
   "metadata": {},
   "outputs": [
    {
     "name": "stdout",
     "output_type": "stream",
     "text": [
      "x is greater than 5 and y is greater than 15\n"
     ]
    }
   ],
   "source": [
    "# Example of nested if statements\n",
    "x = 10\n",
    "y = 20\n",
    "\n",
    "if x > 5:\n",
    "    if y > 15:\n",
    "        print(\"x is greater than 5 and y is greater than 15\")"
   ]
  },
  {
   "cell_type": "markdown",
   "id": "9ad844aa-6d10-4047-9927-cf49d106df00",
   "metadata": {},
   "source": [
    "In this example, the outer if statement checks if x > 5. If this condition is True, the inner if statement checks if y > 15. Both conditions are True, so the output is: x is greater than 5 and y is greater than 15."
   ]
  },
  {
   "cell_type": "markdown",
   "id": "155a9dc9-6ddd-4794-8d8f-891cf606a94f",
   "metadata": {},
   "source": [
    "**Example 7: Using `if` with User Input**"
   ]
  },
  {
   "cell_type": "code",
   "execution_count": 151,
   "id": "4538f3a7-c21f-480e-8d04-513563018620",
   "metadata": {},
   "outputs": [
    {
     "name": "stdin",
     "output_type": "stream",
     "text": [
      "Enter a number:  25\n"
     ]
    },
    {
     "name": "stdout",
     "output_type": "stream",
     "text": [
      "The number is positive\n"
     ]
    }
   ],
   "source": [
    "user_input = input(\"Enter a number: \")\n",
    "number = int(user_input)\n",
    "\n",
    "if number > 0:\n",
    "    print(\"The number is positive\")"
   ]
  },
  {
   "cell_type": "markdown",
   "id": "66ce94ed-ebba-4e92-92e9-e79656b115e6",
   "metadata": {},
   "source": [
    "***"
   ]
  },
  {
   "cell_type": "markdown",
   "id": "45b4eea9-f430-4743-b27f-6ccaac6ca1ed",
   "metadata": {},
   "source": [
    "<h2 style=\"color:#0d81cc ; font-weight: bold;\">2.if-else :</h2>\n",
    "\n",
    "- The if-else statement in Python allows you to execute one block of code if a condition is True and another block of code if the condition is False.\n",
    "\n",
    "**Basic Syntax :**\n",
    "\n",
    "if condition:\n",
    "   >  block of code to execute if condition is True\n",
    "\n",
    "else: \n",
    "> block of code to execute if condition is False"
   ]
  },
  {
   "cell_type": "markdown",
   "id": "2fca81bc-cc28-428b-8b0f-aba580934a28",
   "metadata": {},
   "source": [
    "**Example 1 : Simple `if-else` Statement**"
   ]
  },
  {
   "cell_type": "code",
   "execution_count": 178,
   "id": "cd280c32-613d-47bd-897b-593e1b82b36b",
   "metadata": {},
   "outputs": [
    {
     "name": "stdout",
     "output_type": "stream",
     "text": [
      "x is not greater than 5\n"
     ]
    }
   ],
   "source": [
    "x = 3\n",
    "if x > 5:\n",
    "    print(\"x is greater than 5\")\n",
    "else:\n",
    "    print(\"x is not greater than 5\")"
   ]
  },
  {
   "cell_type": "markdown",
   "id": "ec368f67-ce0a-4331-8ca8-17b38f501eb6",
   "metadata": {},
   "source": [
    "- In this example, the condition x > 5 is False because 3 is not greater than 5. \n",
    "- Therefore, the code block under the else statement is executed,\n",
    "- and you will see the output: x is not greater than 5."
   ]
  },
  {
   "cell_type": "markdown",
   "id": "6a00838b-cdf6-4e8c-9e66-715d3665d444",
   "metadata": {},
   "source": [
    "**Example 2 : `if-else` with a `True` Condition**"
   ]
  },
  {
   "cell_type": "code",
   "execution_count": 182,
   "id": "e28c055e-5fd4-4253-b0f9-e24e9f5799db",
   "metadata": {},
   "outputs": [
    {
     "name": "stdout",
     "output_type": "stream",
     "text": [
      "x is greater than 5\n"
     ]
    }
   ],
   "source": [
    "x = 10\n",
    "if x > 5:\n",
    "    print(\"x is greater than 5\")\n",
    "else:\n",
    "    print(\"x is not greater than 5\")"
   ]
  },
  {
   "cell_type": "markdown",
   "id": "8859be7b-943f-4069-a383-344c358b9c9a",
   "metadata": {},
   "source": [
    "- In this case, the condition x > 5 is True because 10 is greater than 5. \n",
    "- Therefore, the code block under the if statement is executed,\n",
    "- and the output is: x is greater than 5."
   ]
  },
  {
   "cell_type": "markdown",
   "id": "4ece6695-eb48-41e5-a55c-3b30e3f3fb1c",
   "metadata": {},
   "source": [
    "<h4 style=\"color:#219759 ; font-weight: bold;\">Comparison Operators :</h4>\n",
    "\n",
    "You can use various comparison operators to form conditions:\n",
    "\n",
    "1. `==` : equal to\n",
    "2. `!=` : not equal to\n",
    "3. `>`  : greater than\n",
    "4. `<`  : less than\n",
    "5. `>=` : Greater than or equal to\n",
    "6. `<=` : lesser than or equal to"
   ]
  },
  {
   "cell_type": "markdown",
   "id": "f8ca6b43-9310-4803-9614-6d4d6feac082",
   "metadata": {},
   "source": [
    "**Example 3 : `if-else` with a different Comparison Operators Condition**"
   ]
  },
  {
   "cell_type": "code",
   "execution_count": 209,
   "id": "512cf555-ee18-4862-b269-3cb3616ebeb4",
   "metadata": {},
   "outputs": [
    {
     "name": "stdout",
     "output_type": "stream",
     "text": [
      "x is equal to 10\n",
      "x is not equal to 5\n",
      "x is greater than or equal to 5\n",
      "x is less than or equal to 10\n"
     ]
    }
   ],
   "source": [
    "x = 10\n",
    "\n",
    "if x == 10:\n",
    "    print(\"x is equal to 10\")\n",
    "else:\n",
    "    print(\"x is not equal to 10\")\n",
    "\n",
    "if x != 5:\n",
    "    print(\"x is not equal to 5\")\n",
    "else:\n",
    "    print(\"x is equal to 5\")\n",
    "\n",
    "if x >= 5:\n",
    "    print(\"x is greater than or equal to 5\")\n",
    "else:\n",
    "    print(\"x is less than 5\")\n",
    "\n",
    "if x <= 10:\n",
    "    print(\"x is less than or equal to 10\")\n",
    "else:\n",
    "    print(\"x is greater than 10\")"
   ]
  },
  {
   "cell_type": "markdown",
   "id": "b1984b88-6985-4f75-82af-8444c901e73c",
   "metadata": {},
   "source": [
    "<h4 style=\"color:#219759 ; font-weight: bold;\">Logical Operators :</h4>\n",
    "\n",
    "- `and` : Returns `True` if both condition are `True`\n",
    "- `or`  : Returns `True` if at least one condition is `True`\n",
    "- `not` : Inverts the Boolean value of the condition\n"
   ]
  },
  {
   "cell_type": "markdown",
   "id": "432469e3-0256-43f0-96fc-913fb33acf0d",
   "metadata": {},
   "source": [
    "**Example 4 : `if-else` with a different Logical Operators Condition**"
   ]
  },
  {
   "cell_type": "code",
   "execution_count": 213,
   "id": "92051e2c-ee7c-4834-acc5-7242a8e760ef",
   "metadata": {},
   "outputs": [
    {
     "name": "stdout",
     "output_type": "stream",
     "text": [
      "Both conditions are True\n",
      "At least one condition is True\n",
      "The condition is False\n"
     ]
    }
   ],
   "source": [
    "# Examples using logical operators in if-else\n",
    "x = 10\n",
    "y = 20\n",
    "\n",
    "if x > 5 and y > 15:\n",
    "    print(\"Both conditions are True\")\n",
    "else:\n",
    "    print(\"At least one condition is False\")\n",
    "\n",
    "if x > 15 or y > 15:\n",
    "    print(\"At least one condition is True\")\n",
    "else:\n",
    "    print(\"Both conditions are False\")\n",
    "\n",
    "if not x > 15:\n",
    "    print(\"The condition is False\")\n",
    "else:\n",
    "    print(\"The condition is True\")"
   ]
  },
  {
   "cell_type": "markdown",
   "id": "37e27d1a-441e-4daf-ab95-38242cb1e837",
   "metadata": {},
   "source": [
    "**Example 5: `Nested if-else` Statements**"
   ]
  },
  {
   "cell_type": "code",
   "execution_count": 216,
   "id": "877f0bcc-430d-44e0-86dd-55ac03fbd6db",
   "metadata": {},
   "outputs": [
    {
     "name": "stdout",
     "output_type": "stream",
     "text": [
      "x is greater than 5 and y is greater than 15\n"
     ]
    }
   ],
   "source": [
    "x = 10\n",
    "y = 20\n",
    "\n",
    "if x > 5:\n",
    "    if y > 15:\n",
    "        print(\"x is greater than 5 and y is greater than 15\")\n",
    "    else:\n",
    "        print(\"x is greater than 5 but y is not greater than 15\")\n",
    "else:\n",
    "    print(\"x is not greater than 5\")"
   ]
  },
  {
   "cell_type": "markdown",
   "id": "3e07c4af-1dfa-4020-9f95-94f24462b6df",
   "metadata": {},
   "source": [
    "- In this example, the outer if statement checks if x > 5.\n",
    "- If this condition is True, the inner if statement checks if y > 15.\n",
    "- Both conditions are True,\n",
    "- so the output is: x is greater than 5 and y is greater than 15."
   ]
  },
  {
   "cell_type": "markdown",
   "id": "7deab871-02d8-4d93-9265-8073692919b4",
   "metadata": {},
   "source": [
    "**Example 6: Using `if-else` with User Input**"
   ]
  },
  {
   "cell_type": "code",
   "execution_count": 220,
   "id": "614ff89b-afac-48b7-9b95-3ae3a05b4755",
   "metadata": {},
   "outputs": [
    {
     "name": "stdin",
     "output_type": "stream",
     "text": [
      "Enter a number:  10\n"
     ]
    },
    {
     "name": "stdout",
     "output_type": "stream",
     "text": [
      "The number is positive\n"
     ]
    }
   ],
   "source": [
    "user_input = input(\"Enter a number: \")\n",
    "number = int(user_input)\n",
    "\n",
    "if number > 0:\n",
    "    print(\"The number is positive\")\n",
    "else:\n",
    "    print(\"The number is zero or negative\")"
   ]
  },
  {
   "cell_type": "markdown",
   "id": "08daffb9-92a3-4a26-9222-ccd250cbdd31",
   "metadata": {},
   "source": [
    "***"
   ]
  },
  {
   "cell_type": "markdown",
   "id": "51387262-27f8-4d98-8e30-631c8ce1e1c4",
   "metadata": {},
   "source": [
    "<h2 style=\"color:#0d81cc ; font-weight: bold;\">3.if-elif :</h2>\n",
    "\n",
    "- The if-elif statement in Python allows you to check multiple conditions in sequence.\n",
    "- The elif keyword stands for \"else if,\" and it provides a way to add multiple conditions to your conditional statements.\n",
    "\n",
    "**Basic Syntax :**\n",
    "\n",
    "if condition1:\n",
    ">    block of code to execute if condition1 is True\n",
    "\n",
    "elif condition2:\n",
    ">    block of code to execute if condition2 is True\n",
    "\n",
    "elif condition3:\n",
    ">    block of code to execute if condition3 is True\n",
    "\n",
    "else:\n",
    ">    block of code to execute if all conditions are False"
   ]
  },
  {
   "cell_type": "markdown",
   "id": "0a286d9c-f9ea-4ab3-9634-a1f871409830",
   "metadata": {},
   "source": [
    "**Example 1: Simple `if-elif-else` Statement**"
   ]
  },
  {
   "cell_type": "code",
   "execution_count": null,
   "id": "c18a0e26-387b-4b02-9837-a68ad13b6da6",
   "metadata": {},
   "outputs": [],
   "source": [
    "x = 15\n",
    "\n",
    "if x < 10:\n",
    "    print(\"x is less than 10\")\n",
    "elif x < 20:\n",
    "    print(\"x is less than 20 but greater than or equal to 10\")\n",
    "else:\n",
    "    print(\"x is greater than or equal to 20\")"
   ]
  },
  {
   "cell_type": "markdown",
   "id": "1457f05c-cee6-49f3-8fe4-bf1bbd92410f",
   "metadata": {},
   "source": [
    "In this example, the program checks the conditions in sequence:\n",
    "- x < 10 (False)\n",
    "- x < 20 (True)\n",
    "- Since the second condition is True,\n",
    "- the corresponding block of code is executed,\n",
    "- and you will see the output: x is less than 20 but greater than or equal to 10."
   ]
  },
  {
   "cell_type": "markdown",
   "id": "48046636-432c-4185-a6df-3895f1058615",
   "metadata": {},
   "source": [
    "**Example 2: Multiple `elif` Statements**"
   ]
  },
  {
   "cell_type": "code",
   "execution_count": 232,
   "id": "103b0846-548e-473e-813c-5bb20b78bdb2",
   "metadata": {},
   "outputs": [
    {
     "name": "stdout",
     "output_type": "stream",
     "text": [
      "x is 40 or more\n"
     ]
    }
   ],
   "source": [
    "x = 50\n",
    "\n",
    "if x < 10:\n",
    "    print(\"x is less than 10\")\n",
    "elif x < 20:\n",
    "    print(\"x is less than 20 but greater than or equal to 10\")\n",
    "elif x < 30:\n",
    "    print(\"x is less than 30 but greater than or equal to 20\")\n",
    "elif x < 40:\n",
    "    print(\"x is less than 40 but greater than or equal to 30\")\n",
    "else:\n",
    "    print(\"x is 40 or more\")"
   ]
  },
  {
   "cell_type": "markdown",
   "id": "d4115274-c5dc-46da-a78d-aea7c0bf59ee",
   "metadata": {},
   "source": [
    "In this example, none of the if or elif conditions are True, so the else block is executed, \n",
    "and the output is: x is 40 or more."
   ]
  },
  {
   "cell_type": "markdown",
   "id": "696355c1-0051-47f6-868e-c6ae1701b5c0",
   "metadata": {},
   "source": [
    "<h4 style=\"color:#219759 ; font-weight: bold;\">Comparison Operators :</h4>\n",
    "\n",
    "You can use various comparison operators to form conditions:\n",
    "\n",
    "1. `==` : equal to\n",
    "2. `!=` : not equal to\n",
    "3. `>`  : greater than\n",
    "4. `<`  : less than\n",
    "5. `>=` : Greater than or equal to\n",
    "6. `<=` : lesser than or equal to"
   ]
  },
  {
   "cell_type": "markdown",
   "id": "a861eb21-534f-4b47-94c7-4a9692e8154d",
   "metadata": {},
   "source": [
    "**Example 3: Using Different Comparison Operators in `if-elif`**"
   ]
  },
  {
   "cell_type": "code",
   "execution_count": 243,
   "id": "def268a1-94dd-43c1-8a17-43b69db302ca",
   "metadata": {},
   "outputs": [
    {
     "name": "stdout",
     "output_type": "stream",
     "text": [
      "x is not equal to 20\n"
     ]
    }
   ],
   "source": [
    "x = 15\n",
    "\n",
    "if x == 10:\n",
    "    print(\"x is equal to 10\")\n",
    "elif x != 20:\n",
    "    print(\"x is not equal to 20\")\n",
    "elif x > 5:\n",
    "    print(\"x is greater than 5\")\n",
    "elif x < 30:\n",
    "    print(\"x is less than 30\")\n",
    "else:\n",
    "    print(\"None of the conditions are met\")"
   ]
  },
  {
   "cell_type": "markdown",
   "id": "890ffbd5-305e-4161-b098-e74c5bb9bdbb",
   "metadata": {},
   "source": [
    "<h4 style=\"color:#219759 ; font-weight: bold;\">Logical Operators :</h4>\n",
    "\n",
    "- `and` : Returns `True` if both condition are `True`\n",
    "- `or`  : Returns `True` if at least one condition is `True`\n",
    "- `not` : Inverts the Boolean value of the condition\n"
   ]
  },
  {
   "cell_type": "markdown",
   "id": "578bac04-b8da-4e4b-844a-10134541dec5",
   "metadata": {},
   "source": [
    "**Example 4: Using Logical Operators in `if-elif`**"
   ]
  },
  {
   "cell_type": "code",
   "execution_count": 246,
   "id": "09db4db3-b3e6-4743-b465-a3795ec76744",
   "metadata": {},
   "outputs": [
    {
     "name": "stdout",
     "output_type": "stream",
     "text": [
      "At least one condition is True\n"
     ]
    }
   ],
   "source": [
    "x = 10\n",
    "y = 20\n",
    "\n",
    "if x > 15 and y > 15:\n",
    "    print(\"Both conditions are True\")\n",
    "elif x > 5 or y > 25:\n",
    "    print(\"At least one condition is True\")\n",
    "elif not x > 15:\n",
    "    print(\"x is not greater than 15\")\n",
    "else:\n",
    "    print(\"None of the conditions are met\")"
   ]
  },
  {
   "cell_type": "markdown",
   "id": "38e1d9b8-b367-4280-80a0-6b4c6a43549f",
   "metadata": {},
   "source": [
    "**Example 5: Nested `if-elif` Statements**"
   ]
  },
  {
   "cell_type": "code",
   "execution_count": 249,
   "id": "90c59981-ed91-49e2-a4fe-88cff358d596",
   "metadata": {},
   "outputs": [
    {
     "name": "stdout",
     "output_type": "stream",
     "text": [
      "x is greater than 5 and y is greater than 15\n"
     ]
    }
   ],
   "source": [
    "x = 10\n",
    "y = 20\n",
    "\n",
    "if x > 5:\n",
    "    if y > 15:\n",
    "        print(\"x is greater than 5 and y is greater than 15\")\n",
    "    elif y > 10:\n",
    "        print(\"x is greater than 5 and y is greater than 10 but not greater than 15\")\n",
    "    else:\n",
    "        print(\"x is greater than 5 and y is 10 or less\")\n",
    "else:\n",
    "    print(\"x is not greater than 5\")"
   ]
  },
  {
   "cell_type": "markdown",
   "id": "c6cebd30-6638-47d0-9ef6-a5e5a59b229d",
   "metadata": {},
   "source": [
    "- In this example, the outer if statement checks if x > 5. \n",
    "- If this condition is True, the inner if-elif statement checks the conditions for y"
   ]
  },
  {
   "cell_type": "markdown",
   "id": "0cffb11b-6456-4e2e-8b45-9efbf0169ad5",
   "metadata": {},
   "source": [
    "**Example 6: Using `if-elif` with User Input**"
   ]
  },
  {
   "cell_type": "code",
   "execution_count": 261,
   "id": "e076ceb9-ea11-4007-94d3-5d9a949999b6",
   "metadata": {},
   "outputs": [
    {
     "name": "stdin",
     "output_type": "stream",
     "text": [
      "Enter a number:  -1\n"
     ]
    },
    {
     "name": "stdout",
     "output_type": "stream",
     "text": [
      "The number is negative\n"
     ]
    }
   ],
   "source": [
    "user_input = (input(\"Enter a number: \"))\n",
    "number = int(user_input)\n",
    "\n",
    "if number > 0:\n",
    "    print(\"The number is positive\")\n",
    "elif number < 0:\n",
    "    print(\"The number is negative\")\n",
    "else:\n",
    "    print(\"The number is zero\")"
   ]
  }
 ],
 "metadata": {
  "kernelspec": {
   "display_name": "Python 3 (ipykernel)",
   "language": "python",
   "name": "python3"
  },
  "language_info": {
   "codemirror_mode": {
    "name": "ipython",
    "version": 3
   },
   "file_extension": ".py",
   "mimetype": "text/x-python",
   "name": "python",
   "nbconvert_exporter": "python",
   "pygments_lexer": "ipython3",
   "version": "3.11.7"
  }
 },
 "nbformat": 4,
 "nbformat_minor": 5
}
