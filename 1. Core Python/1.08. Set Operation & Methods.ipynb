{
 "cells": [
  {
   "cell_type": "markdown",
   "id": "7a2e848d-7acd-4b80-a283-d2fb2937d4f1",
   "metadata": {},
   "source": [
    "# 1.08"
   ]
  },
  {
   "cell_type": "code",
   "execution_count": null,
   "id": "1b4734b8-0833-41cd-a46c-f2778eb47963",
   "metadata": {},
   "outputs": [],
   "source": []
  }
 ],
 "metadata": {
  "kernelspec": {
   "display_name": "Python 3 (ipykernel)",
   "language": "python",
   "name": "python3"
  },
  "language_info": {
   "codemirror_mode": {
    "name": "ipython",
    "version": 3
   },
   "file_extension": ".py",
   "mimetype": "text/x-python",
   "name": "python",
   "nbconvert_exporter": "python",
   "pygments_lexer": "ipython3",
   "version": "3.11.7"
  }
 },
 "nbformat": 4,
 "nbformat_minor": 5
}
