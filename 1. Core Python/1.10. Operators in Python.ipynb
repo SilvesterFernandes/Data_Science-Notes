{
 "cells": [
  {
   "cell_type": "markdown",
   "id": "c3378fd7-e8a3-46b4-b0c6-149ce98bd48d",
   "metadata": {},
   "source": [
    "***"
   ]
  },
  {
   "cell_type": "markdown",
   "id": "4954fd02-1b6b-4e4d-aa08-184a3d48be86",
   "metadata": {},
   "source": [
    "\n",
    "\n",
    "<h1 style=\"color:#0079D9; font-weight: bold;\">1.10 Operators in Python</h1>\n",
    "\n",
    "\n"
   ]
  },
  {
   "cell_type": "markdown",
   "id": "55d02e98-d505-4bb1-96d4-d34db1ebe12e",
   "metadata": {},
   "source": [
    "***"
   ]
  },
  {
   "cell_type": "markdown",
   "id": "fa5f788d-090d-42ed-8784-4d5e9794e592",
   "metadata": {},
   "source": [
    "<h3 style=\"color:#3D3297; font-weight: bold;\">Introduction :</h3> \n",
    "\n",
    "- In Python, operators are special symbols used to perform operations on variables and values. They are fundamental building blocks in programming, allowing you to manipulate data and control the flow of your programs. Operators can be categorized into several types, each serving a specific purpose.\n",
    "\n",
    "\n",
    "***\n",
    "<h4 style=\"color:#FF5733; font-weight: bold;\">Categories of Operators</h4>\n",
    "\n",
    "<h5 style=\"color:#0079D9\">1.Arithmetic Operators:</h5>\n",
    "<p>Perform mathematical operations such as addition, subtraction, multiplication, and division.</p>\n",
    "\n",
    "<h5 style=\"color:#0079D9\">2.Comparison Operators:</h5>\n",
    "<p>Compare two values and return a Boolean result (True or False). These operators are used to evaluate conditions.</p>\n",
    "\n",
    "<h5 style=\"color:#0079D9\">3.Logical Operators:</h5>\n",
    "<p>Combine Boolean values or expressions, enabling complex conditional checks.</p>\n",
    "\n",
    "<h5 style=\"color:#0079D9\">4.Assignment Operators:</h5>\n",
    "<p>Assign values to variables and can also perform operations on the assigned value.</p>\n",
    "\n",
    "<h5 style=\"color:#0079D9\">5.Bitwise Operators:</h5>\n",
    "<p>Perform operations on binary representations of integers, such as bitwise AND, OR, and XOR.</p>\n",
    "\n",
    "<h5 style=\"color:#0079D9\">6.Membership Operators:</h5>\n",
    "<p>Test for membership in sequences (like lists, tuples, or strings) to check if a value exists within a sequence.</p>\n",
    "\n",
    "<h5 style=\"color:#0079D9\">7.Identity Operators:</h5>\n",
    "<p>Compare the memory locations of two objects to determine if they are the same object in memory.</p>\n"
   ]
  },
  {
   "cell_type": "markdown",
   "id": "1dc38487-411b-4442-9841-3bec1b9f6bd0",
   "metadata": {},
   "source": [
    "***"
   ]
  },
  {
   "cell_type": "markdown",
   "id": "c48449b9-19a8-42dc-ae78-961e564d75cb",
   "metadata": {},
   "source": [
    "\n"
   ]
  },
  {
   "cell_type": "markdown",
   "id": "ac344a42-86f4-4afe-a9ba-ed7829e4f914",
   "metadata": {},
   "source": [
    "<h3 style=\"color:#0079D9; font-weight:bold\">1. Arithmetic Operators:</h3>\n",
    "<p>        Arithmetic operators are used to perform mathematical operations on numerical values. They are essential for performing calculations and manipulating data in various mathematical contexts. Here are the main arithmetic operators in Python:</p>\n",
    "\n",
    "\n",
    "| Operator | Description           | Example          |\n",
    "|:--------:|:---------------------:|:----------------:|\n",
    "| **+**      | Addition              | x + y          |\n",
    "| **-**      | Subtraction           | x - y          |\n",
    "| *      | Multiplication        | x * y          |\n",
    "| **/**      | Division              | x / y         |\n",
    "| **%**      | Modulus (remainder)   | x % y          |\n",
    "| **     | Exponentiation        | x ** y        |\n",
    "|**//**     | Floor Division        | x // y         |\n",
    "\n",
    "<ul>\n",
    "  <li><strong>Addition ( + )</strong>: Adds two values. For example, <code>5 + 3</code> results in <code>8</code>.</li>\n",
    "    \n",
    "  <li><strong>Subtraction ( - )</strong>: Subtracts one value from another. For example, <code>5 - 3</code> results in <code>2</code>.</li>\n",
    "  \n",
    "  <li><strong>Multiplication ( * )</strong>: Multiplies two values. For example, <code>5 * 3</code> results in <code>15</code>.</li>\n",
    "  \n",
    "  <li><strong>Division ( / )</strong>: Divides one value by another. This operator always returns a float. For example, <code>5 / 3</code> results in <code>1.6666666666666667</code>.</li>\n",
    "  \n",
    "  <li><strong>Floor Division ( // )</strong>: Divides one value by another and rounds down to the nearest integer. For example, <code>5 // 3</code> \n",
    "results in <code>1</code>.</li>\n",
    "\n",
    "  <li><strong>Modulus ( % )</strong>: Returns the remainder of the division. For example, <code>5 % 3</code> results in <code>2</code>.</li>\n",
    "  \n",
    "  <li><strong>Exponentiation ( ** )</strong>: Raises one value to the power of another. For example, <code>5 ** 3</code> results in <code>125</code>.</li>\n",
    "</ul>\n",
    "\n",
    "***\n",
    "\n",
    "\n",
    "<h5 style=\"color:#CD5C5C; font-weight:bold\">Arithmetic Operators Precedence:</h5>\r\n",
    "\r\n",
    "1. **Parentheses (`()`)** - Highest precedence.\r\n",
    "2. **Exponentiation (`**`)** - Next highest precedence.\r\n",
    "3. **Unary plus and minus (`+x`, `-x`)** - After exponentiation.\r\n",
    "4. **Multiplication (`*`), Division (`/`), Floor Division (`//`), and Modulus (`%`)** - Same precedence, evaluated left to right.\r\n",
    "5. **Addition (`+`) and Subtraction (`-`)** - Lowest precedence, evaluated left to right.\r\n",
    "\r\n",
    "This order determines how Python evaluates expressions with multiple arithmetic operators.\r\n"
   ]
  },
  {
   "cell_type": "markdown",
   "id": "31500c4e-6007-47b5-970c-1aea75e8b1ad",
   "metadata": {},
   "source": [
    "**Examples :**"
   ]
  },
  {
   "cell_type": "markdown",
   "id": "746e8f08-41ff-4bfa-b9a8-08a453dfa4f6",
   "metadata": {},
   "source": [
    "**i) Addition ( + ) :**"
   ]
  },
  {
   "cell_type": "code",
   "execution_count": 71,
   "id": "b487b47e-efef-4f83-aaa6-92c32d4c9c98",
   "metadata": {},
   "outputs": [
    {
     "data": {
      "text/plain": [
       "15"
      ]
     },
     "execution_count": 71,
     "metadata": {},
     "output_type": "execute_result"
    }
   ],
   "source": [
    "10+5"
   ]
  },
  {
   "cell_type": "markdown",
   "id": "4749d780-91ca-4110-b67a-73583040bff0",
   "metadata": {},
   "source": [
    "**ii) Substraction ( - ) :**"
   ]
  },
  {
   "cell_type": "code",
   "execution_count": 74,
   "id": "d0962cf9-91b8-414c-b09b-201b6af39107",
   "metadata": {},
   "outputs": [
    {
     "data": {
      "text/plain": [
       "10"
      ]
     },
     "execution_count": 74,
     "metadata": {},
     "output_type": "execute_result"
    }
   ],
   "source": [
    "20-10"
   ]
  },
  {
   "cell_type": "markdown",
   "id": "6cbb4d74-3b2e-4db8-a11c-ef84a3457967",
   "metadata": {},
   "source": [
    "**iii) Multiplication ( * ) :**"
   ]
  },
  {
   "cell_type": "code",
   "execution_count": 77,
   "id": "d6aa0b31-0eb1-41eb-8663-809ba9620e87",
   "metadata": {},
   "outputs": [
    {
     "data": {
      "text/plain": [
       "100"
      ]
     },
     "execution_count": 77,
     "metadata": {},
     "output_type": "execute_result"
    }
   ],
   "source": [
    "25*4"
   ]
  },
  {
   "cell_type": "markdown",
   "id": "fd436163-b2f1-4564-90e5-45d3c4733d1f",
   "metadata": {},
   "source": [
    "**iv) Division ( / ):**\n",
    "\n",
    "Always Give a output as a float."
   ]
  },
  {
   "cell_type": "code",
   "execution_count": 80,
   "id": "503af663-e89f-4200-9ce9-62dea64a91b0",
   "metadata": {},
   "outputs": [
    {
     "name": "stdout",
     "output_type": "stream",
     "text": [
      "2.5\n",
      "4.0\n"
     ]
    }
   ],
   "source": [
    "a=5/2\n",
    "print(a)\n",
    "b= 8/2\n",
    "print(b)"
   ]
  },
  {
   "cell_type": "markdown",
   "id": "80554da8-41ab-4d17-a0b1-5674ec5a927d",
   "metadata": {},
   "source": [
    "**v) Floor Division ( // ):**\n",
    "\n",
    "Computes only Quotient"
   ]
  },
  {
   "cell_type": "code",
   "execution_count": 85,
   "id": "9dfae814-7757-496a-961f-d4f9004090a2",
   "metadata": {},
   "outputs": [
    {
     "data": {
      "text/plain": [
       "3"
      ]
     },
     "execution_count": 85,
     "metadata": {},
     "output_type": "execute_result"
    }
   ],
   "source": [
    "19//5"
   ]
  },
  {
   "cell_type": "markdown",
   "id": "5d6125c7-abbc-41b5-9e98-dcbf735bfa3b",
   "metadata": {},
   "source": [
    "**vi) Modulus ( % ) :**\n",
    "\n",
    "Computes only remainder"
   ]
  },
  {
   "cell_type": "code",
   "execution_count": 89,
   "id": "95f97fb3-b4fd-4481-b892-e647d1b64d75",
   "metadata": {},
   "outputs": [
    {
     "data": {
      "text/plain": [
       "1"
      ]
     },
     "execution_count": 89,
     "metadata": {},
     "output_type": "execute_result"
    }
   ],
   "source": [
    "26 % 5"
   ]
  },
  {
   "cell_type": "markdown",
   "id": "50b31d6b-5352-4467-9d90-ea67c0fe2340",
   "metadata": {},
   "source": [
    "**vii) Exponent ( ** ) :**\n",
    "\n",
    "Calculates the Power"
   ]
  },
  {
   "cell_type": "code",
   "execution_count": 92,
   "id": "ce1e29cc-01e5-4577-b320-51c9e99f45a6",
   "metadata": {},
   "outputs": [
    {
     "data": {
      "text/plain": [
       "100"
      ]
     },
     "execution_count": 92,
     "metadata": {},
     "output_type": "execute_result"
    }
   ],
   "source": [
    " 10 ** 2"
   ]
  },
  {
   "cell_type": "markdown",
   "id": "93682bef-a950-40c1-84d1-29ced52b70ff",
   "metadata": {},
   "source": [
    "<h4 style=\"color:#615BAE; font-weight:bold\"> Example of Arithmatic Operator Precendence :</h4>"
   ]
  },
  {
   "cell_type": "markdown",
   "id": "5f0804b1-068c-4ede-98b6-9c83ea0dd813",
   "metadata": {},
   "source": [
    "\n",
    "**Consider the following expression:**\n",
    "\n",
    "**8 / 2 * (2 + 2) - 3 ** 2 + 1**"
   ]
  },
  {
   "cell_type": "markdown",
   "id": "32842852-3240-4d7f-84e4-c5e167194a20",
   "metadata": {},
   "source": [
    "Let's break it down step by step according to the operator precedence:"
   ]
  },
  {
   "cell_type": "markdown",
   "id": "40bb7360-3801-4996-bbc3-e0e634354993",
   "metadata": {},
   "source": [
    "**i) Parentheses**: \n",
    "\n",
    "Perform operations inside parentheses first.\n",
    " \n",
    "   \\[ (2 + 2) = 4 \\]"
   ]
  },
  {
   "cell_type": "markdown",
   "id": "5bd6c970-035d-44ac-9537-a4531aa93ef6",
   "metadata": {},
   "source": [
    "\n",
    "Now,\n",
    "\n",
    "8/2*4-3**2+1"
   ]
  },
  {
   "cell_type": "markdown",
   "id": "2aaf77ac-0cdd-415c-8b5c-ac5b5f2cdbb9",
   "metadata": {},
   "source": [
    "**ii) Exponentiation**: \n",
    "\n",
    "Compute the exponentiation next.\n",
    "   \n",
    "   \\[ 3 ** 2 = 9 \\]"
   ]
  },
  {
   "cell_type": "markdown",
   "id": "0882eb15-68f9-4d21-b269-0fe8218cbbeb",
   "metadata": {},
   "source": [
    "Now,\n",
    "\n",
    "8/2*4-9+1"
   ]
  },
  {
   "cell_type": "markdown",
   "id": "67e9e87f-4d1f-41a1-83a5-db1c29a31e0b",
   "metadata": {},
   "source": [
    "**iii) Multiplication and Division**: \n",
    "\n",
    "Perform multiplication and division from left to right.\n",
    "   \n",
    "   \\[ 8 / 2 = 4 \\]\n",
    "  \n",
    "   \\[ 4 * 4 = 16 \\]"
   ]
  },
  {
   "cell_type": "markdown",
   "id": "06271b25-4006-4e8b-8da8-844b6ce12fcd",
   "metadata": {},
   "source": [
    "4*4-9+1\n",
    "\n",
    "Now,\n",
    "\n",
    "16-9+1\n"
   ]
  },
  {
   "cell_type": "markdown",
   "id": "5d6e080f-e776-4f45-be4d-e1f6ef36551c",
   "metadata": {},
   "source": [
    "**iv) Addition and Subtraction**: \n",
    "\n",
    "Finally, perform addition and subtraction from left to right.\n",
    "  \n",
    "   \\[ 16 - 9 = 7 \\]\n",
    "   \n",
    "   \\[ 7 + 1 = 8 \\]\n"
   ]
  },
  {
   "cell_type": "code",
   "execution_count": 193,
   "id": "32d28fba-a3e3-4c75-9eca-d530557a10d6",
   "metadata": {},
   "outputs": [
    {
     "data": {
      "text/plain": [
       "8.0"
      ]
     },
     "execution_count": 193,
     "metadata": {},
     "output_type": "execute_result"
    }
   ],
   "source": [
    "8 / 2 * (2 + 2) - 3 ** 2 + 1"
   ]
  },
  {
   "cell_type": "markdown",
   "id": "2e005b59-a3a7-4793-80ab-6c927727a34c",
   "metadata": {},
   "source": [
    "So, the result of the expression \\( 8 / 2 * (2 + 2) - 3 ** 2 + 1 \\) is **8**."
   ]
  },
  {
   "cell_type": "code",
   "execution_count": null,
   "id": "479df0d5-ca17-49b6-b1f9-292093fb9207",
   "metadata": {},
   "outputs": [],
   "source": []
  }
 ],
 "metadata": {
  "kernelspec": {
   "display_name": "Python 3 (ipykernel)",
   "language": "python",
   "name": "python3"
  },
  "language_info": {
   "codemirror_mode": {
    "name": "ipython",
    "version": 3
   },
   "file_extension": ".py",
   "mimetype": "text/x-python",
   "name": "python",
   "nbconvert_exporter": "python",
   "pygments_lexer": "ipython3",
   "version": "3.11.7"
  }
 },
 "nbformat": 4,
 "nbformat_minor": 5
}
